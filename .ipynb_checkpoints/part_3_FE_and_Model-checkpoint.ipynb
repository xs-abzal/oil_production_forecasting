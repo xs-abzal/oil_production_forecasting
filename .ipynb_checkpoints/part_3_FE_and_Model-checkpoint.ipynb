{
 "cells": [
  {
   "cell_type": "markdown",
   "metadata": {},
   "source": [
    "## Oil and Gas Production Forecast\n",
    "### Part_3.\n",
    "### 1.1 Import Librries"
   ]
  },
  {
   "cell_type": "code",
   "execution_count": 1,
   "metadata": {},
   "outputs": [],
   "source": [
    "import pandas as pd\n",
    "import numpy as np\n",
    "import warnings\n",
    "\n",
    "from  datetime import datetime, timedelta\n",
    "from sklearn.preprocessing import LabelEncoder,MinMaxScaler\n",
    "import category_encoders as ce\n",
    "import matplotlib.pyplot as plt\n",
    "import gc\n",
    "%matplotlib inline\n",
    "warnings.filterwarnings('ignore')"
   ]
  },
  {
   "cell_type": "markdown",
   "metadata": {},
   "source": [
    "### 1.2 Read in data"
   ]
  },
  {
   "cell_type": "code",
   "execution_count": 2,
   "metadata": {},
   "outputs": [],
   "source": [
    "fld = pd.read_csv('data/fld.csv')"
   ]
  },
  {
   "cell_type": "code",
   "execution_count": 3,
   "metadata": {},
   "outputs": [
    {
     "data": {
      "text/plain": [
       "11"
      ]
     },
     "execution_count": 3,
     "metadata": {},
     "output_type": "execute_result"
    }
   ],
   "source": [
    "df_1 = pd.read_csv('data/df_1.csv')\n",
    "df_2 = pd.read_csv('data/df_2.csv')\n",
    "df_3 = pd.read_csv('data/df_3.csv')\n",
    "df = df_1.append(df_2).append(df_3)\n",
    "del df_1, df_2, df_3\n",
    "gc.collect()"
   ]
  },
  {
   "cell_type": "code",
   "execution_count": 4,
   "metadata": {},
   "outputs": [],
   "source": [
    "df.reset_index(drop=True, inplace=True)"
   ]
  },
  {
   "cell_type": "code",
   "execution_count": 5,
   "metadata": {},
   "outputs": [
    {
     "data": {
      "text/html": [
       "<div>\n",
       "<style scoped>\n",
       "    .dataframe tbody tr th:only-of-type {\n",
       "        vertical-align: middle;\n",
       "    }\n",
       "\n",
       "    .dataframe tbody tr th {\n",
       "        vertical-align: top;\n",
       "    }\n",
       "\n",
       "    .dataframe thead th {\n",
       "        text-align: right;\n",
       "    }\n",
       "</style>\n",
       "<table border=\"1\" class=\"dataframe\">\n",
       "  <thead>\n",
       "    <tr style=\"text-align: right;\">\n",
       "      <th></th>\n",
       "      <th>API Well Number</th>\n",
       "      <th>Year</th>\n",
       "      <th>Operator</th>\n",
       "      <th>OIL (Bbls)</th>\n",
       "      <th>GAS (Mcf)</th>\n",
       "      <th>WATER (Bbls)</th>\n",
       "      <th>Months in Production</th>\n",
       "      <th>Well Type</th>\n",
       "    </tr>\n",
       "  </thead>\n",
       "  <tbody>\n",
       "    <tr>\n",
       "      <td>0</td>\n",
       "      <td>31009019120000</td>\n",
       "      <td>1988</td>\n",
       "      <td>Sager, Howard &amp; Judith</td>\n",
       "      <td>0.0</td>\n",
       "      <td>500.0</td>\n",
       "      <td>0.0</td>\n",
       "      <td>12.0</td>\n",
       "      <td>GD</td>\n",
       "    </tr>\n",
       "    <tr>\n",
       "      <td>1</td>\n",
       "      <td>31009019120000</td>\n",
       "      <td>1989</td>\n",
       "      <td>Sager, Howard &amp; Judith</td>\n",
       "      <td>0.0</td>\n",
       "      <td>500.0</td>\n",
       "      <td>0.0</td>\n",
       "      <td>0.0</td>\n",
       "      <td>GD</td>\n",
       "    </tr>\n",
       "    <tr>\n",
       "      <td>2</td>\n",
       "      <td>31009019120000</td>\n",
       "      <td>1990</td>\n",
       "      <td>Sager, Howard &amp; Judith</td>\n",
       "      <td>0.0</td>\n",
       "      <td>500.0</td>\n",
       "      <td>0.0</td>\n",
       "      <td>12.0</td>\n",
       "      <td>GD</td>\n",
       "    </tr>\n",
       "    <tr>\n",
       "      <td>3</td>\n",
       "      <td>31009019120000</td>\n",
       "      <td>1991</td>\n",
       "      <td>Sager, Howard &amp; Judith</td>\n",
       "      <td>0.0</td>\n",
       "      <td>500.0</td>\n",
       "      <td>0.0</td>\n",
       "      <td>12.0</td>\n",
       "      <td>GD</td>\n",
       "    </tr>\n",
       "    <tr>\n",
       "      <td>121155</td>\n",
       "      <td>31029255050000</td>\n",
       "      <td>2017</td>\n",
       "      <td>U. S. Energy Development Corporation</td>\n",
       "      <td>0.0</td>\n",
       "      <td>2126.0</td>\n",
       "      <td>42.0</td>\n",
       "      <td>7.0</td>\n",
       "      <td>Gas Development</td>\n",
       "    </tr>\n",
       "    <tr>\n",
       "      <td>121156</td>\n",
       "      <td>31029255050000</td>\n",
       "      <td>2018</td>\n",
       "      <td>U. S. Energy Development Corporation</td>\n",
       "      <td>0.0</td>\n",
       "      <td>318.0</td>\n",
       "      <td>45.0</td>\n",
       "      <td>7.0</td>\n",
       "      <td>Gas Development</td>\n",
       "    </tr>\n",
       "    <tr>\n",
       "      <td>121157</td>\n",
       "      <td>31029255050000</td>\n",
       "      <td>2019</td>\n",
       "      <td>U. S. Energy Development Corporation</td>\n",
       "      <td>0.0</td>\n",
       "      <td>2436.0</td>\n",
       "      <td>0.0</td>\n",
       "      <td>12.0</td>\n",
       "      <td>Gas Development</td>\n",
       "    </tr>\n",
       "  </tbody>\n",
       "</table>\n",
       "</div>"
      ],
      "text/plain": [
       "        API Well Number  Year                              Operator  \\\n",
       "0        31009019120000  1988                Sager, Howard & Judith   \n",
       "1        31009019120000  1989                Sager, Howard & Judith   \n",
       "2        31009019120000  1990                Sager, Howard & Judith   \n",
       "3        31009019120000  1991                Sager, Howard & Judith   \n",
       "121155   31029255050000  2017  U. S. Energy Development Corporation   \n",
       "121156   31029255050000  2018  U. S. Energy Development Corporation   \n",
       "121157   31029255050000  2019  U. S. Energy Development Corporation   \n",
       "\n",
       "        OIL (Bbls)  GAS (Mcf)  WATER (Bbls)  Months in Production  \\\n",
       "0              0.0      500.0           0.0                  12.0   \n",
       "1              0.0      500.0           0.0                   0.0   \n",
       "2              0.0      500.0           0.0                  12.0   \n",
       "3              0.0      500.0           0.0                  12.0   \n",
       "121155         0.0     2126.0          42.0                   7.0   \n",
       "121156         0.0      318.0          45.0                   7.0   \n",
       "121157         0.0     2436.0           0.0                  12.0   \n",
       "\n",
       "              Well Type  \n",
       "0                    GD  \n",
       "1                    GD  \n",
       "2                    GD  \n",
       "3                    GD  \n",
       "121155  Gas Development  \n",
       "121156  Gas Development  \n",
       "121157  Gas Development  "
      ]
     },
     "execution_count": 5,
     "metadata": {},
     "output_type": "execute_result"
    }
   ],
   "source": [
    "df.head(4).append(df.tail(3))"
   ]
  },
  {
   "cell_type": "code",
   "execution_count": 6,
   "metadata": {},
   "outputs": [
    {
     "name": "stdout",
     "output_type": "stream",
     "text": [
      "<class 'pandas.core.frame.DataFrame'>\n",
      "RangeIndex: 121158 entries, 0 to 121157\n",
      "Data columns (total 8 columns):\n",
      "API Well Number         121158 non-null int64\n",
      "Year                    121158 non-null int64\n",
      "Operator                121158 non-null object\n",
      "OIL (Bbls)              102545 non-null float64\n",
      "GAS (Mcf)               120678 non-null float64\n",
      "WATER (Bbls)            116452 non-null float64\n",
      "Months in Production    120252 non-null float64\n",
      "Well Type               121158 non-null object\n",
      "dtypes: float64(4), int64(2), object(2)\n",
      "memory usage: 7.4+ MB\n"
     ]
    }
   ],
   "source": [
    "df.info()"
   ]
  },
  {
   "cell_type": "code",
   "execution_count": 7,
   "metadata": {},
   "outputs": [
    {
     "name": "stdout",
     "output_type": "stream",
     "text": [
      "<class 'pandas.core.frame.DataFrame'>\n",
      "RangeIndex: 4717 entries, 0 to 4716\n",
      "Data columns (total 51 columns):\n",
      "API Well Number                   4717 non-null int64\n",
      "County Code                       4717 non-null int64\n",
      "API Hole Number                   4717 non-null int64\n",
      "Sidetrack                         4717 non-null int64\n",
      "Completion                        4717 non-null int64\n",
      "Well Name                         4717 non-null object\n",
      "Company Name                      4689 non-null object\n",
      "Operator Number                   4717 non-null int64\n",
      "Well Type                         4717 non-null object\n",
      "Map Symbol                        4717 non-null object\n",
      "Well Status                       4717 non-null object\n",
      "Status Date                       572 non-null object\n",
      "Permit Application Date           4413 non-null object\n",
      "Permit Issued Date                4455 non-null object\n",
      "Date Spudded                      4629 non-null object\n",
      "Date of Total Depth               4460 non-null object\n",
      "Date Well Completed               4717 non-null object\n",
      "Date Well Plugged                 353 non-null object\n",
      "Date Well Confidentiality Ends    1627 non-null object\n",
      "Confidentiality Code              4717 non-null object\n",
      "Town                              4717 non-null object\n",
      "Quad                              4717 non-null object\n",
      "Quad Section                      4708 non-null object\n",
      "Producing Field                   4717 non-null object\n",
      "Producing Formation               4702 non-null object\n",
      "Financial Security                4717 non-null bool\n",
      "Slant                             4717 non-null object\n",
      "County                            4717 non-null object\n",
      "Region                            4717 non-null float64\n",
      "State Lease                       139 non-null object\n",
      "Proposed Depth, ft                4716 non-null float64\n",
      "Surface Longitude                 4717 non-null float64\n",
      "Surface Latitude                  4717 non-null float64\n",
      "Bottom Hole Longitude             4717 non-null float64\n",
      "Bottom Hole Latitude              4717 non-null float64\n",
      "True Vertical Depth, ft           4717 non-null float64\n",
      "Measured Depth, ft                4717 non-null float64\n",
      "Kickoff, ft                       4717 non-null float64\n",
      "Drilled Depth, ft                 4717 non-null float64\n",
      "Elevation, ft                     4444 non-null float64\n",
      "Original Well Type                4717 non-null object\n",
      "Permit Fee                        4716 non-null float64\n",
      "Objective Formation               2508 non-null object\n",
      "Depth Fee                         4717 non-null float64\n",
      "Spacing                           494 non-null object\n",
      "Spacing Acres                     22 non-null float64\n",
      "Integration                       491 non-null object\n",
      "Hearing Date                      16 non-null object\n",
      "Date Last Modified                4717 non-null object\n",
      "DEC Database Link                 4717 non-null object\n",
      "Location 1                        4717 non-null object\n",
      "dtypes: bool(1), float64(14), int64(6), object(30)\n",
      "memory usage: 1.8+ MB\n"
     ]
    }
   ],
   "source": [
    "fld.info()"
   ]
  },
  {
   "cell_type": "code",
   "execution_count": 8,
   "metadata": {},
   "outputs": [
    {
     "data": {
      "text/html": [
       "<div>\n",
       "<style scoped>\n",
       "    .dataframe tbody tr th:only-of-type {\n",
       "        vertical-align: middle;\n",
       "    }\n",
       "\n",
       "    .dataframe tbody tr th {\n",
       "        vertical-align: top;\n",
       "    }\n",
       "\n",
       "    .dataframe thead th {\n",
       "        text-align: right;\n",
       "    }\n",
       "</style>\n",
       "<table border=\"1\" class=\"dataframe\">\n",
       "  <thead>\n",
       "    <tr style=\"text-align: right;\">\n",
       "      <th></th>\n",
       "      <th>API Well Number</th>\n",
       "      <th>County Code</th>\n",
       "      <th>API Hole Number</th>\n",
       "      <th>Sidetrack</th>\n",
       "      <th>Completion</th>\n",
       "      <th>Well Name</th>\n",
       "      <th>Company Name</th>\n",
       "      <th>Operator Number</th>\n",
       "      <th>Well Type</th>\n",
       "      <th>Map Symbol</th>\n",
       "      <th>...</th>\n",
       "      <th>Permit Fee</th>\n",
       "      <th>Objective Formation</th>\n",
       "      <th>Depth Fee</th>\n",
       "      <th>Spacing</th>\n",
       "      <th>Spacing Acres</th>\n",
       "      <th>Integration</th>\n",
       "      <th>Hearing Date</th>\n",
       "      <th>Date Last Modified</th>\n",
       "      <th>DEC Database Link</th>\n",
       "      <th>Location 1</th>\n",
       "    </tr>\n",
       "  </thead>\n",
       "  <tbody>\n",
       "    <tr>\n",
       "      <td>4585</td>\n",
       "      <td>31013252350000</td>\n",
       "      <td>13</td>\n",
       "      <td>25235</td>\n",
       "      <td>0</td>\n",
       "      <td>0</td>\n",
       "      <td>Fee 1</td>\n",
       "      <td>Pine Valley Central School District</td>\n",
       "      <td>899</td>\n",
       "      <td>GD</td>\n",
       "      <td>GW</td>\n",
       "      <td>...</td>\n",
       "      <td>0.0</td>\n",
       "      <td>Medina</td>\n",
       "      <td>0.0</td>\n",
       "      <td>Exempt from Title 5; variance needed from 6 NY...</td>\n",
       "      <td>NaN</td>\n",
       "      <td>No integration order required</td>\n",
       "      <td>NaN</td>\n",
       "      <td>2009-10-22T00:00:00</td>\n",
       "      <td>{'url': 'http://www.dec.ny.gov/cfmx/extapps/Ga...</td>\n",
       "      <td>{'longitude': '-79.095131', 'needs_recoding': ...</td>\n",
       "    </tr>\n",
       "    <tr>\n",
       "      <td>4030</td>\n",
       "      <td>31013221230000</td>\n",
       "      <td>13</td>\n",
       "      <td>22123</td>\n",
       "      <td>0</td>\n",
       "      <td>0</td>\n",
       "      <td>Nickerson, J 1</td>\n",
       "      <td>Chautauqua Energy Drilling Inc.</td>\n",
       "      <td>2752</td>\n",
       "      <td>GD</td>\n",
       "      <td>GW</td>\n",
       "      <td>...</td>\n",
       "      <td>975.0</td>\n",
       "      <td>Medina</td>\n",
       "      <td>875.0</td>\n",
       "      <td>NaN</td>\n",
       "      <td>NaN</td>\n",
       "      <td>NaN</td>\n",
       "      <td>NaN</td>\n",
       "      <td>2014-12-19T00:00:00</td>\n",
       "      <td>{'url': 'http://www.dec.ny.gov/cfmx/extapps/Ga...</td>\n",
       "      <td>{'longitude': '-79.51345', 'needs_recoding': F...</td>\n",
       "    </tr>\n",
       "    <tr>\n",
       "      <td>4360</td>\n",
       "      <td>31013244430000</td>\n",
       "      <td>13</td>\n",
       "      <td>24443</td>\n",
       "      <td>0</td>\n",
       "      <td>0</td>\n",
       "      <td>Cheney 5-490</td>\n",
       "      <td>PPP Future Development Inc.</td>\n",
       "      <td>2740</td>\n",
       "      <td>GD</td>\n",
       "      <td>GW</td>\n",
       "      <td>...</td>\n",
       "      <td>2000.0</td>\n",
       "      <td>Medina</td>\n",
       "      <td>1900.0</td>\n",
       "      <td>Exempt from Title 5; complies with 6 NYCRR 553...</td>\n",
       "      <td>NaN</td>\n",
       "      <td>No integration order required</td>\n",
       "      <td>NaN</td>\n",
       "      <td>2018-07-20T00:00:00</td>\n",
       "      <td>{'url': 'http://www.dec.ny.gov/cfmx/extapps/Ga...</td>\n",
       "      <td>{'longitude': '-79.182355', 'needs_recoding': ...</td>\n",
       "    </tr>\n",
       "  </tbody>\n",
       "</table>\n",
       "<p>3 rows × 51 columns</p>\n",
       "</div>"
      ],
      "text/plain": [
       "      API Well Number  County Code  API Hole Number  Sidetrack  Completion  \\\n",
       "4585   31013252350000           13            25235          0           0   \n",
       "4030   31013221230000           13            22123          0           0   \n",
       "4360   31013244430000           13            24443          0           0   \n",
       "\n",
       "              Well Name                         Company Name  Operator Number  \\\n",
       "4585         Fee 1       Pine Valley Central School District              899   \n",
       "4030     Nickerson, J 1      Chautauqua Energy Drilling Inc.             2752   \n",
       "4360  Cheney 5-490               PPP Future Development Inc.             2740   \n",
       "\n",
       "     Well Type Map Symbol  ... Permit Fee Objective Formation Depth Fee  \\\n",
       "4585        GD         GW  ...        0.0              Medina       0.0   \n",
       "4030        GD         GW  ...      975.0              Medina     875.0   \n",
       "4360        GD         GW  ...     2000.0              Medina    1900.0   \n",
       "\n",
       "                                                Spacing Spacing Acres  \\\n",
       "4585  Exempt from Title 5; variance needed from 6 NY...           NaN   \n",
       "4030                                                NaN           NaN   \n",
       "4360  Exempt from Title 5; complies with 6 NYCRR 553...           NaN   \n",
       "\n",
       "                        Integration Hearing Date   Date Last Modified  \\\n",
       "4585  No integration order required          NaN  2009-10-22T00:00:00   \n",
       "4030                            NaN          NaN  2014-12-19T00:00:00   \n",
       "4360  No integration order required          NaN  2018-07-20T00:00:00   \n",
       "\n",
       "                                      DEC Database Link  \\\n",
       "4585  {'url': 'http://www.dec.ny.gov/cfmx/extapps/Ga...   \n",
       "4030  {'url': 'http://www.dec.ny.gov/cfmx/extapps/Ga...   \n",
       "4360  {'url': 'http://www.dec.ny.gov/cfmx/extapps/Ga...   \n",
       "\n",
       "                                             Location 1  \n",
       "4585  {'longitude': '-79.095131', 'needs_recoding': ...  \n",
       "4030  {'longitude': '-79.51345', 'needs_recoding': F...  \n",
       "4360  {'longitude': '-79.182355', 'needs_recoding': ...  \n",
       "\n",
       "[3 rows x 51 columns]"
      ]
     },
     "execution_count": 8,
     "metadata": {},
     "output_type": "execute_result"
    }
   ],
   "source": [
    "fld.sample(3)"
   ]
  },
  {
   "cell_type": "markdown",
   "metadata": {},
   "source": [
    "### Data Cleaning"
   ]
  },
  {
   "cell_type": "code",
   "execution_count": 9,
   "metadata": {},
   "outputs": [
    {
     "data": {
      "text/plain": [
       "array(['GD'], dtype=object)"
      ]
     },
     "execution_count": 9,
     "metadata": {},
     "output_type": "execute_result"
    }
   ],
   "source": [
    "fld['Well Type'].unique()"
   ]
  },
  {
   "cell_type": "code",
   "execution_count": 10,
   "metadata": {},
   "outputs": [
    {
     "data": {
      "text/plain": [
       "array(['GWP', 'GW', 'O'], dtype=object)"
      ]
     },
     "execution_count": 10,
     "metadata": {},
     "output_type": "execute_result"
    }
   ],
   "source": [
    "fld['Map Symbol'].unique()"
   ]
  },
  {
   "cell_type": "code",
   "execution_count": 11,
   "metadata": {},
   "outputs": [
    {
     "data": {
      "text/html": [
       "<div>\n",
       "<style scoped>\n",
       "    .dataframe tbody tr th:only-of-type {\n",
       "        vertical-align: middle;\n",
       "    }\n",
       "\n",
       "    .dataframe tbody tr th {\n",
       "        vertical-align: top;\n",
       "    }\n",
       "\n",
       "    .dataframe thead th {\n",
       "        text-align: right;\n",
       "    }\n",
       "</style>\n",
       "<table border=\"1\" class=\"dataframe\">\n",
       "  <thead>\n",
       "    <tr style=\"text-align: right;\">\n",
       "      <th></th>\n",
       "      <th>API Well Number</th>\n",
       "      <th>County Code</th>\n",
       "      <th>API Hole Number</th>\n",
       "      <th>Sidetrack</th>\n",
       "      <th>Completion</th>\n",
       "      <th>Operator Number</th>\n",
       "      <th>Region</th>\n",
       "      <th>Proposed Depth, ft</th>\n",
       "      <th>Surface Longitude</th>\n",
       "      <th>Surface Latitude</th>\n",
       "      <th>Bottom Hole Longitude</th>\n",
       "      <th>Bottom Hole Latitude</th>\n",
       "      <th>True Vertical Depth, ft</th>\n",
       "      <th>Measured Depth, ft</th>\n",
       "      <th>Kickoff, ft</th>\n",
       "      <th>Drilled Depth, ft</th>\n",
       "      <th>Elevation, ft</th>\n",
       "      <th>Permit Fee</th>\n",
       "      <th>Depth Fee</th>\n",
       "      <th>Spacing Acres</th>\n",
       "    </tr>\n",
       "  </thead>\n",
       "  <tbody>\n",
       "    <tr>\n",
       "      <td>count</td>\n",
       "      <td>4.717000e+03</td>\n",
       "      <td>4717.000000</td>\n",
       "      <td>4717.000000</td>\n",
       "      <td>4717.0</td>\n",
       "      <td>4717.000000</td>\n",
       "      <td>4717.000000</td>\n",
       "      <td>4717.0</td>\n",
       "      <td>4716.000000</td>\n",
       "      <td>4717.000000</td>\n",
       "      <td>4717.000000</td>\n",
       "      <td>4717.000000</td>\n",
       "      <td>4717.000000</td>\n",
       "      <td>4717.000000</td>\n",
       "      <td>4717.000000</td>\n",
       "      <td>4717.0</td>\n",
       "      <td>4717.000000</td>\n",
       "      <td>4444.000000</td>\n",
       "      <td>4716.000000</td>\n",
       "      <td>4717.000000</td>\n",
       "      <td>22.000000</td>\n",
       "    </tr>\n",
       "    <tr>\n",
       "      <td>mean</td>\n",
       "      <td>3.101271e+13</td>\n",
       "      <td>12.544626</td>\n",
       "      <td>16953.453890</td>\n",
       "      <td>0.0</td>\n",
       "      <td>0.018868</td>\n",
       "      <td>2272.140767</td>\n",
       "      <td>9.0</td>\n",
       "      <td>2812.433418</td>\n",
       "      <td>-79.316538</td>\n",
       "      <td>42.258476</td>\n",
       "      <td>-79.316536</td>\n",
       "      <td>42.258484</td>\n",
       "      <td>3554.433326</td>\n",
       "      <td>3554.430570</td>\n",
       "      <td>0.0</td>\n",
       "      <td>3554.430570</td>\n",
       "      <td>1369.596985</td>\n",
       "      <td>611.036684</td>\n",
       "      <td>559.059360</td>\n",
       "      <td>53.965909</td>\n",
       "    </tr>\n",
       "    <tr>\n",
       "      <td>std</td>\n",
       "      <td>1.620988e+09</td>\n",
       "      <td>1.622432</td>\n",
       "      <td>6011.530453</td>\n",
       "      <td>0.0</td>\n",
       "      <td>0.146576</td>\n",
       "      <td>1527.626292</td>\n",
       "      <td>0.0</td>\n",
       "      <td>1690.720419</td>\n",
       "      <td>0.222828</td>\n",
       "      <td>0.143486</td>\n",
       "      <td>0.222827</td>\n",
       "      <td>0.143491</td>\n",
       "      <td>775.597958</td>\n",
       "      <td>775.597873</td>\n",
       "      <td>0.0</td>\n",
       "      <td>775.597873</td>\n",
       "      <td>345.668537</td>\n",
       "      <td>656.604968</td>\n",
       "      <td>612.319424</td>\n",
       "      <td>27.441319</td>\n",
       "    </tr>\n",
       "    <tr>\n",
       "      <td>min</td>\n",
       "      <td>3.100901e+13</td>\n",
       "      <td>9.000000</td>\n",
       "      <td>255.000000</td>\n",
       "      <td>0.0</td>\n",
       "      <td>0.000000</td>\n",
       "      <td>13.000000</td>\n",
       "      <td>9.0</td>\n",
       "      <td>0.000000</td>\n",
       "      <td>-79.761600</td>\n",
       "      <td>41.999480</td>\n",
       "      <td>-79.761600</td>\n",
       "      <td>41.999480</td>\n",
       "      <td>0.000000</td>\n",
       "      <td>0.000000</td>\n",
       "      <td>0.0</td>\n",
       "      <td>0.000000</td>\n",
       "      <td>3.000000</td>\n",
       "      <td>0.000000</td>\n",
       "      <td>0.000000</td>\n",
       "      <td>35.200000</td>\n",
       "    </tr>\n",
       "    <tr>\n",
       "      <td>25%</td>\n",
       "      <td>3.101311e+13</td>\n",
       "      <td>13.000000</td>\n",
       "      <td>13043.000000</td>\n",
       "      <td>0.0</td>\n",
       "      <td>0.000000</td>\n",
       "      <td>1192.000000</td>\n",
       "      <td>9.0</td>\n",
       "      <td>2100.000000</td>\n",
       "      <td>-79.509110</td>\n",
       "      <td>42.151120</td>\n",
       "      <td>-79.509110</td>\n",
       "      <td>42.151120</td>\n",
       "      <td>3116.000000</td>\n",
       "      <td>3116.000000</td>\n",
       "      <td>0.0</td>\n",
       "      <td>3116.000000</td>\n",
       "      <td>1260.000000</td>\n",
       "      <td>0.000000</td>\n",
       "      <td>0.000000</td>\n",
       "      <td>40.000000</td>\n",
       "    </tr>\n",
       "    <tr>\n",
       "      <td>50%</td>\n",
       "      <td>3.101316e+13</td>\n",
       "      <td>13.000000</td>\n",
       "      <td>17148.000000</td>\n",
       "      <td>0.0</td>\n",
       "      <td>0.000000</td>\n",
       "      <td>2544.000000</td>\n",
       "      <td>9.0</td>\n",
       "      <td>3520.000000</td>\n",
       "      <td>-79.293470</td>\n",
       "      <td>42.257070</td>\n",
       "      <td>-79.293470</td>\n",
       "      <td>42.257070</td>\n",
       "      <td>3708.000000</td>\n",
       "      <td>3708.000000</td>\n",
       "      <td>0.0</td>\n",
       "      <td>3708.000000</td>\n",
       "      <td>1461.000000</td>\n",
       "      <td>20.000000</td>\n",
       "      <td>0.000000</td>\n",
       "      <td>41.030000</td>\n",
       "    </tr>\n",
       "    <tr>\n",
       "      <td>75%</td>\n",
       "      <td>3.101319e+13</td>\n",
       "      <td>13.000000</td>\n",
       "      <td>20246.000000</td>\n",
       "      <td>0.0</td>\n",
       "      <td>0.000000</td>\n",
       "      <td>2544.000000</td>\n",
       "      <td>9.0</td>\n",
       "      <td>4095.000000</td>\n",
       "      <td>-79.139240</td>\n",
       "      <td>42.369260</td>\n",
       "      <td>-79.139240</td>\n",
       "      <td>42.369260</td>\n",
       "      <td>4166.000000</td>\n",
       "      <td>4166.000000</td>\n",
       "      <td>0.0</td>\n",
       "      <td>4166.000000</td>\n",
       "      <td>1610.000000</td>\n",
       "      <td>1225.000000</td>\n",
       "      <td>1125.000000</td>\n",
       "      <td>51.130000</td>\n",
       "    </tr>\n",
       "    <tr>\n",
       "      <td>max</td>\n",
       "      <td>3.102966e+13</td>\n",
       "      <td>29.000000</td>\n",
       "      <td>67321.000000</td>\n",
       "      <td>0.0</td>\n",
       "      <td>2.000000</td>\n",
       "      <td>9998.000000</td>\n",
       "      <td>9.0</td>\n",
       "      <td>6501.000000</td>\n",
       "      <td>-78.756970</td>\n",
       "      <td>42.693560</td>\n",
       "      <td>-78.756970</td>\n",
       "      <td>42.693560</td>\n",
       "      <td>6182.000000</td>\n",
       "      <td>6182.000000</td>\n",
       "      <td>0.0</td>\n",
       "      <td>6182.000000</td>\n",
       "      <td>2625.000000</td>\n",
       "      <td>11000.000000</td>\n",
       "      <td>10900.000000</td>\n",
       "      <td>146.800000</td>\n",
       "    </tr>\n",
       "  </tbody>\n",
       "</table>\n",
       "</div>"
      ],
      "text/plain": [
       "       API Well Number  County Code  API Hole Number  Sidetrack   Completion  \\\n",
       "count     4.717000e+03  4717.000000      4717.000000     4717.0  4717.000000   \n",
       "mean      3.101271e+13    12.544626     16953.453890        0.0     0.018868   \n",
       "std       1.620988e+09     1.622432      6011.530453        0.0     0.146576   \n",
       "min       3.100901e+13     9.000000       255.000000        0.0     0.000000   \n",
       "25%       3.101311e+13    13.000000     13043.000000        0.0     0.000000   \n",
       "50%       3.101316e+13    13.000000     17148.000000        0.0     0.000000   \n",
       "75%       3.101319e+13    13.000000     20246.000000        0.0     0.000000   \n",
       "max       3.102966e+13    29.000000     67321.000000        0.0     2.000000   \n",
       "\n",
       "       Operator Number  Region  Proposed Depth, ft  Surface Longitude  \\\n",
       "count      4717.000000  4717.0         4716.000000        4717.000000   \n",
       "mean       2272.140767     9.0         2812.433418         -79.316538   \n",
       "std        1527.626292     0.0         1690.720419           0.222828   \n",
       "min          13.000000     9.0            0.000000         -79.761600   \n",
       "25%        1192.000000     9.0         2100.000000         -79.509110   \n",
       "50%        2544.000000     9.0         3520.000000         -79.293470   \n",
       "75%        2544.000000     9.0         4095.000000         -79.139240   \n",
       "max        9998.000000     9.0         6501.000000         -78.756970   \n",
       "\n",
       "       Surface Latitude  Bottom Hole Longitude  Bottom Hole Latitude  \\\n",
       "count       4717.000000            4717.000000           4717.000000   \n",
       "mean          42.258476             -79.316536             42.258484   \n",
       "std            0.143486               0.222827              0.143491   \n",
       "min           41.999480             -79.761600             41.999480   \n",
       "25%           42.151120             -79.509110             42.151120   \n",
       "50%           42.257070             -79.293470             42.257070   \n",
       "75%           42.369260             -79.139240             42.369260   \n",
       "max           42.693560             -78.756970             42.693560   \n",
       "\n",
       "       True Vertical Depth, ft  Measured Depth, ft  Kickoff, ft  \\\n",
       "count              4717.000000         4717.000000       4717.0   \n",
       "mean               3554.433326         3554.430570          0.0   \n",
       "std                 775.597958          775.597873          0.0   \n",
       "min                   0.000000            0.000000          0.0   \n",
       "25%                3116.000000         3116.000000          0.0   \n",
       "50%                3708.000000         3708.000000          0.0   \n",
       "75%                4166.000000         4166.000000          0.0   \n",
       "max                6182.000000         6182.000000          0.0   \n",
       "\n",
       "       Drilled Depth, ft  Elevation, ft    Permit Fee     Depth Fee  \\\n",
       "count        4717.000000    4444.000000   4716.000000   4717.000000   \n",
       "mean         3554.430570    1369.596985    611.036684    559.059360   \n",
       "std           775.597873     345.668537    656.604968    612.319424   \n",
       "min             0.000000       3.000000      0.000000      0.000000   \n",
       "25%          3116.000000    1260.000000      0.000000      0.000000   \n",
       "50%          3708.000000    1461.000000     20.000000      0.000000   \n",
       "75%          4166.000000    1610.000000   1225.000000   1125.000000   \n",
       "max          6182.000000    2625.000000  11000.000000  10900.000000   \n",
       "\n",
       "       Spacing Acres  \n",
       "count      22.000000  \n",
       "mean       53.965909  \n",
       "std        27.441319  \n",
       "min        35.200000  \n",
       "25%        40.000000  \n",
       "50%        41.030000  \n",
       "75%        51.130000  \n",
       "max       146.800000  "
      ]
     },
     "execution_count": 11,
     "metadata": {},
     "output_type": "execute_result"
    }
   ],
   "source": [
    "fld.describe()"
   ]
  },
  {
   "cell_type": "code",
   "execution_count": 12,
   "metadata": {},
   "outputs": [
    {
     "data": {
      "text/plain": [
       "0    4635\n",
       "1      75\n",
       "2       7\n",
       "Name: Completion, dtype: int64"
      ]
     },
     "execution_count": 12,
     "metadata": {},
     "output_type": "execute_result"
    }
   ],
   "source": [
    "fld['Completion'].value_counts()"
   ]
  },
  {
   "cell_type": "code",
   "execution_count": 13,
   "metadata": {},
   "outputs": [],
   "source": [
    "# fld['Spacing Acres'].unique()"
   ]
  },
  {
   "cell_type": "code",
   "execution_count": 14,
   "metadata": {},
   "outputs": [],
   "source": [
    "# fld['Location 1'].unique()"
   ]
  },
  {
   "cell_type": "code",
   "execution_count": 15,
   "metadata": {},
   "outputs": [
    {
     "data": {
      "text/plain": [
       "array(['NL', 'GW', 'GD', 'OD'], dtype=object)"
      ]
     },
     "execution_count": 15,
     "metadata": {},
     "output_type": "execute_result"
    }
   ],
   "source": [
    "# fld['Surface Latitude'].unique()\n",
    "fld['Original Well Type'].unique()"
   ]
  },
  {
   "cell_type": "code",
   "execution_count": 16,
   "metadata": {},
   "outputs": [],
   "source": [
    "# Drop Numerical columns which are not required for analysis\n",
    "fld.drop(columns=['API Hole Number','Sidetrack','Permit Fee', \n",
    "                  'Depth Fee', 'Spacing Acres'], inplace=True)"
   ]
  },
  {
   "cell_type": "code",
   "execution_count": 17,
   "metadata": {},
   "outputs": [],
   "source": [
    "# Drop Categorical columns which are not required for analysis\n",
    "fld.drop(columns=['Financial Security','Location 1', 'Integration',\n",
    "                  'Hearing Date', 'Date Last Modified', 'DEC Database Link',\n",
    "                  'Spacing', 'State Lease','Well Name'], inplace=True)"
   ]
  },
  {
   "cell_type": "code",
   "execution_count": 18,
   "metadata": {},
   "outputs": [
    {
     "data": {
      "text/plain": [
       "4145"
      ]
     },
     "execution_count": 18,
     "metadata": {},
     "output_type": "execute_result"
    }
   ],
   "source": [
    "fld[\"Status Date\"].isna().sum()"
   ]
  },
  {
   "cell_type": "code",
   "execution_count": 19,
   "metadata": {},
   "outputs": [
    {
     "data": {
      "text/plain": [
       "(352, 353)"
      ]
     },
     "execution_count": 19,
     "metadata": {},
     "output_type": "execute_result"
    }
   ],
   "source": [
    "fld['Company Name'].nunique(), fld['Operator Number'].nunique()"
   ]
  },
  {
   "cell_type": "code",
   "execution_count": 20,
   "metadata": {},
   "outputs": [],
   "source": [
    "fld.drop(columns=['Status Date', 'Permit Application Date', 'Map Symbol',\n",
    "                 'Permit Issued Date','Company Name'], inplace=True)"
   ]
  },
  {
   "cell_type": "code",
   "execution_count": 21,
   "metadata": {},
   "outputs": [
    {
     "data": {
      "text/plain": [
       "array(['Cherry Creek', 'Collins Center', 'Gowanda', 'Steamburg',\n",
       "       'Farnham', 'North Collins', 'Randolph', 'New Albion', 'Kennedy',\n",
       "       'Ivory', 'Perrysburg', 'Cattaraugus', 'Brocton', 'Silver Creek',\n",
       "       'Dunkirk', 'Forestville', 'Cassadaga', 'Ellery Center',\n",
       "       'North Of Dunkirk', 'Gerry', 'Ripley', 'South Ripley', 'Westfield',\n",
       "       'Chautauqua', 'Hartfield', 'Jamestown', 'Sherman', 'Panama',\n",
       "       'Clymer', 'North Clymer', 'Hamlet', 'Lakewood', 'North East PA',\n",
       "       'North East', 'Wattsburg, PA-NY', 'Sugar Grove, PA-NY',\n",
       "       'Warren Pa', 'North Of Westfield', 'Youngsville PA', 'Langford',\n",
       "       'Angola'], dtype=object)"
      ]
     },
     "execution_count": 21,
     "metadata": {},
     "output_type": "execute_result"
    }
   ],
   "source": [
    "fld.Quad.unique()"
   ]
  },
  {
   "cell_type": "code",
   "execution_count": 22,
   "metadata": {},
   "outputs": [
    {
     "data": {
      "text/plain": [
       "array(['I', 'G', 'F', nan, 'C', 'D', 'H', 'B', 'A', 'E'], dtype=object)"
      ]
     },
     "execution_count": 22,
     "metadata": {},
     "output_type": "execute_result"
    }
   ],
   "source": [
    "fld['Quad Section'].unique()"
   ]
  },
  {
   "cell_type": "code",
   "execution_count": 23,
   "metadata": {},
   "outputs": [
    {
     "data": {
      "text/plain": [
       "9"
      ]
     },
     "execution_count": 23,
     "metadata": {},
     "output_type": "execute_result"
    }
   ],
   "source": [
    "fld['Quad Section'].isna().sum()"
   ]
  },
  {
   "cell_type": "code",
   "execution_count": 24,
   "metadata": {},
   "outputs": [
    {
     "data": {
      "text/plain": [
       "3090"
      ]
     },
     "execution_count": 24,
     "metadata": {},
     "output_type": "execute_result"
    }
   ],
   "source": [
    "fld['Date Well Confidentiality Ends'].isna().sum()"
   ]
  },
  {
   "cell_type": "code",
   "execution_count": 25,
   "metadata": {},
   "outputs": [
    {
     "data": {
      "text/plain": [
       "array(['Pre-1989 Well (N/A)', 'Released'], dtype=object)"
      ]
     },
     "execution_count": 25,
     "metadata": {},
     "output_type": "execute_result"
    }
   ],
   "source": [
    "#fld['Confidentiality Code'].isna().sum(), \n",
    "fld['Confidentiality Code'].unique()"
   ]
  },
  {
   "cell_type": "code",
   "execution_count": 26,
   "metadata": {},
   "outputs": [],
   "source": [
    "del fld['Date Well Confidentiality Ends'], fld['Confidentiality Code'], fld['Town']"
   ]
  },
  {
   "cell_type": "code",
   "execution_count": 27,
   "metadata": {},
   "outputs": [
    {
     "name": "stdout",
     "output_type": "stream",
     "text": [
      "<class 'pandas.core.frame.DataFrame'>\n",
      "RangeIndex: 4717 entries, 0 to 4716\n",
      "Data columns (total 4 columns):\n",
      "Date Spudded           4629 non-null object\n",
      "Date of Total Depth    4460 non-null object\n",
      "Date Well Completed    4717 non-null object\n",
      "Date Well Plugged      353 non-null object\n",
      "dtypes: object(4)\n",
      "memory usage: 147.5+ KB\n"
     ]
    }
   ],
   "source": [
    "fld[['Date Spudded','Date of Total Depth','Date Well Completed', 'Date Well Plugged']].info()"
   ]
  },
  {
   "cell_type": "code",
   "execution_count": 28,
   "metadata": {},
   "outputs": [],
   "source": [
    "del fld['Date Spudded'], fld['Date of Total Depth'],fld['Date Well Plugged']"
   ]
  },
  {
   "cell_type": "code",
   "execution_count": 29,
   "metadata": {},
   "outputs": [
    {
     "data": {
      "text/plain": [
       "Index(['API Well Number', 'County Code', 'Completion', 'Operator Number',\n",
       "       'Well Type', 'Well Status ', 'Date Well Completed', 'Quad',\n",
       "       'Quad Section', 'Producing Field', 'Producing Formation', 'Slant',\n",
       "       'County', 'Region', 'Proposed Depth, ft', 'Surface Longitude',\n",
       "       'Surface Latitude', 'Bottom Hole Longitude', 'Bottom Hole Latitude',\n",
       "       'True Vertical Depth, ft', 'Measured Depth, ft', 'Kickoff, ft',\n",
       "       'Drilled Depth, ft', 'Elevation, ft', 'Original Well Type',\n",
       "       'Objective Formation'],\n",
       "      dtype='object')"
      ]
     },
     "execution_count": 29,
     "metadata": {},
     "output_type": "execute_result"
    }
   ],
   "source": [
    "fld.columns"
   ]
  },
  {
   "cell_type": "code",
   "execution_count": 36,
   "metadata": {},
   "outputs": [],
   "source": [
    "fld['Date Well Completed'] = pd.to_datetime(fld['Date Well Completed'])\n",
    "fld ['Complition year'] = fld['Date Well Completed'].dt.year\n",
    "fld ['Complition month'] = fld['Date Well Completed'].dt.month\n",
    "fld ['Complition day'] = fld['Date Well Completed'].dt.day\n",
    "del fld['Date Well Completed']\n",
    "# calendar['week'] = calendar['date'].dt.week.astype(np.int8)"
   ]
  },
  {
   "cell_type": "code",
   "execution_count": 45,
   "metadata": {},
   "outputs": [],
   "source": [
    "# fld.isna().sum()"
   ]
  },
  {
   "cell_type": "code",
   "execution_count": 42,
   "metadata": {},
   "outputs": [
    {
     "data": {
      "text/plain": [
       "array([nan, 'Medina', 'Onondaga', 'Clinton', 'Bass Island', 'Glade',\n",
       "       'Theresa', 'Whirlpool', 'Queenston'], dtype=object)"
      ]
     },
     "execution_count": 42,
     "metadata": {},
     "output_type": "execute_result"
    }
   ],
   "source": [
    "fld['Objective Formation'].unique()"
   ]
  },
  {
   "cell_type": "code",
   "execution_count": 43,
   "metadata": {},
   "outputs": [
    {
     "data": {
      "text/plain": [
       "array(['Medina', nan, 'Whirlpool', 'Onondaga', 'Grimsby', 'Camillus',\n",
       "       'Upper Devonian', 'Unknown', 'Salina', 'Bass Island', 'Tully',\n",
       "       'Upper Devonian Shale'], dtype=object)"
      ]
     },
     "execution_count": 43,
     "metadata": {},
     "output_type": "execute_result"
    }
   ],
   "source": [
    "fld['Producing Formation'].unique()"
   ]
  },
  {
   "cell_type": "code",
   "execution_count": 44,
   "metadata": {},
   "outputs": [],
   "source": [
    "# drop Ob`jective formation, and leave Producing formation as actual one\n",
    "del fld['Objective Formation']"
   ]
  },
  {
   "cell_type": "code",
   "execution_count": 47,
   "metadata": {},
   "outputs": [
    {
     "data": {
      "text/plain": [
       "API Well Number              0\n",
       "County Code                  0\n",
       "Completion                   0\n",
       "Operator Number              0\n",
       "Well Type                    0\n",
       "Well Status                  0\n",
       "Quad                         0\n",
       "Quad Section                 9\n",
       "Producing Field              0\n",
       "Producing Formation         15\n",
       "Slant                        0\n",
       "County                       0\n",
       "Region                       0\n",
       "Proposed Depth, ft           1\n",
       "Surface Longitude            0\n",
       "Surface Latitude             0\n",
       "Bottom Hole Longitude        0\n",
       "Bottom Hole Latitude         0\n",
       "True Vertical Depth, ft      0\n",
       "Measured Depth, ft           0\n",
       "Kickoff, ft                  0\n",
       "Drilled Depth, ft            0\n",
       "Elevation, ft              273\n",
       "Original Well Type           0\n",
       "Complition year              0\n",
       "Complition month             0\n",
       "Complition day               0\n",
       "dtype: int64"
      ]
     },
     "execution_count": 47,
     "metadata": {},
     "output_type": "execute_result"
    }
   ],
   "source": [
    "fld.isna().sum()"
   ]
  }
 ],
 "metadata": {
  "kernelspec": {
   "display_name": "Python 3",
   "language": "python",
   "name": "python3"
  },
  "language_info": {
   "codemirror_mode": {
    "name": "ipython",
    "version": 3
   },
   "file_extension": ".py",
   "mimetype": "text/x-python",
   "name": "python",
   "nbconvert_exporter": "python",
   "pygments_lexer": "ipython3",
   "version": "3.6.9"
  }
 },
 "nbformat": 4,
 "nbformat_minor": 2
}

{
 "cells": [
  {
   "cell_type": "markdown",
   "metadata": {},
   "source": [
    "## Oil and Gas Production Forecast\n",
    "### Part_1. Candidate oil or gas fields selection for data analysis\n",
    "### 1.1 Import Librries"
   ]
  },
  {
   "cell_type": "code",
   "execution_count": 1,
   "metadata": {},
   "outputs": [],
   "source": [
    "import pandas as pd\n",
    "import numpy as np\n",
    "import warnings\n",
    "\n",
    "from  datetime import datetime, timedelta\n",
    "from sklearn.preprocessing import LabelEncoder,MinMaxScaler\n",
    "import category_encoders as ce\n",
    "import matplotlib.pyplot as plt\n",
    "%matplotlib inline\n",
    "warnings.filterwarnings('ignore')"
   ]
  },
  {
   "cell_type": "code",
   "execution_count": null,
   "metadata": {},
   "outputs": [],
   "source": []
  },
  {
   "cell_type": "code",
   "execution_count": null,
   "metadata": {},
   "outputs": [],
   "source": []
  },
  {
   "cell_type": "markdown",
   "metadata": {},
   "source": [
    "### 1.2 Read in data\n",
    "\n",
    "Data Source for oil production: \n",
    "API: https://dev.socrata.com/foundry/data.ny.gov/qcf2-zajk\n",
    "https://www.dec.ny.gov/cfmx/extapps/GasOil/search/wells/index.cfm?api=31009242140000\n",
    "\n",
    "Well list Data Soutce: https://www.kaggle.com/new-york-state/nys-oil,-gas,-other-regulated-wells\n"
   ]
  },
  {
   "cell_type": "code",
   "execution_count": 3,
   "metadata": {},
   "outputs": [],
   "source": [
    "data = pd.read_csv('data/oil-gas-other-regulated-wells-beginning-1860.csv')"
   ]
  },
  {
   "cell_type": "code",
   "execution_count": 41,
   "metadata": {},
   "outputs": [
    {
     "data": {
      "text/html": [
       "<div>\n",
       "<style scoped>\n",
       "    .dataframe tbody tr th:only-of-type {\n",
       "        vertical-align: middle;\n",
       "    }\n",
       "\n",
       "    .dataframe tbody tr th {\n",
       "        vertical-align: top;\n",
       "    }\n",
       "\n",
       "    .dataframe thead th {\n",
       "        text-align: right;\n",
       "    }\n",
       "</style>\n",
       "<table border=\"1\" class=\"dataframe\">\n",
       "  <thead>\n",
       "    <tr style=\"text-align: right;\">\n",
       "      <th></th>\n",
       "      <th>API Well Number</th>\n",
       "      <th>County Code</th>\n",
       "      <th>API Hole Number</th>\n",
       "      <th>Sidetrack</th>\n",
       "      <th>Completion</th>\n",
       "      <th>Well Name</th>\n",
       "      <th>Company Name</th>\n",
       "      <th>Operator Number</th>\n",
       "      <th>Well Type</th>\n",
       "      <th>Map Symbol</th>\n",
       "      <th>...</th>\n",
       "      <th>Permit Fee</th>\n",
       "      <th>Objective Formation</th>\n",
       "      <th>Depth Fee</th>\n",
       "      <th>Spacing</th>\n",
       "      <th>Spacing Acres</th>\n",
       "      <th>Integration</th>\n",
       "      <th>Hearing Date</th>\n",
       "      <th>Date Last Modified</th>\n",
       "      <th>DEC Database Link</th>\n",
       "      <th>Location 1</th>\n",
       "    </tr>\n",
       "  </thead>\n",
       "  <tbody>\n",
       "    <tr>\n",
       "      <td>0</td>\n",
       "      <td>31001010720000</td>\n",
       "      <td>1</td>\n",
       "      <td>1072</td>\n",
       "      <td>0</td>\n",
       "      <td>0</td>\n",
       "      <td>Finch 1</td>\n",
       "      <td>Corona Typewriter</td>\n",
       "      <td>9372</td>\n",
       "      <td>NL</td>\n",
       "      <td>O</td>\n",
       "      <td>...</td>\n",
       "      <td>0.0</td>\n",
       "      <td>NaN</td>\n",
       "      <td>0.0</td>\n",
       "      <td>NaN</td>\n",
       "      <td>NaN</td>\n",
       "      <td>NaN</td>\n",
       "      <td>NaN</td>\n",
       "      <td>2018-02-13T00:00:00</td>\n",
       "      <td>{'url': 'http://www.dec.ny.gov/cfmx/extapps/Ga...</td>\n",
       "      <td>{'longitude': '-74.12681', 'needs_recoding': F...</td>\n",
       "    </tr>\n",
       "    <tr>\n",
       "      <td>1</td>\n",
       "      <td>31001010730000</td>\n",
       "      <td>1</td>\n",
       "      <td>1073</td>\n",
       "      <td>0</td>\n",
       "      <td>0</td>\n",
       "      <td>Hilton James 1</td>\n",
       "      <td>Belmont Quadrangle Drilling</td>\n",
       "      <td>9034</td>\n",
       "      <td>NL</td>\n",
       "      <td>O</td>\n",
       "      <td>...</td>\n",
       "      <td>0.0</td>\n",
       "      <td>NaN</td>\n",
       "      <td>0.0</td>\n",
       "      <td>Exempt from Title 5; variance needed from 6 NY...</td>\n",
       "      <td>NaN</td>\n",
       "      <td>NaN</td>\n",
       "      <td>NaN</td>\n",
       "      <td>2017-08-01T00:00:00</td>\n",
       "      <td>{'url': 'http://www.dec.ny.gov/cfmx/extapps/Ga...</td>\n",
       "      <td>{'longitude': '-73.90768', 'needs_recoding': F...</td>\n",
       "    </tr>\n",
       "    <tr>\n",
       "      <td>42044</td>\n",
       "      <td>31123615210000</td>\n",
       "      <td>123</td>\n",
       "      <td>61521</td>\n",
       "      <td>0</td>\n",
       "      <td>0</td>\n",
       "      <td>Castner 1</td>\n",
       "      <td>Cabot Oil &amp; Gas Corp.</td>\n",
       "      <td>209</td>\n",
       "      <td>DH</td>\n",
       "      <td>OP</td>\n",
       "      <td>...</td>\n",
       "      <td>1100.0</td>\n",
       "      <td>Queenston</td>\n",
       "      <td>1000.0</td>\n",
       "      <td>NaN</td>\n",
       "      <td>NaN</td>\n",
       "      <td>NaN</td>\n",
       "      <td>NaN</td>\n",
       "      <td>1995-12-05T00:00:00</td>\n",
       "      <td>{'url': 'http://www.dec.ny.gov/cfmx/extapps/Ga...</td>\n",
       "      <td>{'longitude': '-75.519335', 'needs_recoding': ...</td>\n",
       "    </tr>\n",
       "  </tbody>\n",
       "</table>\n",
       "<p>3 rows × 51 columns</p>\n",
       "</div>"
      ],
      "text/plain": [
       "       API Well Number  County Code  API Hole Number  Sidetrack  Completion  \\\n",
       "0       31001010720000            1             1072          0           0   \n",
       "1       31001010730000            1             1073          0           0   \n",
       "42044   31123615210000          123            61521          0           0   \n",
       "\n",
       "            Well Name                 Company Name  Operator Number Well Type  \\\n",
       "0             Finch 1            Corona Typewriter             9372        NL   \n",
       "1      Hilton James 1  Belmont Quadrangle Drilling             9034        NL   \n",
       "42044       Castner 1        Cabot Oil & Gas Corp.              209        DH   \n",
       "\n",
       "      Map Symbol  ... Permit Fee Objective Formation Depth Fee  \\\n",
       "0              O  ...        0.0                 NaN       0.0   \n",
       "1              O  ...        0.0                 NaN       0.0   \n",
       "42044         OP  ...     1100.0           Queenston    1000.0   \n",
       "\n",
       "                                                 Spacing Spacing Acres  \\\n",
       "0                                                    NaN           NaN   \n",
       "1      Exempt from Title 5; variance needed from 6 NY...           NaN   \n",
       "42044                                                NaN           NaN   \n",
       "\n",
       "      Integration Hearing Date   Date Last Modified  \\\n",
       "0             NaN          NaN  2018-02-13T00:00:00   \n",
       "1             NaN          NaN  2017-08-01T00:00:00   \n",
       "42044         NaN          NaN  1995-12-05T00:00:00   \n",
       "\n",
       "                                       DEC Database Link  \\\n",
       "0      {'url': 'http://www.dec.ny.gov/cfmx/extapps/Ga...   \n",
       "1      {'url': 'http://www.dec.ny.gov/cfmx/extapps/Ga...   \n",
       "42044  {'url': 'http://www.dec.ny.gov/cfmx/extapps/Ga...   \n",
       "\n",
       "                                              Location 1  \n",
       "0      {'longitude': '-74.12681', 'needs_recoding': F...  \n",
       "1      {'longitude': '-73.90768', 'needs_recoding': F...  \n",
       "42044  {'longitude': '-75.519335', 'needs_recoding': ...  \n",
       "\n",
       "[3 rows x 51 columns]"
      ]
     },
     "execution_count": 41,
     "metadata": {},
     "output_type": "execute_result"
    }
   ],
   "source": [
    "data.head(2).append(data.tail(1))"
   ]
  },
  {
   "cell_type": "code",
   "execution_count": 20,
   "metadata": {},
   "outputs": [
    {
     "name": "stdout",
     "output_type": "stream",
     "text": [
      "<class 'pandas.core.frame.DataFrame'>\n",
      "RangeIndex: 42045 entries, 0 to 42044\n",
      "Data columns (total 51 columns):\n",
      "API Well Number                   42045 non-null int64\n",
      "County Code                       42045 non-null int64\n",
      "API Hole Number                   42045 non-null int64\n",
      "Sidetrack                         42045 non-null int64\n",
      "Completion                        42045 non-null int64\n",
      "Well Name                         41958 non-null object\n",
      "Company Name                      40887 non-null object\n",
      "Operator Number                   42045 non-null int64\n",
      "Well Type                         42045 non-null object\n",
      "Map Symbol                        42045 non-null object\n",
      "Well Status                       42045 non-null object\n",
      "Status Date                       24222 non-null object\n",
      "Permit Application Date           17658 non-null object\n",
      "Permit Issued Date                17631 non-null object\n",
      "Date Spudded                      19580 non-null object\n",
      "Date of Total Depth               16216 non-null object\n",
      "Date Well Completed               22062 non-null object\n",
      "Date Well Plugged                 16724 non-null object\n",
      "Date Well Confidentiality Ends    7015 non-null object\n",
      "Confidentiality Code              41965 non-null object\n",
      "Town                              41356 non-null object\n",
      "Quad                              40968 non-null object\n",
      "Quad Section                      37450 non-null object\n",
      "Producing Field                   36586 non-null object\n",
      "Producing Formation               31930 non-null object\n",
      "Financial Security                42039 non-null object\n",
      "Slant                             42022 non-null object\n",
      "County                            42006 non-null object\n",
      "Region                            42039 non-null float64\n",
      "State Lease                       438 non-null object\n",
      "Proposed Depth, ft                40443 non-null float64\n",
      "Surface Longitude                 40829 non-null float64\n",
      "Surface Latitude                  40829 non-null float64\n",
      "Bottom Hole Longitude             40711 non-null float64\n",
      "Bottom Hole Latitude              40711 non-null float64\n",
      "True Vertical Depth, ft           42039 non-null float64\n",
      "Measured Depth, ft                42039 non-null float64\n",
      "Kickoff, ft                       42039 non-null float64\n",
      "Drilled Depth, ft                 42039 non-null float64\n",
      "Elevation, ft                     24825 non-null float64\n",
      "Original Well Type                42039 non-null object\n",
      "Permit Fee                        41956 non-null float64\n",
      "Objective Formation               13351 non-null object\n",
      "Depth Fee                         42039 non-null float64\n",
      "Spacing                           5017 non-null object\n",
      "Spacing Acres                     1163 non-null float64\n",
      "Integration                       4355 non-null object\n",
      "Hearing Date                      285 non-null object\n",
      "Date Last Modified                42045 non-null object\n",
      "DEC Database Link                 42045 non-null object\n",
      "Location 1                        40829 non-null object\n",
      "dtypes: float64(14), int64(6), object(31)\n",
      "memory usage: 16.4+ MB\n"
     ]
    }
   ],
   "source": [
    "data.info()"
   ]
  },
  {
   "cell_type": "code",
   "execution_count": 42,
   "metadata": {},
   "outputs": [
    {
     "data": {
      "text/plain": [
       "Index(['API Well Number', 'County Code', 'API Hole Number', 'Sidetrack',\n",
       "       'Completion', 'Well Name', 'Company Name', 'Operator Number',\n",
       "       'Well Type', 'Map Symbol', 'Well Status ', 'Status Date',\n",
       "       'Permit Application Date', 'Permit Issued Date', 'Date Spudded',\n",
       "       'Date of Total Depth', 'Date Well Completed', 'Date Well Plugged',\n",
       "       'Date Well Confidentiality Ends', 'Confidentiality Code', 'Town',\n",
       "       'Quad', 'Quad Section', 'Producing Field', 'Producing Formation',\n",
       "       'Financial Security', 'Slant', 'County', 'Region', 'State Lease',\n",
       "       'Proposed Depth, ft', 'Surface Longitude', 'Surface Latitude',\n",
       "       'Bottom Hole Longitude', 'Bottom Hole Latitude',\n",
       "       'True Vertical Depth, ft', 'Measured Depth, ft', 'Kickoff, ft',\n",
       "       'Drilled Depth, ft', 'Elevation, ft', 'Original Well Type',\n",
       "       'Permit Fee', 'Objective Formation', 'Depth Fee', 'Spacing',\n",
       "       'Spacing Acres', 'Integration', 'Hearing Date', 'Date Last Modified',\n",
       "       'DEC Database Link', 'Location 1'],\n",
       "      dtype='object')"
      ]
     },
     "execution_count": 42,
     "metadata": {},
     "output_type": "execute_result"
    }
   ],
   "source": [
    "data.columns"
   ]
  },
  {
   "cell_type": "markdown",
   "metadata": {},
   "source": [
    "## Candidate Field Selection"
   ]
  },
  {
   "cell_type": "code",
   "execution_count": 43,
   "metadata": {},
   "outputs": [
    {
     "data": {
      "text/plain": [
       "353"
      ]
     },
     "execution_count": 43,
     "metadata": {},
     "output_type": "execute_result"
    }
   ],
   "source": [
    "data['Producing Field'].nunique()"
   ]
  },
  {
   "cell_type": "code",
   "execution_count": 44,
   "metadata": {},
   "outputs": [
    {
     "data": {
      "text/plain": [
       "Producing Field\n",
       "Richburg                   8447\n",
       "Lakeshore                  5680\n",
       "Bradford                   4250\n",
       "Chipmunk                   2886\n",
       "Beech Hill-Independence    1018\n",
       "                           ... \n",
       "Great Valley                  1\n",
       "Grass Hill South              1\n",
       "Goundry Hill                  1\n",
       "Gilbert                       1\n",
       "Guyanoga Valley               1\n",
       "Name: API Well Number, Length: 353, dtype: int64"
      ]
     },
     "execution_count": 44,
     "metadata": {},
     "output_type": "execute_result"
    }
   ],
   "source": [
    "data.groupby(['Producing Field']).count()['API Well Number'].sort_values(ascending=False)"
   ]
  },
  {
   "cell_type": "code",
   "execution_count": 48,
   "metadata": {},
   "outputs": [
    {
     "data": {
      "text/plain": [
       "array(['NL', 'TH', 'ST', 'MS', 'DW', 'GD', 'GW', 'DH', 'OD', 'IW', 'OW',\n",
       "       'OE', 'DS', 'GE', 'MM', 'SG', 'Confidential', 'LP', 'BR', 'MB'],\n",
       "      dtype=object)"
      ]
     },
     "execution_count": 48,
     "metadata": {},
     "output_type": "execute_result"
    }
   ],
   "source": [
    "data['Well Type'].unique()"
   ]
  },
  {
   "cell_type": "code",
   "execution_count": 49,
   "metadata": {},
   "outputs": [],
   "source": [
    "# data.loc[data['Producing Field']=='Bradford']['Slant'].unique()"
   ]
  },
  {
   "cell_type": "markdown",
   "metadata": {},
   "source": [
    "### Richburg Field"
   ]
  },
  {
   "cell_type": "code",
   "execution_count": 52,
   "metadata": {},
   "outputs": [
    {
     "data": {
      "text/html": [
       "<div>\n",
       "<style scoped>\n",
       "    .dataframe tbody tr th:only-of-type {\n",
       "        vertical-align: middle;\n",
       "    }\n",
       "\n",
       "    .dataframe tbody tr th {\n",
       "        vertical-align: top;\n",
       "    }\n",
       "\n",
       "    .dataframe thead th {\n",
       "        text-align: right;\n",
       "    }\n",
       "</style>\n",
       "<table border=\"1\" class=\"dataframe\">\n",
       "  <thead>\n",
       "    <tr style=\"text-align: right;\">\n",
       "      <th></th>\n",
       "      <th>API Well Number</th>\n",
       "      <th>County Code</th>\n",
       "      <th>API Hole Number</th>\n",
       "      <th>Sidetrack</th>\n",
       "      <th>Completion</th>\n",
       "      <th>Well Name</th>\n",
       "      <th>Company Name</th>\n",
       "      <th>Operator Number</th>\n",
       "      <th>Well Type</th>\n",
       "      <th>Map Symbol</th>\n",
       "      <th>...</th>\n",
       "      <th>Permit Fee</th>\n",
       "      <th>Objective Formation</th>\n",
       "      <th>Depth Fee</th>\n",
       "      <th>Spacing</th>\n",
       "      <th>Spacing Acres</th>\n",
       "      <th>Integration</th>\n",
       "      <th>Hearing Date</th>\n",
       "      <th>Date Last Modified</th>\n",
       "      <th>DEC Database Link</th>\n",
       "      <th>Location 1</th>\n",
       "    </tr>\n",
       "  </thead>\n",
       "  <tbody>\n",
       "    <tr>\n",
       "      <td>59</td>\n",
       "      <td>31003002460000</td>\n",
       "      <td>3</td>\n",
       "      <td>246</td>\n",
       "      <td>0</td>\n",
       "      <td>0</td>\n",
       "      <td>Chadwick F 1</td>\n",
       "      <td>Columbia Gas Transmission Corp.</td>\n",
       "      <td>31</td>\n",
       "      <td>OD</td>\n",
       "      <td>OWP</td>\n",
       "      <td>...</td>\n",
       "      <td>0.0</td>\n",
       "      <td>NaN</td>\n",
       "      <td>0.0</td>\n",
       "      <td>NaN</td>\n",
       "      <td>NaN</td>\n",
       "      <td>NaN</td>\n",
       "      <td>NaN</td>\n",
       "      <td>1999-02-03T00:00:00</td>\n",
       "      <td>{'url': 'http://www.dec.ny.gov/cfmx/extapps/Ga...</td>\n",
       "      <td>{'longitude': '-78.17065', 'needs_recoding': F...</td>\n",
       "    </tr>\n",
       "    <tr>\n",
       "      <td>239</td>\n",
       "      <td>31003038710000</td>\n",
       "      <td>3</td>\n",
       "      <td>3871</td>\n",
       "      <td>0</td>\n",
       "      <td>0</td>\n",
       "      <td>Lot 54 23</td>\n",
       "      <td>Bradley Producing Corp.</td>\n",
       "      <td>101</td>\n",
       "      <td>IW</td>\n",
       "      <td>OP</td>\n",
       "      <td>...</td>\n",
       "      <td>0.0</td>\n",
       "      <td>NaN</td>\n",
       "      <td>0.0</td>\n",
       "      <td>NaN</td>\n",
       "      <td>NaN</td>\n",
       "      <td>NaN</td>\n",
       "      <td>NaN</td>\n",
       "      <td>1998-12-14T00:00:00</td>\n",
       "      <td>{'url': 'http://www.dec.ny.gov/cfmx/extapps/Ga...</td>\n",
       "      <td>{'longitude': '-78.01705', 'needs_recoding': F...</td>\n",
       "    </tr>\n",
       "    <tr>\n",
       "      <td>243</td>\n",
       "      <td>31003038750000</td>\n",
       "      <td>3</td>\n",
       "      <td>3875</td>\n",
       "      <td>0</td>\n",
       "      <td>0</td>\n",
       "      <td>Jordan 220</td>\n",
       "      <td>Bradley Producing Corp.</td>\n",
       "      <td>101</td>\n",
       "      <td>IW</td>\n",
       "      <td>OP</td>\n",
       "      <td>...</td>\n",
       "      <td>0.0</td>\n",
       "      <td>NaN</td>\n",
       "      <td>0.0</td>\n",
       "      <td>NaN</td>\n",
       "      <td>NaN</td>\n",
       "      <td>NaN</td>\n",
       "      <td>NaN</td>\n",
       "      <td>1999-01-20T00:00:00</td>\n",
       "      <td>{'url': 'http://www.dec.ny.gov/cfmx/extapps/Ga...</td>\n",
       "      <td>{'longitude': '-78.1723', 'needs_recoding': Fa...</td>\n",
       "    </tr>\n",
       "  </tbody>\n",
       "</table>\n",
       "<p>3 rows × 51 columns</p>\n",
       "</div>"
      ],
      "text/plain": [
       "     API Well Number  County Code  API Hole Number  Sidetrack  Completion  \\\n",
       "59    31003002460000            3              246          0           0   \n",
       "239   31003038710000            3             3871          0           0   \n",
       "243   31003038750000            3             3875          0           0   \n",
       "\n",
       "        Well Name                     Company Name  Operator Number Well Type  \\\n",
       "59   Chadwick F 1  Columbia Gas Transmission Corp.               31        OD   \n",
       "239     Lot 54 23          Bradley Producing Corp.              101        IW   \n",
       "243    Jordan 220          Bradley Producing Corp.              101        IW   \n",
       "\n",
       "    Map Symbol  ... Permit Fee Objective Formation Depth Fee Spacing  \\\n",
       "59         OWP  ...        0.0                 NaN       0.0     NaN   \n",
       "239         OP  ...        0.0                 NaN       0.0     NaN   \n",
       "243         OP  ...        0.0                 NaN       0.0     NaN   \n",
       "\n",
       "    Spacing Acres Integration Hearing Date   Date Last Modified  \\\n",
       "59            NaN         NaN          NaN  1999-02-03T00:00:00   \n",
       "239           NaN         NaN          NaN  1998-12-14T00:00:00   \n",
       "243           NaN         NaN          NaN  1999-01-20T00:00:00   \n",
       "\n",
       "                                     DEC Database Link  \\\n",
       "59   {'url': 'http://www.dec.ny.gov/cfmx/extapps/Ga...   \n",
       "239  {'url': 'http://www.dec.ny.gov/cfmx/extapps/Ga...   \n",
       "243  {'url': 'http://www.dec.ny.gov/cfmx/extapps/Ga...   \n",
       "\n",
       "                                            Location 1  \n",
       "59   {'longitude': '-78.17065', 'needs_recoding': F...  \n",
       "239  {'longitude': '-78.01705', 'needs_recoding': F...  \n",
       "243  {'longitude': '-78.1723', 'needs_recoding': Fa...  \n",
       "\n",
       "[3 rows x 51 columns]"
      ]
     },
     "execution_count": 52,
     "metadata": {},
     "output_type": "execute_result"
    }
   ],
   "source": [
    "data.loc[data['Producing Field']=='Richburg'].head(3)"
   ]
  },
  {
   "cell_type": "code",
   "execution_count": 51,
   "metadata": {},
   "outputs": [
    {
     "data": {
      "text/plain": [
       "6992"
      ]
     },
     "execution_count": 51,
     "metadata": {},
     "output_type": "execute_result"
    }
   ],
   "source": [
    "data.loc[data['Producing Field']=='Richburg']['Date Well Completed'].isna().sum()"
   ]
  },
  {
   "cell_type": "markdown",
   "metadata": {},
   "source": [
    "### Lakeshore Field"
   ]
  },
  {
   "cell_type": "code",
   "execution_count": 56,
   "metadata": {},
   "outputs": [
    {
     "data": {
      "text/html": [
       "<div>\n",
       "<style scoped>\n",
       "    .dataframe tbody tr th:only-of-type {\n",
       "        vertical-align: middle;\n",
       "    }\n",
       "\n",
       "    .dataframe tbody tr th {\n",
       "        vertical-align: top;\n",
       "    }\n",
       "\n",
       "    .dataframe thead th {\n",
       "        text-align: right;\n",
       "    }\n",
       "</style>\n",
       "<table border=\"1\" class=\"dataframe\">\n",
       "  <thead>\n",
       "    <tr style=\"text-align: right;\">\n",
       "      <th></th>\n",
       "      <th>API Well Number</th>\n",
       "      <th>County Code</th>\n",
       "      <th>API Hole Number</th>\n",
       "      <th>Sidetrack</th>\n",
       "      <th>Completion</th>\n",
       "      <th>Well Name</th>\n",
       "      <th>Company Name</th>\n",
       "      <th>Operator Number</th>\n",
       "      <th>Well Type</th>\n",
       "      <th>Map Symbol</th>\n",
       "      <th>...</th>\n",
       "      <th>Permit Fee</th>\n",
       "      <th>Objective Formation</th>\n",
       "      <th>Depth Fee</th>\n",
       "      <th>Spacing</th>\n",
       "      <th>Spacing Acres</th>\n",
       "      <th>Integration</th>\n",
       "      <th>Hearing Date</th>\n",
       "      <th>Date Last Modified</th>\n",
       "      <th>DEC Database Link</th>\n",
       "      <th>Location 1</th>\n",
       "    </tr>\n",
       "  </thead>\n",
       "  <tbody>\n",
       "    <tr>\n",
       "      <td>27169</td>\n",
       "      <td>31013155430000</td>\n",
       "      <td>13</td>\n",
       "      <td>15543</td>\n",
       "      <td>0</td>\n",
       "      <td>0</td>\n",
       "      <td>Reed, N 2</td>\n",
       "      <td>Empire Energy E&amp;P LLC</td>\n",
       "      <td>2544</td>\n",
       "      <td>GD</td>\n",
       "      <td>GW</td>\n",
       "      <td>...</td>\n",
       "      <td>20.0</td>\n",
       "      <td>NaN</td>\n",
       "      <td>0.0</td>\n",
       "      <td>NaN</td>\n",
       "      <td>NaN</td>\n",
       "      <td>NaN</td>\n",
       "      <td>NaN</td>\n",
       "      <td>2010-06-04T00:00:00</td>\n",
       "      <td>{'url': 'http://www.dec.ny.gov/cfmx/extapps/Ga...</td>\n",
       "      <td>{'longitude': '-79.56471', 'needs_recoding': F...</td>\n",
       "    </tr>\n",
       "    <tr>\n",
       "      <td>30132</td>\n",
       "      <td>31013249450000</td>\n",
       "      <td>13</td>\n",
       "      <td>24945</td>\n",
       "      <td>0</td>\n",
       "      <td>0</td>\n",
       "      <td>Canadaway Wildlife Area 8-38227</td>\n",
       "      <td>Seneca Resources Corporation</td>\n",
       "      <td>826</td>\n",
       "      <td>NL</td>\n",
       "      <td>O</td>\n",
       "      <td>...</td>\n",
       "      <td>1430.0</td>\n",
       "      <td>Medina</td>\n",
       "      <td>1330.0</td>\n",
       "      <td>Exempt from Title 5; complies with 6 NYCRR 553...</td>\n",
       "      <td>NaN</td>\n",
       "      <td>No integration order required</td>\n",
       "      <td>NaN</td>\n",
       "      <td>2014-02-13T00:00:00</td>\n",
       "      <td>{'url': 'http://www.dec.ny.gov/cfmx/extapps/Ga...</td>\n",
       "      <td>{'longitude': '-79.233288', 'needs_recoding': ...</td>\n",
       "    </tr>\n",
       "    <tr>\n",
       "      <td>26242</td>\n",
       "      <td>31013125970000</td>\n",
       "      <td>13</td>\n",
       "      <td>12597</td>\n",
       "      <td>0</td>\n",
       "      <td>0</td>\n",
       "      <td>Betram 127</td>\n",
       "      <td>Empire Energy E&amp;P LLC</td>\n",
       "      <td>2544</td>\n",
       "      <td>GD</td>\n",
       "      <td>GW</td>\n",
       "      <td>...</td>\n",
       "      <td>0.0</td>\n",
       "      <td>NaN</td>\n",
       "      <td>0.0</td>\n",
       "      <td>NaN</td>\n",
       "      <td>NaN</td>\n",
       "      <td>NaN</td>\n",
       "      <td>NaN</td>\n",
       "      <td>2010-06-04T00:00:00</td>\n",
       "      <td>{'url': 'http://www.dec.ny.gov/cfmx/extapps/Ga...</td>\n",
       "      <td>{'longitude': '-79.50384', 'needs_recoding': F...</td>\n",
       "    </tr>\n",
       "  </tbody>\n",
       "</table>\n",
       "<p>3 rows × 51 columns</p>\n",
       "</div>"
      ],
      "text/plain": [
       "       API Well Number  County Code  API Hole Number  Sidetrack  Completion  \\\n",
       "27169   31013155430000           13            15543          0           0   \n",
       "30132   31013249450000           13            24945          0           0   \n",
       "26242   31013125970000           13            12597          0           0   \n",
       "\n",
       "                                  Well Name                  Company Name  \\\n",
       "27169                             Reed, N 2         Empire Energy E&P LLC   \n",
       "30132  Canadaway Wildlife Area 8-38227       Seneca Resources Corporation   \n",
       "26242                            Betram 127         Empire Energy E&P LLC   \n",
       "\n",
       "       Operator Number Well Type Map Symbol  ... Permit Fee  \\\n",
       "27169             2544        GD         GW  ...       20.0   \n",
       "30132              826        NL          O  ...     1430.0   \n",
       "26242             2544        GD         GW  ...        0.0   \n",
       "\n",
       "      Objective Formation Depth Fee  \\\n",
       "27169                 NaN       0.0   \n",
       "30132              Medina    1330.0   \n",
       "26242                 NaN       0.0   \n",
       "\n",
       "                                                 Spacing Spacing Acres  \\\n",
       "27169                                                NaN           NaN   \n",
       "30132  Exempt from Title 5; complies with 6 NYCRR 553...           NaN   \n",
       "26242                                                NaN           NaN   \n",
       "\n",
       "                         Integration Hearing Date   Date Last Modified  \\\n",
       "27169                            NaN          NaN  2010-06-04T00:00:00   \n",
       "30132  No integration order required          NaN  2014-02-13T00:00:00   \n",
       "26242                            NaN          NaN  2010-06-04T00:00:00   \n",
       "\n",
       "                                       DEC Database Link  \\\n",
       "27169  {'url': 'http://www.dec.ny.gov/cfmx/extapps/Ga...   \n",
       "30132  {'url': 'http://www.dec.ny.gov/cfmx/extapps/Ga...   \n",
       "26242  {'url': 'http://www.dec.ny.gov/cfmx/extapps/Ga...   \n",
       "\n",
       "                                              Location 1  \n",
       "27169  {'longitude': '-79.56471', 'needs_recoding': F...  \n",
       "30132  {'longitude': '-79.233288', 'needs_recoding': ...  \n",
       "26242  {'longitude': '-79.50384', 'needs_recoding': F...  \n",
       "\n",
       "[3 rows x 51 columns]"
      ]
     },
     "execution_count": 56,
     "metadata": {},
     "output_type": "execute_result"
    }
   ],
   "source": [
    "data.loc[data['Producing Field']=='Lakeshore'].sample(3)"
   ]
  },
  {
   "cell_type": "code",
   "execution_count": 47,
   "metadata": {},
   "outputs": [
    {
     "data": {
      "text/plain": [
       "649"
      ]
     },
     "execution_count": 47,
     "metadata": {},
     "output_type": "execute_result"
    }
   ],
   "source": [
    "data.loc[data['Producing Field']=='Lakeshore']['Date Well Completed'].isna().sum()"
   ]
  },
  {
   "cell_type": "code",
   "execution_count": 57,
   "metadata": {},
   "outputs": [],
   "source": [
    "fld = data.loc[data['Producing Field']=='Lakeshore']"
   ]
  },
  {
   "cell_type": "code",
   "execution_count": 64,
   "metadata": {},
   "outputs": [
    {
     "data": {
      "text/plain": [
       "Well Type\n",
       "GD    4891\n",
       "NL     402\n",
       "DH     215\n",
       "GW      71\n",
       "DW      69\n",
       "GE      23\n",
       "OW       4\n",
       "OD       3\n",
       "SG       1\n",
       "DS       1\n",
       "Name: API Well Number, dtype: int64"
      ]
     },
     "execution_count": 64,
     "metadata": {},
     "output_type": "execute_result"
    }
   ],
   "source": [
    "fld.groupby(['Well Type']).count()['API Well Number'].sort_values(ascending=False)"
   ]
  },
  {
   "cell_type": "code",
   "execution_count": null,
   "metadata": {},
   "outputs": [],
   "source": []
  },
  {
   "cell_type": "code",
   "execution_count": 66,
   "metadata": {},
   "outputs": [],
   "source": [
    "### leave only Gas Development\n",
    "fld = fld.loc[fld['Well Type']=='GD']"
   ]
  },
  {
   "cell_type": "code",
   "execution_count": 67,
   "metadata": {},
   "outputs": [
    {
     "data": {
      "text/plain": [
       "174"
      ]
     },
     "execution_count": 67,
     "metadata": {},
     "output_type": "execute_result"
    }
   ],
   "source": [
    "fld['Date Well Completed'].isna().sum()"
   ]
  },
  {
   "cell_type": "code",
   "execution_count": 69,
   "metadata": {},
   "outputs": [
    {
     "data": {
      "text/html": [
       "<div>\n",
       "<style scoped>\n",
       "    .dataframe tbody tr th:only-of-type {\n",
       "        vertical-align: middle;\n",
       "    }\n",
       "\n",
       "    .dataframe tbody tr th {\n",
       "        vertical-align: top;\n",
       "    }\n",
       "\n",
       "    .dataframe thead th {\n",
       "        text-align: right;\n",
       "    }\n",
       "</style>\n",
       "<table border=\"1\" class=\"dataframe\">\n",
       "  <thead>\n",
       "    <tr style=\"text-align: right;\">\n",
       "      <th></th>\n",
       "      <th>API Well Number</th>\n",
       "      <th>County Code</th>\n",
       "      <th>API Hole Number</th>\n",
       "      <th>Sidetrack</th>\n",
       "      <th>Completion</th>\n",
       "      <th>Well Name</th>\n",
       "      <th>Company Name</th>\n",
       "      <th>Operator Number</th>\n",
       "      <th>Well Type</th>\n",
       "      <th>Map Symbol</th>\n",
       "      <th>...</th>\n",
       "      <th>Permit Fee</th>\n",
       "      <th>Objective Formation</th>\n",
       "      <th>Depth Fee</th>\n",
       "      <th>Spacing</th>\n",
       "      <th>Spacing Acres</th>\n",
       "      <th>Integration</th>\n",
       "      <th>Hearing Date</th>\n",
       "      <th>Date Last Modified</th>\n",
       "      <th>DEC Database Link</th>\n",
       "      <th>Location 1</th>\n",
       "    </tr>\n",
       "  </thead>\n",
       "  <tbody>\n",
       "    <tr>\n",
       "      <td>29184</td>\n",
       "      <td>31013209030000</td>\n",
       "      <td>13</td>\n",
       "      <td>20903</td>\n",
       "      <td>0</td>\n",
       "      <td>0</td>\n",
       "      <td>Pascatore 1 6724</td>\n",
       "      <td>PPP Future Development Inc.</td>\n",
       "      <td>2740</td>\n",
       "      <td>GD</td>\n",
       "      <td>GW</td>\n",
       "      <td>...</td>\n",
       "      <td>1225.0</td>\n",
       "      <td>Medina</td>\n",
       "      <td>1125.0</td>\n",
       "      <td>NaN</td>\n",
       "      <td>NaN</td>\n",
       "      <td>NaN</td>\n",
       "      <td>NaN</td>\n",
       "      <td>2017-11-14T00:00:00</td>\n",
       "      <td>{'url': 'http://www.dec.ny.gov/cfmx/extapps/Ga...</td>\n",
       "      <td>{'longitude': '-79.25976', 'needs_recoding': F...</td>\n",
       "    </tr>\n",
       "    <tr>\n",
       "      <td>27702</td>\n",
       "      <td>31013169370000</td>\n",
       "      <td>13</td>\n",
       "      <td>16937</td>\n",
       "      <td>0</td>\n",
       "      <td>0</td>\n",
       "      <td>Stebbins 1</td>\n",
       "      <td>Stedman Energy Inc.</td>\n",
       "      <td>1145</td>\n",
       "      <td>GD</td>\n",
       "      <td>GW</td>\n",
       "      <td>...</td>\n",
       "      <td>1100.0</td>\n",
       "      <td>Medina</td>\n",
       "      <td>1000.0</td>\n",
       "      <td>NaN</td>\n",
       "      <td>NaN</td>\n",
       "      <td>NaN</td>\n",
       "      <td>NaN</td>\n",
       "      <td>2004-01-05T00:00:00</td>\n",
       "      <td>{'url': 'http://www.dec.ny.gov/cfmx/extapps/Ga...</td>\n",
       "      <td>{'longitude': '-79.61449', 'needs_recoding': F...</td>\n",
       "    </tr>\n",
       "    <tr>\n",
       "      <td>27455</td>\n",
       "      <td>31013162670000</td>\n",
       "      <td>13</td>\n",
       "      <td>16267</td>\n",
       "      <td>0</td>\n",
       "      <td>0</td>\n",
       "      <td>Fairbanks 3</td>\n",
       "      <td>Cotton Well Drilling Company Inc.</td>\n",
       "      <td>1206</td>\n",
       "      <td>GD</td>\n",
       "      <td>GW</td>\n",
       "      <td>...</td>\n",
       "      <td>0.0</td>\n",
       "      <td>NaN</td>\n",
       "      <td>0.0</td>\n",
       "      <td>NaN</td>\n",
       "      <td>NaN</td>\n",
       "      <td>NaN</td>\n",
       "      <td>NaN</td>\n",
       "      <td>2004-01-05T00:00:00</td>\n",
       "      <td>{'url': 'http://www.dec.ny.gov/cfmx/extapps/Ga...</td>\n",
       "      <td>{'longitude': '-79.18597', 'needs_recoding': F...</td>\n",
       "    </tr>\n",
       "    <tr>\n",
       "      <td>26822</td>\n",
       "      <td>31013146170000</td>\n",
       "      <td>13</td>\n",
       "      <td>14617</td>\n",
       "      <td>0</td>\n",
       "      <td>0</td>\n",
       "      <td>McCreary, W 1</td>\n",
       "      <td>Empire Energy E&amp;P LLC</td>\n",
       "      <td>2544</td>\n",
       "      <td>GD</td>\n",
       "      <td>GW</td>\n",
       "      <td>...</td>\n",
       "      <td>20.0</td>\n",
       "      <td>NaN</td>\n",
       "      <td>0.0</td>\n",
       "      <td>NaN</td>\n",
       "      <td>NaN</td>\n",
       "      <td>NaN</td>\n",
       "      <td>NaN</td>\n",
       "      <td>2010-06-04T00:00:00</td>\n",
       "      <td>{'url': 'http://www.dec.ny.gov/cfmx/extapps/Ga...</td>\n",
       "      <td>{'longitude': '-79.49414', 'needs_recoding': F...</td>\n",
       "    </tr>\n",
       "    <tr>\n",
       "      <td>16641</td>\n",
       "      <td>31009184670000</td>\n",
       "      <td>9</td>\n",
       "      <td>18467</td>\n",
       "      <td>0</td>\n",
       "      <td>0</td>\n",
       "      <td>R Priest 1</td>\n",
       "      <td>Empire Energy E&amp;P LLC</td>\n",
       "      <td>2544</td>\n",
       "      <td>GD</td>\n",
       "      <td>GW</td>\n",
       "      <td>...</td>\n",
       "      <td>975.0</td>\n",
       "      <td>Medina</td>\n",
       "      <td>875.0</td>\n",
       "      <td>NaN</td>\n",
       "      <td>NaN</td>\n",
       "      <td>NaN</td>\n",
       "      <td>NaN</td>\n",
       "      <td>2016-08-16T00:00:00</td>\n",
       "      <td>{'url': 'http://www.dec.ny.gov/cfmx/extapps/Ga...</td>\n",
       "      <td>{'longitude': '-78.83717', 'needs_recoding': F...</td>\n",
       "    </tr>\n",
       "  </tbody>\n",
       "</table>\n",
       "<p>5 rows × 51 columns</p>\n",
       "</div>"
      ],
      "text/plain": [
       "       API Well Number  County Code  API Hole Number  Sidetrack  Completion  \\\n",
       "29184   31013209030000           13            20903          0           0   \n",
       "27702   31013169370000           13            16937          0           0   \n",
       "27455   31013162670000           13            16267          0           0   \n",
       "26822   31013146170000           13            14617          0           0   \n",
       "16641   31009184670000            9            18467          0           0   \n",
       "\n",
       "              Well Name                       Company Name  Operator Number  \\\n",
       "29184  Pascatore 1 6724        PPP Future Development Inc.             2740   \n",
       "27702        Stebbins 1                Stedman Energy Inc.             1145   \n",
       "27455       Fairbanks 3  Cotton Well Drilling Company Inc.             1206   \n",
       "26822     McCreary, W 1              Empire Energy E&P LLC             2544   \n",
       "16641        R Priest 1              Empire Energy E&P LLC             2544   \n",
       "\n",
       "      Well Type Map Symbol  ... Permit Fee Objective Formation Depth Fee  \\\n",
       "29184        GD         GW  ...     1225.0              Medina    1125.0   \n",
       "27702        GD         GW  ...     1100.0              Medina    1000.0   \n",
       "27455        GD         GW  ...        0.0                 NaN       0.0   \n",
       "26822        GD         GW  ...       20.0                 NaN       0.0   \n",
       "16641        GD         GW  ...      975.0              Medina     875.0   \n",
       "\n",
       "      Spacing Spacing Acres Integration Hearing Date   Date Last Modified  \\\n",
       "29184     NaN           NaN         NaN          NaN  2017-11-14T00:00:00   \n",
       "27702     NaN           NaN         NaN          NaN  2004-01-05T00:00:00   \n",
       "27455     NaN           NaN         NaN          NaN  2004-01-05T00:00:00   \n",
       "26822     NaN           NaN         NaN          NaN  2010-06-04T00:00:00   \n",
       "16641     NaN           NaN         NaN          NaN  2016-08-16T00:00:00   \n",
       "\n",
       "                                       DEC Database Link  \\\n",
       "29184  {'url': 'http://www.dec.ny.gov/cfmx/extapps/Ga...   \n",
       "27702  {'url': 'http://www.dec.ny.gov/cfmx/extapps/Ga...   \n",
       "27455  {'url': 'http://www.dec.ny.gov/cfmx/extapps/Ga...   \n",
       "26822  {'url': 'http://www.dec.ny.gov/cfmx/extapps/Ga...   \n",
       "16641  {'url': 'http://www.dec.ny.gov/cfmx/extapps/Ga...   \n",
       "\n",
       "                                              Location 1  \n",
       "29184  {'longitude': '-79.25976', 'needs_recoding': F...  \n",
       "27702  {'longitude': '-79.61449', 'needs_recoding': F...  \n",
       "27455  {'longitude': '-79.18597', 'needs_recoding': F...  \n",
       "26822  {'longitude': '-79.49414', 'needs_recoding': F...  \n",
       "16641  {'longitude': '-78.83717', 'needs_recoding': F...  \n",
       "\n",
       "[5 rows x 51 columns]"
      ]
     },
     "execution_count": 69,
     "metadata": {},
     "output_type": "execute_result"
    }
   ],
   "source": [
    "fld.sample(5)"
   ]
  },
  {
   "cell_type": "markdown",
   "metadata": {},
   "source": [
    "### Bradford Field"
   ]
  },
  {
   "cell_type": "code",
   "execution_count": 21,
   "metadata": {},
   "outputs": [
    {
     "data": {
      "text/plain": [
       "374      1966-07-02T00:00:00\n",
       "3727     1979-11-15T00:00:00\n",
       "13444    1934-04-06T00:00:00\n",
       "13693    1961-03-30T00:00:00\n",
       "13713    1962-09-18T00:00:00\n",
       "                ...         \n",
       "23542                    NaN\n",
       "23690                    NaN\n",
       "23691                    NaN\n",
       "30251    2008-08-06T00:00:00\n",
       "30283    2008-08-07T00:00:00\n",
       "Name: Date Well Completed, Length: 4250, dtype: object"
      ]
     },
     "execution_count": 21,
     "metadata": {},
     "output_type": "execute_result"
    }
   ],
   "source": [
    "data.loc[data['Producing Field']=='Bradford']['Date Well Completed']"
   ]
  },
  {
   "cell_type": "code",
   "execution_count": 22,
   "metadata": {},
   "outputs": [
    {
     "data": {
      "text/plain": [
       "2264"
      ]
     },
     "execution_count": 22,
     "metadata": {},
     "output_type": "execute_result"
    }
   ],
   "source": [
    "data.loc[data['Producing Field']=='Bradford']['Date Well Completed'].isna().sum()"
   ]
  },
  {
   "cell_type": "code",
   "execution_count": null,
   "metadata": {},
   "outputs": [],
   "source": [
    "### convert 'date' column to 'datetime' type\n",
    "# data['date'] = pd.to_datetime(df.date) \n",
    "\n",
    "# split column with years values only\n",
    "# df['year_sale'] = df['date'].dt.year # year sale\n",
    "# df['month_sale'] = df['date'].dt.month # month sale"
   ]
  },
  {
   "cell_type": "code",
   "execution_count": null,
   "metadata": {},
   "outputs": [],
   "source": []
  },
  {
   "cell_type": "code",
   "execution_count": null,
   "metadata": {},
   "outputs": [],
   "source": []
  },
  {
   "cell_type": "code",
   "execution_count": null,
   "metadata": {},
   "outputs": [],
   "source": []
  },
  {
   "cell_type": "markdown",
   "metadata": {},
   "source": [
    "### references:"
   ]
  },
  {
   "cell_type": "markdown",
   "metadata": {},
   "source": [
    "https://higherlogicdownload.s3.amazonaws.com/SPE/5fc0079d-67a5-4dd9-a56f-190534ef5d3d/UploadedImages/2019_04_16_ML_SPE_Presentation_Revised.pdf\n",
    "    "
   ]
  },
  {
   "cell_type": "code",
   "execution_count": null,
   "metadata": {},
   "outputs": [],
   "source": []
  }
 ],
 "metadata": {
  "kernelspec": {
   "display_name": "Python 3",
   "language": "python",
   "name": "python3"
  },
  "language_info": {
   "codemirror_mode": {
    "name": "ipython",
    "version": 3
   },
   "file_extension": ".py",
   "mimetype": "text/x-python",
   "name": "python",
   "nbconvert_exporter": "python",
   "pygments_lexer": "ipython3",
   "version": "3.6.9"
  }
 },
 "nbformat": 4,
 "nbformat_minor": 2
}

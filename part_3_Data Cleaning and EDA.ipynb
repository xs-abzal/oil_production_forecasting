{
 "cells": [
  {
   "cell_type": "markdown",
   "metadata": {},
   "source": [
    "## Oil and Gas Production Forecast\n",
    "### Part_3.\n",
    "### 1.1 Import Librries"
   ]
  },
  {
   "cell_type": "code",
   "execution_count": 1,
   "metadata": {},
   "outputs": [],
   "source": [
    "import pandas as pd\n",
    "import numpy as np\n",
    "import warnings\n",
    "\n",
    "from  datetime import datetime, timedelta\n",
    "from sklearn.preprocessing import LabelEncoder,MinMaxScaler\n",
    "import category_encoders as ce\n",
    "\n",
    "import matplotlib.pyplot as plt\n",
    "from mpl_toolkits.mplot3d import Axes3D\n",
    "\n",
    "import gc\n",
    "%matplotlib inline\n",
    "warnings.filterwarnings('ignore')"
   ]
  },
  {
   "cell_type": "markdown",
   "metadata": {},
   "source": [
    "### 1.2 Read in data"
   ]
  },
  {
   "cell_type": "code",
   "execution_count": 2,
   "metadata": {},
   "outputs": [],
   "source": [
    "fld = pd.read_csv('data/fld.csv')"
   ]
  },
  {
   "cell_type": "code",
   "execution_count": 3,
   "metadata": {},
   "outputs": [
    {
     "data": {
      "text/plain": [
       "11"
      ]
     },
     "execution_count": 3,
     "metadata": {},
     "output_type": "execute_result"
    }
   ],
   "source": [
    "df_1 = pd.read_csv('data/df_1.csv')\n",
    "df_2 = pd.read_csv('data/df_2.csv')\n",
    "df_3 = pd.read_csv('data/df_3.csv')\n",
    "df = df_1.append(df_2).append(df_3)\n",
    "del df_1, df_2, df_3\n",
    "gc.collect()"
   ]
  },
  {
   "cell_type": "code",
   "execution_count": 4,
   "metadata": {},
   "outputs": [],
   "source": [
    "df.reset_index(drop=True, inplace=True)"
   ]
  },
  {
   "cell_type": "code",
   "execution_count": 5,
   "metadata": {},
   "outputs": [
    {
     "data": {
      "text/html": [
       "<div>\n",
       "<style scoped>\n",
       "    .dataframe tbody tr th:only-of-type {\n",
       "        vertical-align: middle;\n",
       "    }\n",
       "\n",
       "    .dataframe tbody tr th {\n",
       "        vertical-align: top;\n",
       "    }\n",
       "\n",
       "    .dataframe thead th {\n",
       "        text-align: right;\n",
       "    }\n",
       "</style>\n",
       "<table border=\"1\" class=\"dataframe\">\n",
       "  <thead>\n",
       "    <tr style=\"text-align: right;\">\n",
       "      <th></th>\n",
       "      <th>API Well Number</th>\n",
       "      <th>Year</th>\n",
       "      <th>Operator</th>\n",
       "      <th>OIL (Bbls)</th>\n",
       "      <th>GAS (Mcf)</th>\n",
       "      <th>WATER (Bbls)</th>\n",
       "      <th>Months in Production</th>\n",
       "      <th>Well Type</th>\n",
       "    </tr>\n",
       "  </thead>\n",
       "  <tbody>\n",
       "    <tr>\n",
       "      <td>0</td>\n",
       "      <td>31009019120000</td>\n",
       "      <td>1988</td>\n",
       "      <td>Sager, Howard &amp; Judith</td>\n",
       "      <td>0.0</td>\n",
       "      <td>500.0</td>\n",
       "      <td>0.0</td>\n",
       "      <td>12.0</td>\n",
       "      <td>GD</td>\n",
       "    </tr>\n",
       "    <tr>\n",
       "      <td>1</td>\n",
       "      <td>31009019120000</td>\n",
       "      <td>1989</td>\n",
       "      <td>Sager, Howard &amp; Judith</td>\n",
       "      <td>0.0</td>\n",
       "      <td>500.0</td>\n",
       "      <td>0.0</td>\n",
       "      <td>0.0</td>\n",
       "      <td>GD</td>\n",
       "    </tr>\n",
       "    <tr>\n",
       "      <td>2</td>\n",
       "      <td>31009019120000</td>\n",
       "      <td>1990</td>\n",
       "      <td>Sager, Howard &amp; Judith</td>\n",
       "      <td>0.0</td>\n",
       "      <td>500.0</td>\n",
       "      <td>0.0</td>\n",
       "      <td>12.0</td>\n",
       "      <td>GD</td>\n",
       "    </tr>\n",
       "    <tr>\n",
       "      <td>3</td>\n",
       "      <td>31009019120000</td>\n",
       "      <td>1991</td>\n",
       "      <td>Sager, Howard &amp; Judith</td>\n",
       "      <td>0.0</td>\n",
       "      <td>500.0</td>\n",
       "      <td>0.0</td>\n",
       "      <td>12.0</td>\n",
       "      <td>GD</td>\n",
       "    </tr>\n",
       "    <tr>\n",
       "      <td>121155</td>\n",
       "      <td>31029255050000</td>\n",
       "      <td>2017</td>\n",
       "      <td>U. S. Energy Development Corporation</td>\n",
       "      <td>0.0</td>\n",
       "      <td>2126.0</td>\n",
       "      <td>42.0</td>\n",
       "      <td>7.0</td>\n",
       "      <td>Gas Development</td>\n",
       "    </tr>\n",
       "    <tr>\n",
       "      <td>121156</td>\n",
       "      <td>31029255050000</td>\n",
       "      <td>2018</td>\n",
       "      <td>U. S. Energy Development Corporation</td>\n",
       "      <td>0.0</td>\n",
       "      <td>318.0</td>\n",
       "      <td>45.0</td>\n",
       "      <td>7.0</td>\n",
       "      <td>Gas Development</td>\n",
       "    </tr>\n",
       "    <tr>\n",
       "      <td>121157</td>\n",
       "      <td>31029255050000</td>\n",
       "      <td>2019</td>\n",
       "      <td>U. S. Energy Development Corporation</td>\n",
       "      <td>0.0</td>\n",
       "      <td>2436.0</td>\n",
       "      <td>0.0</td>\n",
       "      <td>12.0</td>\n",
       "      <td>Gas Development</td>\n",
       "    </tr>\n",
       "  </tbody>\n",
       "</table>\n",
       "</div>"
      ],
      "text/plain": [
       "        API Well Number  Year                              Operator  \\\n",
       "0        31009019120000  1988                Sager, Howard & Judith   \n",
       "1        31009019120000  1989                Sager, Howard & Judith   \n",
       "2        31009019120000  1990                Sager, Howard & Judith   \n",
       "3        31009019120000  1991                Sager, Howard & Judith   \n",
       "121155   31029255050000  2017  U. S. Energy Development Corporation   \n",
       "121156   31029255050000  2018  U. S. Energy Development Corporation   \n",
       "121157   31029255050000  2019  U. S. Energy Development Corporation   \n",
       "\n",
       "        OIL (Bbls)  GAS (Mcf)  WATER (Bbls)  Months in Production  \\\n",
       "0              0.0      500.0           0.0                  12.0   \n",
       "1              0.0      500.0           0.0                   0.0   \n",
       "2              0.0      500.0           0.0                  12.0   \n",
       "3              0.0      500.0           0.0                  12.0   \n",
       "121155         0.0     2126.0          42.0                   7.0   \n",
       "121156         0.0      318.0          45.0                   7.0   \n",
       "121157         0.0     2436.0           0.0                  12.0   \n",
       "\n",
       "              Well Type  \n",
       "0                    GD  \n",
       "1                    GD  \n",
       "2                    GD  \n",
       "3                    GD  \n",
       "121155  Gas Development  \n",
       "121156  Gas Development  \n",
       "121157  Gas Development  "
      ]
     },
     "execution_count": 5,
     "metadata": {},
     "output_type": "execute_result"
    }
   ],
   "source": [
    "df.head(4).append(df.tail(3))"
   ]
  },
  {
   "cell_type": "code",
   "execution_count": 6,
   "metadata": {},
   "outputs": [
    {
     "name": "stdout",
     "output_type": "stream",
     "text": [
      "<class 'pandas.core.frame.DataFrame'>\n",
      "RangeIndex: 121158 entries, 0 to 121157\n",
      "Data columns (total 8 columns):\n",
      "API Well Number         121158 non-null int64\n",
      "Year                    121158 non-null int64\n",
      "Operator                121158 non-null object\n",
      "OIL (Bbls)              102545 non-null float64\n",
      "GAS (Mcf)               120678 non-null float64\n",
      "WATER (Bbls)            116452 non-null float64\n",
      "Months in Production    120252 non-null float64\n",
      "Well Type               121158 non-null object\n",
      "dtypes: float64(4), int64(2), object(2)\n",
      "memory usage: 7.4+ MB\n"
     ]
    }
   ],
   "source": [
    "df.info()"
   ]
  },
  {
   "cell_type": "code",
   "execution_count": 7,
   "metadata": {},
   "outputs": [
    {
     "name": "stdout",
     "output_type": "stream",
     "text": [
      "<class 'pandas.core.frame.DataFrame'>\n",
      "RangeIndex: 4717 entries, 0 to 4716\n",
      "Data columns (total 51 columns):\n",
      "API Well Number                   4717 non-null int64\n",
      "County Code                       4717 non-null int64\n",
      "API Hole Number                   4717 non-null int64\n",
      "Sidetrack                         4717 non-null int64\n",
      "Completion                        4717 non-null int64\n",
      "Well Name                         4717 non-null object\n",
      "Company Name                      4689 non-null object\n",
      "Operator Number                   4717 non-null int64\n",
      "Well Type                         4717 non-null object\n",
      "Map Symbol                        4717 non-null object\n",
      "Well Status                       4717 non-null object\n",
      "Status Date                       572 non-null object\n",
      "Permit Application Date           4413 non-null object\n",
      "Permit Issued Date                4455 non-null object\n",
      "Date Spudded                      4629 non-null object\n",
      "Date of Total Depth               4460 non-null object\n",
      "Date Well Completed               4717 non-null object\n",
      "Date Well Plugged                 353 non-null object\n",
      "Date Well Confidentiality Ends    1627 non-null object\n",
      "Confidentiality Code              4717 non-null object\n",
      "Town                              4717 non-null object\n",
      "Quad                              4717 non-null object\n",
      "Quad Section                      4708 non-null object\n",
      "Producing Field                   4717 non-null object\n",
      "Producing Formation               4702 non-null object\n",
      "Financial Security                4717 non-null bool\n",
      "Slant                             4717 non-null object\n",
      "County                            4717 non-null object\n",
      "Region                            4717 non-null float64\n",
      "State Lease                       139 non-null object\n",
      "Proposed Depth, ft                4716 non-null float64\n",
      "Surface Longitude                 4717 non-null float64\n",
      "Surface Latitude                  4717 non-null float64\n",
      "Bottom Hole Longitude             4717 non-null float64\n",
      "Bottom Hole Latitude              4717 non-null float64\n",
      "True Vertical Depth, ft           4717 non-null float64\n",
      "Measured Depth, ft                4717 non-null float64\n",
      "Kickoff, ft                       4717 non-null float64\n",
      "Drilled Depth, ft                 4717 non-null float64\n",
      "Elevation, ft                     4444 non-null float64\n",
      "Original Well Type                4717 non-null object\n",
      "Permit Fee                        4716 non-null float64\n",
      "Objective Formation               2508 non-null object\n",
      "Depth Fee                         4717 non-null float64\n",
      "Spacing                           494 non-null object\n",
      "Spacing Acres                     22 non-null float64\n",
      "Integration                       491 non-null object\n",
      "Hearing Date                      16 non-null object\n",
      "Date Last Modified                4717 non-null object\n",
      "DEC Database Link                 4717 non-null object\n",
      "Location 1                        4717 non-null object\n",
      "dtypes: bool(1), float64(14), int64(6), object(30)\n",
      "memory usage: 1.8+ MB\n"
     ]
    }
   ],
   "source": [
    "fld.info()"
   ]
  },
  {
   "cell_type": "code",
   "execution_count": 8,
   "metadata": {},
   "outputs": [
    {
     "data": {
      "text/html": [
       "<div>\n",
       "<style scoped>\n",
       "    .dataframe tbody tr th:only-of-type {\n",
       "        vertical-align: middle;\n",
       "    }\n",
       "\n",
       "    .dataframe tbody tr th {\n",
       "        vertical-align: top;\n",
       "    }\n",
       "\n",
       "    .dataframe thead th {\n",
       "        text-align: right;\n",
       "    }\n",
       "</style>\n",
       "<table border=\"1\" class=\"dataframe\">\n",
       "  <thead>\n",
       "    <tr style=\"text-align: right;\">\n",
       "      <th></th>\n",
       "      <th>API Well Number</th>\n",
       "      <th>County Code</th>\n",
       "      <th>API Hole Number</th>\n",
       "      <th>Sidetrack</th>\n",
       "      <th>Completion</th>\n",
       "      <th>Well Name</th>\n",
       "      <th>Company Name</th>\n",
       "      <th>Operator Number</th>\n",
       "      <th>Well Type</th>\n",
       "      <th>Map Symbol</th>\n",
       "      <th>...</th>\n",
       "      <th>Permit Fee</th>\n",
       "      <th>Objective Formation</th>\n",
       "      <th>Depth Fee</th>\n",
       "      <th>Spacing</th>\n",
       "      <th>Spacing Acres</th>\n",
       "      <th>Integration</th>\n",
       "      <th>Hearing Date</th>\n",
       "      <th>Date Last Modified</th>\n",
       "      <th>DEC Database Link</th>\n",
       "      <th>Location 1</th>\n",
       "    </tr>\n",
       "  </thead>\n",
       "  <tbody>\n",
       "    <tr>\n",
       "      <td>4475</td>\n",
       "      <td>31013248010000</td>\n",
       "      <td>13</td>\n",
       "      <td>24801</td>\n",
       "      <td>0</td>\n",
       "      <td>0</td>\n",
       "      <td>Nelson S 2-523</td>\n",
       "      <td>PPP Future Development Inc.</td>\n",
       "      <td>2740</td>\n",
       "      <td>GD</td>\n",
       "      <td>GW</td>\n",
       "      <td>...</td>\n",
       "      <td>1810.0</td>\n",
       "      <td>Medina</td>\n",
       "      <td>1710.0</td>\n",
       "      <td>Exempt from Title 5; complies with 6 NYCRR 553...</td>\n",
       "      <td>NaN</td>\n",
       "      <td>No integration order required</td>\n",
       "      <td>NaN</td>\n",
       "      <td>2018-07-20T00:00:00</td>\n",
       "      <td>{'url': 'http://www.dec.ny.gov/cfmx/extapps/Ga...</td>\n",
       "      <td>{'longitude': '-79.31586', 'needs_recoding': F...</td>\n",
       "    </tr>\n",
       "    <tr>\n",
       "      <td>1343</td>\n",
       "      <td>31013117940000</td>\n",
       "      <td>13</td>\n",
       "      <td>11794</td>\n",
       "      <td>0</td>\n",
       "      <td>0</td>\n",
       "      <td>Abram 1</td>\n",
       "      <td>Ronald P. Lehman d/b/a Medina Pipe &amp; Line Company</td>\n",
       "      <td>1930</td>\n",
       "      <td>GD</td>\n",
       "      <td>GW</td>\n",
       "      <td>...</td>\n",
       "      <td>0.0</td>\n",
       "      <td>Medina</td>\n",
       "      <td>0.0</td>\n",
       "      <td>NaN</td>\n",
       "      <td>NaN</td>\n",
       "      <td>NaN</td>\n",
       "      <td>NaN</td>\n",
       "      <td>2004-01-05T00:00:00</td>\n",
       "      <td>{'url': 'http://www.dec.ny.gov/cfmx/extapps/Ga...</td>\n",
       "      <td>{'longitude': '-79.36479', 'needs_recoding': F...</td>\n",
       "    </tr>\n",
       "    <tr>\n",
       "      <td>1806</td>\n",
       "      <td>31013136150000</td>\n",
       "      <td>13</td>\n",
       "      <td>13615</td>\n",
       "      <td>0</td>\n",
       "      <td>0</td>\n",
       "      <td>Pietro 1</td>\n",
       "      <td>U. S. Energy Development Corporation</td>\n",
       "      <td>708</td>\n",
       "      <td>GD</td>\n",
       "      <td>GW</td>\n",
       "      <td>...</td>\n",
       "      <td>0.0</td>\n",
       "      <td>NaN</td>\n",
       "      <td>0.0</td>\n",
       "      <td>NaN</td>\n",
       "      <td>NaN</td>\n",
       "      <td>NaN</td>\n",
       "      <td>NaN</td>\n",
       "      <td>2003-01-24T00:00:00</td>\n",
       "      <td>{'url': 'http://www.dec.ny.gov/cfmx/extapps/Ga...</td>\n",
       "      <td>{'longitude': '-79.35203', 'needs_recoding': F...</td>\n",
       "    </tr>\n",
       "  </tbody>\n",
       "</table>\n",
       "<p>3 rows × 51 columns</p>\n",
       "</div>"
      ],
      "text/plain": [
       "      API Well Number  County Code  API Hole Number  Sidetrack  Completion  \\\n",
       "4475   31013248010000           13            24801          0           0   \n",
       "1343   31013117940000           13            11794          0           0   \n",
       "1806   31013136150000           13            13615          0           0   \n",
       "\n",
       "                Well Name                                       Company Name  \\\n",
       "4475  Nelson S 2-523                             PPP Future Development Inc.   \n",
       "1343              Abram 1  Ronald P. Lehman d/b/a Medina Pipe & Line Company   \n",
       "1806             Pietro 1               U. S. Energy Development Corporation   \n",
       "\n",
       "      Operator Number Well Type Map Symbol  ... Permit Fee  \\\n",
       "4475             2740        GD         GW  ...     1810.0   \n",
       "1343             1930        GD         GW  ...        0.0   \n",
       "1806              708        GD         GW  ...        0.0   \n",
       "\n",
       "     Objective Formation Depth Fee  \\\n",
       "4475              Medina    1710.0   \n",
       "1343              Medina       0.0   \n",
       "1806                 NaN       0.0   \n",
       "\n",
       "                                                Spacing Spacing Acres  \\\n",
       "4475  Exempt from Title 5; complies with 6 NYCRR 553...           NaN   \n",
       "1343                                                NaN           NaN   \n",
       "1806                                                NaN           NaN   \n",
       "\n",
       "                        Integration Hearing Date   Date Last Modified  \\\n",
       "4475  No integration order required          NaN  2018-07-20T00:00:00   \n",
       "1343                            NaN          NaN  2004-01-05T00:00:00   \n",
       "1806                            NaN          NaN  2003-01-24T00:00:00   \n",
       "\n",
       "                                      DEC Database Link  \\\n",
       "4475  {'url': 'http://www.dec.ny.gov/cfmx/extapps/Ga...   \n",
       "1343  {'url': 'http://www.dec.ny.gov/cfmx/extapps/Ga...   \n",
       "1806  {'url': 'http://www.dec.ny.gov/cfmx/extapps/Ga...   \n",
       "\n",
       "                                             Location 1  \n",
       "4475  {'longitude': '-79.31586', 'needs_recoding': F...  \n",
       "1343  {'longitude': '-79.36479', 'needs_recoding': F...  \n",
       "1806  {'longitude': '-79.35203', 'needs_recoding': F...  \n",
       "\n",
       "[3 rows x 51 columns]"
      ]
     },
     "execution_count": 8,
     "metadata": {},
     "output_type": "execute_result"
    }
   ],
   "source": [
    "fld.sample(3)"
   ]
  },
  {
   "cell_type": "markdown",
   "metadata": {},
   "source": [
    "### Data Cleaning"
   ]
  },
  {
   "cell_type": "code",
   "execution_count": 9,
   "metadata": {},
   "outputs": [
    {
     "data": {
      "text/plain": [
       "array(['GD'], dtype=object)"
      ]
     },
     "execution_count": 9,
     "metadata": {},
     "output_type": "execute_result"
    }
   ],
   "source": [
    "fld['Well Type'].unique()"
   ]
  },
  {
   "cell_type": "code",
   "execution_count": 10,
   "metadata": {},
   "outputs": [
    {
     "data": {
      "text/plain": [
       "array(['GWP', 'GW', 'O'], dtype=object)"
      ]
     },
     "execution_count": 10,
     "metadata": {},
     "output_type": "execute_result"
    }
   ],
   "source": [
    "fld['Map Symbol'].unique()"
   ]
  },
  {
   "cell_type": "code",
   "execution_count": 11,
   "metadata": {},
   "outputs": [
    {
     "data": {
      "text/html": [
       "<div>\n",
       "<style scoped>\n",
       "    .dataframe tbody tr th:only-of-type {\n",
       "        vertical-align: middle;\n",
       "    }\n",
       "\n",
       "    .dataframe tbody tr th {\n",
       "        vertical-align: top;\n",
       "    }\n",
       "\n",
       "    .dataframe thead th {\n",
       "        text-align: right;\n",
       "    }\n",
       "</style>\n",
       "<table border=\"1\" class=\"dataframe\">\n",
       "  <thead>\n",
       "    <tr style=\"text-align: right;\">\n",
       "      <th></th>\n",
       "      <th>API Well Number</th>\n",
       "      <th>County Code</th>\n",
       "      <th>API Hole Number</th>\n",
       "      <th>Sidetrack</th>\n",
       "      <th>Completion</th>\n",
       "      <th>Operator Number</th>\n",
       "      <th>Region</th>\n",
       "      <th>Proposed Depth, ft</th>\n",
       "      <th>Surface Longitude</th>\n",
       "      <th>Surface Latitude</th>\n",
       "      <th>Bottom Hole Longitude</th>\n",
       "      <th>Bottom Hole Latitude</th>\n",
       "      <th>True Vertical Depth, ft</th>\n",
       "      <th>Measured Depth, ft</th>\n",
       "      <th>Kickoff, ft</th>\n",
       "      <th>Drilled Depth, ft</th>\n",
       "      <th>Elevation, ft</th>\n",
       "      <th>Permit Fee</th>\n",
       "      <th>Depth Fee</th>\n",
       "      <th>Spacing Acres</th>\n",
       "    </tr>\n",
       "  </thead>\n",
       "  <tbody>\n",
       "    <tr>\n",
       "      <td>count</td>\n",
       "      <td>4.717000e+03</td>\n",
       "      <td>4717.000000</td>\n",
       "      <td>4717.000000</td>\n",
       "      <td>4717.0</td>\n",
       "      <td>4717.000000</td>\n",
       "      <td>4717.000000</td>\n",
       "      <td>4717.0</td>\n",
       "      <td>4716.000000</td>\n",
       "      <td>4717.000000</td>\n",
       "      <td>4717.000000</td>\n",
       "      <td>4717.000000</td>\n",
       "      <td>4717.000000</td>\n",
       "      <td>4717.000000</td>\n",
       "      <td>4717.000000</td>\n",
       "      <td>4717.0</td>\n",
       "      <td>4717.000000</td>\n",
       "      <td>4444.000000</td>\n",
       "      <td>4716.000000</td>\n",
       "      <td>4717.000000</td>\n",
       "      <td>22.000000</td>\n",
       "    </tr>\n",
       "    <tr>\n",
       "      <td>mean</td>\n",
       "      <td>3.101271e+13</td>\n",
       "      <td>12.544626</td>\n",
       "      <td>16953.453890</td>\n",
       "      <td>0.0</td>\n",
       "      <td>0.018868</td>\n",
       "      <td>2272.140767</td>\n",
       "      <td>9.0</td>\n",
       "      <td>2812.433418</td>\n",
       "      <td>-79.316538</td>\n",
       "      <td>42.258476</td>\n",
       "      <td>-79.316536</td>\n",
       "      <td>42.258484</td>\n",
       "      <td>3554.433326</td>\n",
       "      <td>3554.430570</td>\n",
       "      <td>0.0</td>\n",
       "      <td>3554.430570</td>\n",
       "      <td>1369.596985</td>\n",
       "      <td>611.036684</td>\n",
       "      <td>559.059360</td>\n",
       "      <td>53.965909</td>\n",
       "    </tr>\n",
       "    <tr>\n",
       "      <td>std</td>\n",
       "      <td>1.620988e+09</td>\n",
       "      <td>1.622432</td>\n",
       "      <td>6011.530453</td>\n",
       "      <td>0.0</td>\n",
       "      <td>0.146576</td>\n",
       "      <td>1527.626292</td>\n",
       "      <td>0.0</td>\n",
       "      <td>1690.720419</td>\n",
       "      <td>0.222828</td>\n",
       "      <td>0.143486</td>\n",
       "      <td>0.222827</td>\n",
       "      <td>0.143491</td>\n",
       "      <td>775.597958</td>\n",
       "      <td>775.597873</td>\n",
       "      <td>0.0</td>\n",
       "      <td>775.597873</td>\n",
       "      <td>345.668537</td>\n",
       "      <td>656.604968</td>\n",
       "      <td>612.319424</td>\n",
       "      <td>27.441319</td>\n",
       "    </tr>\n",
       "    <tr>\n",
       "      <td>min</td>\n",
       "      <td>3.100901e+13</td>\n",
       "      <td>9.000000</td>\n",
       "      <td>255.000000</td>\n",
       "      <td>0.0</td>\n",
       "      <td>0.000000</td>\n",
       "      <td>13.000000</td>\n",
       "      <td>9.0</td>\n",
       "      <td>0.000000</td>\n",
       "      <td>-79.761600</td>\n",
       "      <td>41.999480</td>\n",
       "      <td>-79.761600</td>\n",
       "      <td>41.999480</td>\n",
       "      <td>0.000000</td>\n",
       "      <td>0.000000</td>\n",
       "      <td>0.0</td>\n",
       "      <td>0.000000</td>\n",
       "      <td>3.000000</td>\n",
       "      <td>0.000000</td>\n",
       "      <td>0.000000</td>\n",
       "      <td>35.200000</td>\n",
       "    </tr>\n",
       "    <tr>\n",
       "      <td>25%</td>\n",
       "      <td>3.101311e+13</td>\n",
       "      <td>13.000000</td>\n",
       "      <td>13043.000000</td>\n",
       "      <td>0.0</td>\n",
       "      <td>0.000000</td>\n",
       "      <td>1192.000000</td>\n",
       "      <td>9.0</td>\n",
       "      <td>2100.000000</td>\n",
       "      <td>-79.509110</td>\n",
       "      <td>42.151120</td>\n",
       "      <td>-79.509110</td>\n",
       "      <td>42.151120</td>\n",
       "      <td>3116.000000</td>\n",
       "      <td>3116.000000</td>\n",
       "      <td>0.0</td>\n",
       "      <td>3116.000000</td>\n",
       "      <td>1260.000000</td>\n",
       "      <td>0.000000</td>\n",
       "      <td>0.000000</td>\n",
       "      <td>40.000000</td>\n",
       "    </tr>\n",
       "    <tr>\n",
       "      <td>50%</td>\n",
       "      <td>3.101316e+13</td>\n",
       "      <td>13.000000</td>\n",
       "      <td>17148.000000</td>\n",
       "      <td>0.0</td>\n",
       "      <td>0.000000</td>\n",
       "      <td>2544.000000</td>\n",
       "      <td>9.0</td>\n",
       "      <td>3520.000000</td>\n",
       "      <td>-79.293470</td>\n",
       "      <td>42.257070</td>\n",
       "      <td>-79.293470</td>\n",
       "      <td>42.257070</td>\n",
       "      <td>3708.000000</td>\n",
       "      <td>3708.000000</td>\n",
       "      <td>0.0</td>\n",
       "      <td>3708.000000</td>\n",
       "      <td>1461.000000</td>\n",
       "      <td>20.000000</td>\n",
       "      <td>0.000000</td>\n",
       "      <td>41.030000</td>\n",
       "    </tr>\n",
       "    <tr>\n",
       "      <td>75%</td>\n",
       "      <td>3.101319e+13</td>\n",
       "      <td>13.000000</td>\n",
       "      <td>20246.000000</td>\n",
       "      <td>0.0</td>\n",
       "      <td>0.000000</td>\n",
       "      <td>2544.000000</td>\n",
       "      <td>9.0</td>\n",
       "      <td>4095.000000</td>\n",
       "      <td>-79.139240</td>\n",
       "      <td>42.369260</td>\n",
       "      <td>-79.139240</td>\n",
       "      <td>42.369260</td>\n",
       "      <td>4166.000000</td>\n",
       "      <td>4166.000000</td>\n",
       "      <td>0.0</td>\n",
       "      <td>4166.000000</td>\n",
       "      <td>1610.000000</td>\n",
       "      <td>1225.000000</td>\n",
       "      <td>1125.000000</td>\n",
       "      <td>51.130000</td>\n",
       "    </tr>\n",
       "    <tr>\n",
       "      <td>max</td>\n",
       "      <td>3.102966e+13</td>\n",
       "      <td>29.000000</td>\n",
       "      <td>67321.000000</td>\n",
       "      <td>0.0</td>\n",
       "      <td>2.000000</td>\n",
       "      <td>9998.000000</td>\n",
       "      <td>9.0</td>\n",
       "      <td>6501.000000</td>\n",
       "      <td>-78.756970</td>\n",
       "      <td>42.693560</td>\n",
       "      <td>-78.756970</td>\n",
       "      <td>42.693560</td>\n",
       "      <td>6182.000000</td>\n",
       "      <td>6182.000000</td>\n",
       "      <td>0.0</td>\n",
       "      <td>6182.000000</td>\n",
       "      <td>2625.000000</td>\n",
       "      <td>11000.000000</td>\n",
       "      <td>10900.000000</td>\n",
       "      <td>146.800000</td>\n",
       "    </tr>\n",
       "  </tbody>\n",
       "</table>\n",
       "</div>"
      ],
      "text/plain": [
       "       API Well Number  County Code  API Hole Number  Sidetrack   Completion  \\\n",
       "count     4.717000e+03  4717.000000      4717.000000     4717.0  4717.000000   \n",
       "mean      3.101271e+13    12.544626     16953.453890        0.0     0.018868   \n",
       "std       1.620988e+09     1.622432      6011.530453        0.0     0.146576   \n",
       "min       3.100901e+13     9.000000       255.000000        0.0     0.000000   \n",
       "25%       3.101311e+13    13.000000     13043.000000        0.0     0.000000   \n",
       "50%       3.101316e+13    13.000000     17148.000000        0.0     0.000000   \n",
       "75%       3.101319e+13    13.000000     20246.000000        0.0     0.000000   \n",
       "max       3.102966e+13    29.000000     67321.000000        0.0     2.000000   \n",
       "\n",
       "       Operator Number  Region  Proposed Depth, ft  Surface Longitude  \\\n",
       "count      4717.000000  4717.0         4716.000000        4717.000000   \n",
       "mean       2272.140767     9.0         2812.433418         -79.316538   \n",
       "std        1527.626292     0.0         1690.720419           0.222828   \n",
       "min          13.000000     9.0            0.000000         -79.761600   \n",
       "25%        1192.000000     9.0         2100.000000         -79.509110   \n",
       "50%        2544.000000     9.0         3520.000000         -79.293470   \n",
       "75%        2544.000000     9.0         4095.000000         -79.139240   \n",
       "max        9998.000000     9.0         6501.000000         -78.756970   \n",
       "\n",
       "       Surface Latitude  Bottom Hole Longitude  Bottom Hole Latitude  \\\n",
       "count       4717.000000            4717.000000           4717.000000   \n",
       "mean          42.258476             -79.316536             42.258484   \n",
       "std            0.143486               0.222827              0.143491   \n",
       "min           41.999480             -79.761600             41.999480   \n",
       "25%           42.151120             -79.509110             42.151120   \n",
       "50%           42.257070             -79.293470             42.257070   \n",
       "75%           42.369260             -79.139240             42.369260   \n",
       "max           42.693560             -78.756970             42.693560   \n",
       "\n",
       "       True Vertical Depth, ft  Measured Depth, ft  Kickoff, ft  \\\n",
       "count              4717.000000         4717.000000       4717.0   \n",
       "mean               3554.433326         3554.430570          0.0   \n",
       "std                 775.597958          775.597873          0.0   \n",
       "min                   0.000000            0.000000          0.0   \n",
       "25%                3116.000000         3116.000000          0.0   \n",
       "50%                3708.000000         3708.000000          0.0   \n",
       "75%                4166.000000         4166.000000          0.0   \n",
       "max                6182.000000         6182.000000          0.0   \n",
       "\n",
       "       Drilled Depth, ft  Elevation, ft    Permit Fee     Depth Fee  \\\n",
       "count        4717.000000    4444.000000   4716.000000   4717.000000   \n",
       "mean         3554.430570    1369.596985    611.036684    559.059360   \n",
       "std           775.597873     345.668537    656.604968    612.319424   \n",
       "min             0.000000       3.000000      0.000000      0.000000   \n",
       "25%          3116.000000    1260.000000      0.000000      0.000000   \n",
       "50%          3708.000000    1461.000000     20.000000      0.000000   \n",
       "75%          4166.000000    1610.000000   1225.000000   1125.000000   \n",
       "max          6182.000000    2625.000000  11000.000000  10900.000000   \n",
       "\n",
       "       Spacing Acres  \n",
       "count      22.000000  \n",
       "mean       53.965909  \n",
       "std        27.441319  \n",
       "min        35.200000  \n",
       "25%        40.000000  \n",
       "50%        41.030000  \n",
       "75%        51.130000  \n",
       "max       146.800000  "
      ]
     },
     "execution_count": 11,
     "metadata": {},
     "output_type": "execute_result"
    }
   ],
   "source": [
    "fld.describe()"
   ]
  },
  {
   "cell_type": "code",
   "execution_count": 12,
   "metadata": {},
   "outputs": [
    {
     "data": {
      "text/plain": [
       "0    4635\n",
       "1      75\n",
       "2       7\n",
       "Name: Completion, dtype: int64"
      ]
     },
     "execution_count": 12,
     "metadata": {},
     "output_type": "execute_result"
    }
   ],
   "source": [
    "fld['Completion'].value_counts()"
   ]
  },
  {
   "cell_type": "code",
   "execution_count": 13,
   "metadata": {},
   "outputs": [],
   "source": [
    "# fld['Spacing Acres'].unique()"
   ]
  },
  {
   "cell_type": "code",
   "execution_count": 14,
   "metadata": {},
   "outputs": [],
   "source": [
    "# fld['Location 1'].unique()"
   ]
  },
  {
   "cell_type": "code",
   "execution_count": 15,
   "metadata": {},
   "outputs": [
    {
     "data": {
      "text/plain": [
       "array(['NL', 'GW', 'GD', 'OD'], dtype=object)"
      ]
     },
     "execution_count": 15,
     "metadata": {},
     "output_type": "execute_result"
    }
   ],
   "source": [
    "# fld['Surface Latitude'].unique()\n",
    "fld['Original Well Type'].unique()"
   ]
  },
  {
   "cell_type": "code",
   "execution_count": 16,
   "metadata": {},
   "outputs": [],
   "source": [
    "# Drop Numerical columns which are not required for analysis\n",
    "fld.drop(columns=['API Hole Number','Sidetrack','Permit Fee', \n",
    "                  'Depth Fee', 'Spacing Acres'], inplace=True)"
   ]
  },
  {
   "cell_type": "code",
   "execution_count": 17,
   "metadata": {},
   "outputs": [],
   "source": [
    "# Drop Categorical columns which are not required for analysis\n",
    "fld.drop(columns=['Financial Security','Location 1', 'Integration',\n",
    "                  'Hearing Date', 'Date Last Modified', 'DEC Database Link',\n",
    "                  'Spacing', 'State Lease','Well Name'], inplace=True)"
   ]
  },
  {
   "cell_type": "code",
   "execution_count": 18,
   "metadata": {},
   "outputs": [
    {
     "data": {
      "text/plain": [
       "4145"
      ]
     },
     "execution_count": 18,
     "metadata": {},
     "output_type": "execute_result"
    }
   ],
   "source": [
    "fld[\"Status Date\"].isna().sum()"
   ]
  },
  {
   "cell_type": "code",
   "execution_count": 19,
   "metadata": {},
   "outputs": [
    {
     "data": {
      "text/plain": [
       "(352, 353)"
      ]
     },
     "execution_count": 19,
     "metadata": {},
     "output_type": "execute_result"
    }
   ],
   "source": [
    "fld['Company Name'].nunique(), fld['Operator Number'].nunique()"
   ]
  },
  {
   "cell_type": "code",
   "execution_count": 20,
   "metadata": {},
   "outputs": [],
   "source": [
    "fld.drop(columns=['Status Date', 'Permit Application Date', 'Map Symbol',\n",
    "                 'Permit Issued Date','Company Name'], inplace=True)"
   ]
  },
  {
   "cell_type": "code",
   "execution_count": 21,
   "metadata": {},
   "outputs": [
    {
     "data": {
      "text/plain": [
       "array(['Cherry Creek', 'Collins Center', 'Gowanda', 'Steamburg',\n",
       "       'Farnham', 'North Collins', 'Randolph', 'New Albion', 'Kennedy',\n",
       "       'Ivory', 'Perrysburg', 'Cattaraugus', 'Brocton', 'Silver Creek',\n",
       "       'Dunkirk', 'Forestville', 'Cassadaga', 'Ellery Center',\n",
       "       'North Of Dunkirk', 'Gerry', 'Ripley', 'South Ripley', 'Westfield',\n",
       "       'Chautauqua', 'Hartfield', 'Jamestown', 'Sherman', 'Panama',\n",
       "       'Clymer', 'North Clymer', 'Hamlet', 'Lakewood', 'North East PA',\n",
       "       'North East', 'Wattsburg, PA-NY', 'Sugar Grove, PA-NY',\n",
       "       'Warren Pa', 'North Of Westfield', 'Youngsville PA', 'Langford',\n",
       "       'Angola'], dtype=object)"
      ]
     },
     "execution_count": 21,
     "metadata": {},
     "output_type": "execute_result"
    }
   ],
   "source": [
    "fld.Quad.unique()"
   ]
  },
  {
   "cell_type": "code",
   "execution_count": 22,
   "metadata": {},
   "outputs": [
    {
     "data": {
      "text/plain": [
       "array(['I', 'G', 'F', nan, 'C', 'D', 'H', 'B', 'A', 'E'], dtype=object)"
      ]
     },
     "execution_count": 22,
     "metadata": {},
     "output_type": "execute_result"
    }
   ],
   "source": [
    "fld['Quad Section'].unique()"
   ]
  },
  {
   "cell_type": "code",
   "execution_count": 23,
   "metadata": {},
   "outputs": [
    {
     "data": {
      "text/plain": [
       "9"
      ]
     },
     "execution_count": 23,
     "metadata": {},
     "output_type": "execute_result"
    }
   ],
   "source": [
    "fld['Quad Section'].isna().sum()"
   ]
  },
  {
   "cell_type": "code",
   "execution_count": 24,
   "metadata": {},
   "outputs": [
    {
     "data": {
      "text/plain": [
       "3090"
      ]
     },
     "execution_count": 24,
     "metadata": {},
     "output_type": "execute_result"
    }
   ],
   "source": [
    "fld['Date Well Confidentiality Ends'].isna().sum()"
   ]
  },
  {
   "cell_type": "code",
   "execution_count": 25,
   "metadata": {},
   "outputs": [
    {
     "data": {
      "text/plain": [
       "array(['Pre-1989 Well (N/A)', 'Released'], dtype=object)"
      ]
     },
     "execution_count": 25,
     "metadata": {},
     "output_type": "execute_result"
    }
   ],
   "source": [
    "#fld['Confidentiality Code'].isna().sum(), \n",
    "fld['Confidentiality Code'].unique()"
   ]
  },
  {
   "cell_type": "code",
   "execution_count": 26,
   "metadata": {},
   "outputs": [],
   "source": [
    "del fld['Date Well Confidentiality Ends'], fld['Confidentiality Code'], fld['Town']"
   ]
  },
  {
   "cell_type": "code",
   "execution_count": 27,
   "metadata": {},
   "outputs": [
    {
     "name": "stdout",
     "output_type": "stream",
     "text": [
      "<class 'pandas.core.frame.DataFrame'>\n",
      "RangeIndex: 4717 entries, 0 to 4716\n",
      "Data columns (total 4 columns):\n",
      "Date Spudded           4629 non-null object\n",
      "Date of Total Depth    4460 non-null object\n",
      "Date Well Completed    4717 non-null object\n",
      "Date Well Plugged      353 non-null object\n",
      "dtypes: object(4)\n",
      "memory usage: 147.5+ KB\n"
     ]
    }
   ],
   "source": [
    "fld[['Date Spudded','Date of Total Depth','Date Well Completed', 'Date Well Plugged']].info()"
   ]
  },
  {
   "cell_type": "code",
   "execution_count": 28,
   "metadata": {},
   "outputs": [],
   "source": [
    "del fld['Date Spudded'], fld['Date of Total Depth'],fld['Date Well Plugged']"
   ]
  },
  {
   "cell_type": "code",
   "execution_count": 29,
   "metadata": {},
   "outputs": [
    {
     "data": {
      "text/plain": [
       "Index(['API Well Number', 'County Code', 'Completion', 'Operator Number',\n",
       "       'Well Type', 'Well Status ', 'Date Well Completed', 'Quad',\n",
       "       'Quad Section', 'Producing Field', 'Producing Formation', 'Slant',\n",
       "       'County', 'Region', 'Proposed Depth, ft', 'Surface Longitude',\n",
       "       'Surface Latitude', 'Bottom Hole Longitude', 'Bottom Hole Latitude',\n",
       "       'True Vertical Depth, ft', 'Measured Depth, ft', 'Kickoff, ft',\n",
       "       'Drilled Depth, ft', 'Elevation, ft', 'Original Well Type',\n",
       "       'Objective Formation'],\n",
       "      dtype='object')"
      ]
     },
     "execution_count": 29,
     "metadata": {},
     "output_type": "execute_result"
    }
   ],
   "source": [
    "fld.columns"
   ]
  },
  {
   "cell_type": "code",
   "execution_count": 30,
   "metadata": {},
   "outputs": [],
   "source": [
    "fld['Date Well Completed'] = pd.to_datetime(fld['Date Well Completed'])\n",
    "fld ['Completion year'] = fld['Date Well Completed'].dt.year\n",
    "#fld ['Completion month'] = fld['Date Well Completed'].dt.month\n",
    "#fld ['Completion year'] += fld['Date Well Completed'].dt.month/12\n",
    "# fld ['Completion day'] = fld['Date Well Completed'].dt.day\n",
    "del fld['Date Well Completed']\n",
    "# calendar['week'] = calendar['date'].dt.week.astype(np.int8)"
   ]
  },
  {
   "cell_type": "code",
   "execution_count": 31,
   "metadata": {},
   "outputs": [],
   "source": [
    "# fld ['Completion year']"
   ]
  },
  {
   "cell_type": "code",
   "execution_count": 32,
   "metadata": {},
   "outputs": [],
   "source": [
    "# fld.isna().sum()"
   ]
  },
  {
   "cell_type": "code",
   "execution_count": 33,
   "metadata": {},
   "outputs": [
    {
     "data": {
      "text/plain": [
       "array([nan, 'Medina', 'Onondaga', 'Clinton', 'Bass Island', 'Glade',\n",
       "       'Theresa', 'Whirlpool', 'Queenston'], dtype=object)"
      ]
     },
     "execution_count": 33,
     "metadata": {},
     "output_type": "execute_result"
    }
   ],
   "source": [
    "fld['Objective Formation'].unique()"
   ]
  },
  {
   "cell_type": "code",
   "execution_count": 34,
   "metadata": {},
   "outputs": [
    {
     "data": {
      "text/plain": [
       "array(['Medina', nan, 'Whirlpool', 'Onondaga', 'Grimsby', 'Camillus',\n",
       "       'Upper Devonian', 'Unknown', 'Salina', 'Bass Island', 'Tully',\n",
       "       'Upper Devonian Shale'], dtype=object)"
      ]
     },
     "execution_count": 34,
     "metadata": {},
     "output_type": "execute_result"
    }
   ],
   "source": [
    "fld['Producing Formation'].unique()"
   ]
  },
  {
   "cell_type": "code",
   "execution_count": 35,
   "metadata": {},
   "outputs": [],
   "source": [
    "# drop Ob`jective formation, and leave Producing formation as actual one\n",
    "del fld['Objective Formation']"
   ]
  },
  {
   "cell_type": "code",
   "execution_count": 36,
   "metadata": {},
   "outputs": [
    {
     "data": {
      "text/html": [
       "<div>\n",
       "<style scoped>\n",
       "    .dataframe tbody tr th:only-of-type {\n",
       "        vertical-align: middle;\n",
       "    }\n",
       "\n",
       "    .dataframe tbody tr th {\n",
       "        vertical-align: top;\n",
       "    }\n",
       "\n",
       "    .dataframe thead th {\n",
       "        text-align: right;\n",
       "    }\n",
       "</style>\n",
       "<table border=\"1\" class=\"dataframe\">\n",
       "  <thead>\n",
       "    <tr style=\"text-align: right;\">\n",
       "      <th></th>\n",
       "      <th>API Well Number</th>\n",
       "      <th>County Code</th>\n",
       "      <th>Completion</th>\n",
       "      <th>Operator Number</th>\n",
       "      <th>Well Type</th>\n",
       "      <th>Well Status</th>\n",
       "      <th>Quad</th>\n",
       "      <th>Quad Section</th>\n",
       "      <th>Producing Field</th>\n",
       "      <th>Producing Formation</th>\n",
       "      <th>...</th>\n",
       "      <th>Surface Latitude</th>\n",
       "      <th>Bottom Hole Longitude</th>\n",
       "      <th>Bottom Hole Latitude</th>\n",
       "      <th>True Vertical Depth, ft</th>\n",
       "      <th>Measured Depth, ft</th>\n",
       "      <th>Kickoff, ft</th>\n",
       "      <th>Drilled Depth, ft</th>\n",
       "      <th>Elevation, ft</th>\n",
       "      <th>Original Well Type</th>\n",
       "      <th>Completion year</th>\n",
       "    </tr>\n",
       "  </thead>\n",
       "  <tbody>\n",
       "    <tr>\n",
       "      <td>9</td>\n",
       "      <td>31009011610000</td>\n",
       "      <td>9</td>\n",
       "      <td>0</td>\n",
       "      <td>261</td>\n",
       "      <td>GD</td>\n",
       "      <td>PA</td>\n",
       "      <td>Steamburg</td>\n",
       "      <td>NaN</td>\n",
       "      <td>Lakeshore</td>\n",
       "      <td>Medina</td>\n",
       "      <td>...</td>\n",
       "      <td>42.11175</td>\n",
       "      <td>-78.96941</td>\n",
       "      <td>42.11175</td>\n",
       "      <td>4765.0</td>\n",
       "      <td>4765.0</td>\n",
       "      <td>0.0</td>\n",
       "      <td>4765.0</td>\n",
       "      <td>1760.0</td>\n",
       "      <td>NL</td>\n",
       "      <td>1937</td>\n",
       "    </tr>\n",
       "    <tr>\n",
       "      <td>11</td>\n",
       "      <td>31009016650000</td>\n",
       "      <td>9</td>\n",
       "      <td>0</td>\n",
       "      <td>16</td>\n",
       "      <td>GD</td>\n",
       "      <td>PA</td>\n",
       "      <td>Gowanda</td>\n",
       "      <td>NaN</td>\n",
       "      <td>Lakeshore</td>\n",
       "      <td>Medina</td>\n",
       "      <td>...</td>\n",
       "      <td>42.38840</td>\n",
       "      <td>-78.90271</td>\n",
       "      <td>42.38840</td>\n",
       "      <td>3413.0</td>\n",
       "      <td>3413.0</td>\n",
       "      <td>0.0</td>\n",
       "      <td>3413.0</td>\n",
       "      <td>1372.0</td>\n",
       "      <td>NL</td>\n",
       "      <td>1911</td>\n",
       "    </tr>\n",
       "    <tr>\n",
       "      <td>20</td>\n",
       "      <td>31009128650000</td>\n",
       "      <td>9</td>\n",
       "      <td>0</td>\n",
       "      <td>460</td>\n",
       "      <td>GD</td>\n",
       "      <td>AC</td>\n",
       "      <td>Farnham</td>\n",
       "      <td>H</td>\n",
       "      <td>Lakeshore</td>\n",
       "      <td>Medina</td>\n",
       "      <td>...</td>\n",
       "      <td>42.50212</td>\n",
       "      <td>-79.04700</td>\n",
       "      <td>42.50212</td>\n",
       "      <td>2435.0</td>\n",
       "      <td>2435.0</td>\n",
       "      <td>0.0</td>\n",
       "      <td>2435.0</td>\n",
       "      <td>NaN</td>\n",
       "      <td>NL</td>\n",
       "      <td>1977</td>\n",
       "    </tr>\n",
       "    <tr>\n",
       "      <td>25</td>\n",
       "      <td>31009133630000</td>\n",
       "      <td>9</td>\n",
       "      <td>0</td>\n",
       "      <td>826</td>\n",
       "      <td>GD</td>\n",
       "      <td>PA</td>\n",
       "      <td>Gowanda</td>\n",
       "      <td>F</td>\n",
       "      <td>Lakeshore</td>\n",
       "      <td>Medina</td>\n",
       "      <td>...</td>\n",
       "      <td>42.42374</td>\n",
       "      <td>-78.90703</td>\n",
       "      <td>42.42374</td>\n",
       "      <td>3046.0</td>\n",
       "      <td>3046.0</td>\n",
       "      <td>0.0</td>\n",
       "      <td>3046.0</td>\n",
       "      <td>NaN</td>\n",
       "      <td>NL</td>\n",
       "      <td>1934</td>\n",
       "    </tr>\n",
       "    <tr>\n",
       "      <td>26</td>\n",
       "      <td>31009133640000</td>\n",
       "      <td>9</td>\n",
       "      <td>0</td>\n",
       "      <td>431</td>\n",
       "      <td>GD</td>\n",
       "      <td>PA</td>\n",
       "      <td>Gowanda</td>\n",
       "      <td>F</td>\n",
       "      <td>Lakeshore</td>\n",
       "      <td>Medina</td>\n",
       "      <td>...</td>\n",
       "      <td>42.42113</td>\n",
       "      <td>-78.91352</td>\n",
       "      <td>42.42113</td>\n",
       "      <td>2985.0</td>\n",
       "      <td>2985.0</td>\n",
       "      <td>0.0</td>\n",
       "      <td>2985.0</td>\n",
       "      <td>NaN</td>\n",
       "      <td>NL</td>\n",
       "      <td>1934</td>\n",
       "    </tr>\n",
       "    <tr>\n",
       "      <td>...</td>\n",
       "      <td>...</td>\n",
       "      <td>...</td>\n",
       "      <td>...</td>\n",
       "      <td>...</td>\n",
       "      <td>...</td>\n",
       "      <td>...</td>\n",
       "      <td>...</td>\n",
       "      <td>...</td>\n",
       "      <td>...</td>\n",
       "      <td>...</td>\n",
       "      <td>...</td>\n",
       "      <td>...</td>\n",
       "      <td>...</td>\n",
       "      <td>...</td>\n",
       "      <td>...</td>\n",
       "      <td>...</td>\n",
       "      <td>...</td>\n",
       "      <td>...</td>\n",
       "      <td>...</td>\n",
       "      <td>...</td>\n",
       "      <td>...</td>\n",
       "    </tr>\n",
       "    <tr>\n",
       "      <td>4702</td>\n",
       "      <td>31029147150000</td>\n",
       "      <td>29</td>\n",
       "      <td>0</td>\n",
       "      <td>9006</td>\n",
       "      <td>GD</td>\n",
       "      <td>UN</td>\n",
       "      <td>Gowanda</td>\n",
       "      <td>B</td>\n",
       "      <td>Lakeshore</td>\n",
       "      <td>Medina</td>\n",
       "      <td>...</td>\n",
       "      <td>42.48012</td>\n",
       "      <td>-78.95392</td>\n",
       "      <td>42.48012</td>\n",
       "      <td>2359.0</td>\n",
       "      <td>2359.0</td>\n",
       "      <td>0.0</td>\n",
       "      <td>2359.0</td>\n",
       "      <td>NaN</td>\n",
       "      <td>NL</td>\n",
       "      <td>1927</td>\n",
       "    </tr>\n",
       "    <tr>\n",
       "      <td>4703</td>\n",
       "      <td>31029147170000</td>\n",
       "      <td>29</td>\n",
       "      <td>0</td>\n",
       "      <td>9006</td>\n",
       "      <td>GD</td>\n",
       "      <td>UN</td>\n",
       "      <td>North Collins</td>\n",
       "      <td>G</td>\n",
       "      <td>Lakeshore</td>\n",
       "      <td>Medina</td>\n",
       "      <td>...</td>\n",
       "      <td>42.51051</td>\n",
       "      <td>-78.96961</td>\n",
       "      <td>42.51051</td>\n",
       "      <td>2340.0</td>\n",
       "      <td>2340.0</td>\n",
       "      <td>0.0</td>\n",
       "      <td>2340.0</td>\n",
       "      <td>NaN</td>\n",
       "      <td>NL</td>\n",
       "      <td>1926</td>\n",
       "    </tr>\n",
       "    <tr>\n",
       "      <td>4714</td>\n",
       "      <td>31029557810000</td>\n",
       "      <td>29</td>\n",
       "      <td>0</td>\n",
       "      <td>2470</td>\n",
       "      <td>GD</td>\n",
       "      <td>PA</td>\n",
       "      <td>Angola</td>\n",
       "      <td>E</td>\n",
       "      <td>Lakeshore</td>\n",
       "      <td>NaN</td>\n",
       "      <td>...</td>\n",
       "      <td>42.69356</td>\n",
       "      <td>-79.03789</td>\n",
       "      <td>42.69356</td>\n",
       "      <td>1500.0</td>\n",
       "      <td>1500.0</td>\n",
       "      <td>0.0</td>\n",
       "      <td>1500.0</td>\n",
       "      <td>600.0</td>\n",
       "      <td>NL</td>\n",
       "      <td>2009</td>\n",
       "    </tr>\n",
       "    <tr>\n",
       "      <td>4715</td>\n",
       "      <td>31029664360000</td>\n",
       "      <td>29</td>\n",
       "      <td>0</td>\n",
       "      <td>9006</td>\n",
       "      <td>GD</td>\n",
       "      <td>UN</td>\n",
       "      <td>North Collins</td>\n",
       "      <td>G</td>\n",
       "      <td>Lakeshore</td>\n",
       "      <td>Medina</td>\n",
       "      <td>...</td>\n",
       "      <td>42.51828</td>\n",
       "      <td>-78.96218</td>\n",
       "      <td>42.51828</td>\n",
       "      <td>2307.0</td>\n",
       "      <td>2307.0</td>\n",
       "      <td>0.0</td>\n",
       "      <td>2307.0</td>\n",
       "      <td>NaN</td>\n",
       "      <td>GD</td>\n",
       "      <td>1917</td>\n",
       "    </tr>\n",
       "    <tr>\n",
       "      <td>4716</td>\n",
       "      <td>31029664400000</td>\n",
       "      <td>29</td>\n",
       "      <td>0</td>\n",
       "      <td>9006</td>\n",
       "      <td>GD</td>\n",
       "      <td>UN</td>\n",
       "      <td>North Collins</td>\n",
       "      <td>G</td>\n",
       "      <td>Lakeshore</td>\n",
       "      <td>Medina</td>\n",
       "      <td>...</td>\n",
       "      <td>42.50529</td>\n",
       "      <td>-78.96403</td>\n",
       "      <td>42.50529</td>\n",
       "      <td>2457.0</td>\n",
       "      <td>2457.0</td>\n",
       "      <td>0.0</td>\n",
       "      <td>2457.0</td>\n",
       "      <td>NaN</td>\n",
       "      <td>GD</td>\n",
       "      <td>1927</td>\n",
       "    </tr>\n",
       "  </tbody>\n",
       "</table>\n",
       "<p>293 rows × 25 columns</p>\n",
       "</div>"
      ],
      "text/plain": [
       "      API Well Number  County Code  Completion  Operator Number Well Type  \\\n",
       "9      31009011610000            9           0              261        GD   \n",
       "11     31009016650000            9           0               16        GD   \n",
       "20     31009128650000            9           0              460        GD   \n",
       "25     31009133630000            9           0              826        GD   \n",
       "26     31009133640000            9           0              431        GD   \n",
       "...               ...          ...         ...              ...       ...   \n",
       "4702   31029147150000           29           0             9006        GD   \n",
       "4703   31029147170000           29           0             9006        GD   \n",
       "4714   31029557810000           29           0             2470        GD   \n",
       "4715   31029664360000           29           0             9006        GD   \n",
       "4716   31029664400000           29           0             9006        GD   \n",
       "\n",
       "     Well Status            Quad Quad Section Producing Field  \\\n",
       "9              PA      Steamburg          NaN       Lakeshore   \n",
       "11             PA        Gowanda          NaN       Lakeshore   \n",
       "20             AC        Farnham            H       Lakeshore   \n",
       "25             PA        Gowanda            F       Lakeshore   \n",
       "26             PA        Gowanda            F       Lakeshore   \n",
       "...           ...            ...          ...             ...   \n",
       "4702           UN        Gowanda            B       Lakeshore   \n",
       "4703           UN  North Collins            G       Lakeshore   \n",
       "4714           PA         Angola            E       Lakeshore   \n",
       "4715           UN  North Collins            G       Lakeshore   \n",
       "4716           UN  North Collins            G       Lakeshore   \n",
       "\n",
       "     Producing Formation  ... Surface Latitude Bottom Hole Longitude  \\\n",
       "9                 Medina  ...         42.11175             -78.96941   \n",
       "11                Medina  ...         42.38840             -78.90271   \n",
       "20                Medina  ...         42.50212             -79.04700   \n",
       "25                Medina  ...         42.42374             -78.90703   \n",
       "26                Medina  ...         42.42113             -78.91352   \n",
       "...                  ...  ...              ...                   ...   \n",
       "4702              Medina  ...         42.48012             -78.95392   \n",
       "4703              Medina  ...         42.51051             -78.96961   \n",
       "4714                 NaN  ...         42.69356             -79.03789   \n",
       "4715              Medina  ...         42.51828             -78.96218   \n",
       "4716              Medina  ...         42.50529             -78.96403   \n",
       "\n",
       "      Bottom Hole Latitude  True Vertical Depth, ft  Measured Depth, ft  \\\n",
       "9                 42.11175                   4765.0              4765.0   \n",
       "11                42.38840                   3413.0              3413.0   \n",
       "20                42.50212                   2435.0              2435.0   \n",
       "25                42.42374                   3046.0              3046.0   \n",
       "26                42.42113                   2985.0              2985.0   \n",
       "...                    ...                      ...                 ...   \n",
       "4702              42.48012                   2359.0              2359.0   \n",
       "4703              42.51051                   2340.0              2340.0   \n",
       "4714              42.69356                   1500.0              1500.0   \n",
       "4715              42.51828                   2307.0              2307.0   \n",
       "4716              42.50529                   2457.0              2457.0   \n",
       "\n",
       "      Kickoff, ft  Drilled Depth, ft  Elevation, ft  Original Well Type  \\\n",
       "9             0.0             4765.0         1760.0                  NL   \n",
       "11            0.0             3413.0         1372.0                  NL   \n",
       "20            0.0             2435.0            NaN                  NL   \n",
       "25            0.0             3046.0            NaN                  NL   \n",
       "26            0.0             2985.0            NaN                  NL   \n",
       "...           ...                ...            ...                 ...   \n",
       "4702          0.0             2359.0            NaN                  NL   \n",
       "4703          0.0             2340.0            NaN                  NL   \n",
       "4714          0.0             1500.0          600.0                  NL   \n",
       "4715          0.0             2307.0            NaN                  GD   \n",
       "4716          0.0             2457.0            NaN                  GD   \n",
       "\n",
       "      Completion year  \n",
       "9                1937  \n",
       "11               1911  \n",
       "20               1977  \n",
       "25               1934  \n",
       "26               1934  \n",
       "...               ...  \n",
       "4702             1927  \n",
       "4703             1926  \n",
       "4714             2009  \n",
       "4715             1917  \n",
       "4716             1927  \n",
       "\n",
       "[293 rows x 25 columns]"
      ]
     },
     "execution_count": 36,
     "metadata": {},
     "output_type": "execute_result"
    }
   ],
   "source": [
    "fld[fld.isna().any(axis=1)]"
   ]
  },
  {
   "cell_type": "code",
   "execution_count": 37,
   "metadata": {},
   "outputs": [
    {
     "data": {
      "text/plain": [
       "API Well Number              0\n",
       "County Code                  0\n",
       "Completion                   0\n",
       "Operator Number              0\n",
       "Well Type                    0\n",
       "Well Status                  0\n",
       "Quad                         0\n",
       "Quad Section                 9\n",
       "Producing Field              0\n",
       "Producing Formation         15\n",
       "Slant                        0\n",
       "County                       0\n",
       "Region                       0\n",
       "Proposed Depth, ft           1\n",
       "Surface Longitude            0\n",
       "Surface Latitude             0\n",
       "Bottom Hole Longitude        0\n",
       "Bottom Hole Latitude         0\n",
       "True Vertical Depth, ft      0\n",
       "Measured Depth, ft           0\n",
       "Kickoff, ft                  0\n",
       "Drilled Depth, ft            0\n",
       "Elevation, ft              273\n",
       "Original Well Type           0\n",
       "Completion year              0\n",
       "dtype: int64"
      ]
     },
     "execution_count": 37,
     "metadata": {},
     "output_type": "execute_result"
    }
   ],
   "source": [
    "fld.isna().sum()"
   ]
  },
  {
   "cell_type": "markdown",
   "metadata": {},
   "source": [
    "### GAS production for each well"
   ]
  },
  {
   "cell_type": "code",
   "execution_count": 38,
   "metadata": {},
   "outputs": [
    {
     "data": {
      "text/html": [
       "<div>\n",
       "<style scoped>\n",
       "    .dataframe tbody tr th:only-of-type {\n",
       "        vertical-align: middle;\n",
       "    }\n",
       "\n",
       "    .dataframe tbody tr th {\n",
       "        vertical-align: top;\n",
       "    }\n",
       "\n",
       "    .dataframe thead th {\n",
       "        text-align: right;\n",
       "    }\n",
       "</style>\n",
       "<table border=\"1\" class=\"dataframe\">\n",
       "  <thead>\n",
       "    <tr style=\"text-align: right;\">\n",
       "      <th></th>\n",
       "      <th>API Well Number</th>\n",
       "      <th>Year</th>\n",
       "      <th>Operator</th>\n",
       "      <th>OIL (Bbls)</th>\n",
       "      <th>GAS (Mcf)</th>\n",
       "      <th>WATER (Bbls)</th>\n",
       "      <th>Months in Production</th>\n",
       "      <th>Well Type</th>\n",
       "    </tr>\n",
       "  </thead>\n",
       "  <tbody>\n",
       "    <tr>\n",
       "      <td>59693</td>\n",
       "      <td>31013154150000</td>\n",
       "      <td>2003</td>\n",
       "      <td>L. W. Resources</td>\n",
       "      <td>NaN</td>\n",
       "      <td>0.0</td>\n",
       "      <td>NaN</td>\n",
       "      <td>0.0</td>\n",
       "      <td>Gas Development</td>\n",
       "    </tr>\n",
       "    <tr>\n",
       "      <td>29144</td>\n",
       "      <td>31013115940000</td>\n",
       "      <td>2013</td>\n",
       "      <td>Empire Energy E&amp;P LLC</td>\n",
       "      <td>0.0</td>\n",
       "      <td>3594.0</td>\n",
       "      <td>85.0</td>\n",
       "      <td>12.0</td>\n",
       "      <td>Gas Development</td>\n",
       "    </tr>\n",
       "    <tr>\n",
       "      <td>32320</td>\n",
       "      <td>31013118620000</td>\n",
       "      <td>2009</td>\n",
       "      <td>Resource Energy, LLC</td>\n",
       "      <td>0.0</td>\n",
       "      <td>2296.0</td>\n",
       "      <td>90.0</td>\n",
       "      <td>12.0</td>\n",
       "      <td>Gas Development</td>\n",
       "    </tr>\n",
       "    <tr>\n",
       "      <td>101407</td>\n",
       "      <td>31013199250000</td>\n",
       "      <td>1999</td>\n",
       "      <td>Great Lakes Energy Partners</td>\n",
       "      <td>0.0</td>\n",
       "      <td>4317.0</td>\n",
       "      <td>0.0</td>\n",
       "      <td>12.0</td>\n",
       "      <td>GD</td>\n",
       "    </tr>\n",
       "    <tr>\n",
       "      <td>46232</td>\n",
       "      <td>31013136920000</td>\n",
       "      <td>2012</td>\n",
       "      <td>Briggs, Diane M. &amp; Stone, Betsy B.</td>\n",
       "      <td>0.0</td>\n",
       "      <td>250.0</td>\n",
       "      <td>0.0</td>\n",
       "      <td>12.0</td>\n",
       "      <td>Gas Development</td>\n",
       "    </tr>\n",
       "    <tr>\n",
       "      <td>92582</td>\n",
       "      <td>31013186930000</td>\n",
       "      <td>1988</td>\n",
       "      <td>Trahan Petroleum, Inc.</td>\n",
       "      <td>0.0</td>\n",
       "      <td>665.0</td>\n",
       "      <td>0.0</td>\n",
       "      <td>10.0</td>\n",
       "      <td>GD</td>\n",
       "    </tr>\n",
       "    <tr>\n",
       "      <td>115848</td>\n",
       "      <td>31013241670000</td>\n",
       "      <td>2005</td>\n",
       "      <td>Universal Resources Holdings, Incorporated</td>\n",
       "      <td>NaN</td>\n",
       "      <td>1967.0</td>\n",
       "      <td>0.0</td>\n",
       "      <td>4.0</td>\n",
       "      <td>Gas Development</td>\n",
       "    </tr>\n",
       "    <tr>\n",
       "      <td>54520</td>\n",
       "      <td>31013146550000</td>\n",
       "      <td>1991</td>\n",
       "      <td>Texas Meridian Operating Co.</td>\n",
       "      <td>0.0</td>\n",
       "      <td>4760.0</td>\n",
       "      <td>25.0</td>\n",
       "      <td>12.0</td>\n",
       "      <td>GD</td>\n",
       "    </tr>\n",
       "    <tr>\n",
       "      <td>49437</td>\n",
       "      <td>31013142720000</td>\n",
       "      <td>1991</td>\n",
       "      <td>Eclipse Management Assoc., Inc</td>\n",
       "      <td>0.0</td>\n",
       "      <td>1737.0</td>\n",
       "      <td>50.0</td>\n",
       "      <td>10.0</td>\n",
       "      <td>GD</td>\n",
       "    </tr>\n",
       "    <tr>\n",
       "      <td>85442</td>\n",
       "      <td>31013182130000</td>\n",
       "      <td>2005</td>\n",
       "      <td>Kastle Resources Enterprises, Inc.</td>\n",
       "      <td>0.0</td>\n",
       "      <td>1664.0</td>\n",
       "      <td>0.0</td>\n",
       "      <td>9.0</td>\n",
       "      <td>Gas Development</td>\n",
       "    </tr>\n",
       "  </tbody>\n",
       "</table>\n",
       "</div>"
      ],
      "text/plain": [
       "        API Well Number  Year                                    Operator  \\\n",
       "59693    31013154150000  2003                             L. W. Resources   \n",
       "29144    31013115940000  2013                       Empire Energy E&P LLC   \n",
       "32320    31013118620000  2009                        Resource Energy, LLC   \n",
       "101407   31013199250000  1999                 Great Lakes Energy Partners   \n",
       "46232    31013136920000  2012          Briggs, Diane M. & Stone, Betsy B.   \n",
       "92582    31013186930000  1988                      Trahan Petroleum, Inc.   \n",
       "115848   31013241670000  2005  Universal Resources Holdings, Incorporated   \n",
       "54520    31013146550000  1991                Texas Meridian Operating Co.   \n",
       "49437    31013142720000  1991              Eclipse Management Assoc., Inc   \n",
       "85442    31013182130000  2005          Kastle Resources Enterprises, Inc.   \n",
       "\n",
       "        OIL (Bbls)  GAS (Mcf)  WATER (Bbls)  Months in Production  \\\n",
       "59693          NaN        0.0           NaN                   0.0   \n",
       "29144          0.0     3594.0          85.0                  12.0   \n",
       "32320          0.0     2296.0          90.0                  12.0   \n",
       "101407         0.0     4317.0           0.0                  12.0   \n",
       "46232          0.0      250.0           0.0                  12.0   \n",
       "92582          0.0      665.0           0.0                  10.0   \n",
       "115848         NaN     1967.0           0.0                   4.0   \n",
       "54520          0.0     4760.0          25.0                  12.0   \n",
       "49437          0.0     1737.0          50.0                  10.0   \n",
       "85442          0.0     1664.0           0.0                   9.0   \n",
       "\n",
       "              Well Type  \n",
       "59693   Gas Development  \n",
       "29144   Gas Development  \n",
       "32320   Gas Development  \n",
       "101407               GD  \n",
       "46232   Gas Development  \n",
       "92582                GD  \n",
       "115848  Gas Development  \n",
       "54520                GD  \n",
       "49437                GD  \n",
       "85442   Gas Development  "
      ]
     },
     "execution_count": 38,
     "metadata": {},
     "output_type": "execute_result"
    }
   ],
   "source": [
    "df.sample(10)"
   ]
  },
  {
   "cell_type": "code",
   "execution_count": 39,
   "metadata": {},
   "outputs": [
    {
     "name": "stdout",
     "output_type": "stream",
     "text": [
      "<class 'pandas.core.frame.DataFrame'>\n",
      "RangeIndex: 121158 entries, 0 to 121157\n",
      "Data columns (total 8 columns):\n",
      "API Well Number         121158 non-null int64\n",
      "Year                    121158 non-null int64\n",
      "Operator                121158 non-null object\n",
      "OIL (Bbls)              102545 non-null float64\n",
      "GAS (Mcf)               120678 non-null float64\n",
      "WATER (Bbls)            116452 non-null float64\n",
      "Months in Production    120252 non-null float64\n",
      "Well Type               121158 non-null object\n",
      "dtypes: float64(4), int64(2), object(2)\n",
      "memory usage: 7.4+ MB\n"
     ]
    }
   ],
   "source": [
    "df.info()"
   ]
  },
  {
   "cell_type": "code",
   "execution_count": 40,
   "metadata": {},
   "outputs": [
    {
     "data": {
      "text/plain": [
       "array(['GD', 'Dry Hole', 'Gas Development', 'Not Listed', 'OD',\n",
       "       'Gas Wildcat', 'GAS', 'G', 'Oil Development'], dtype=object)"
      ]
     },
     "execution_count": 40,
     "metadata": {},
     "output_type": "execute_result"
    }
   ],
   "source": [
    "df['Well Type'].unique()"
   ]
  },
  {
   "cell_type": "code",
   "execution_count": 41,
   "metadata": {},
   "outputs": [
    {
     "data": {
      "text/plain": [
       "Gas Development    75921\n",
       "GD                 37982\n",
       "Not Listed          7157\n",
       "Dry Hole              42\n",
       "OD                    38\n",
       "Gas Wildcat            9\n",
       "G                      7\n",
       "Oil Development        1\n",
       "GAS                    1\n",
       "Name: Well Type, dtype: int64"
      ]
     },
     "execution_count": 41,
     "metadata": {},
     "output_type": "execute_result"
    }
   ],
   "source": [
    "df['Well Type'].value_counts()"
   ]
  },
  {
   "cell_type": "code",
   "execution_count": 42,
   "metadata": {},
   "outputs": [],
   "source": [
    "# df[df['Well Type']=='Gas Wildcat']"
   ]
  },
  {
   "cell_type": "code",
   "execution_count": 43,
   "metadata": {},
   "outputs": [],
   "source": [
    "# df[df['Well Type']=='OD']"
   ]
  },
  {
   "cell_type": "code",
   "execution_count": 44,
   "metadata": {},
   "outputs": [],
   "source": [
    "# df[df['Well Type']=='Dry Hole']"
   ]
  },
  {
   "cell_type": "code",
   "execution_count": 45,
   "metadata": {},
   "outputs": [
    {
     "data": {
      "text/plain": [
       "480"
      ]
     },
     "execution_count": 45,
     "metadata": {},
     "output_type": "execute_result"
    }
   ],
   "source": [
    "df['GAS (Mcf)'].isna().sum()"
   ]
  },
  {
   "cell_type": "code",
   "execution_count": 46,
   "metadata": {},
   "outputs": [
    {
     "data": {
      "text/html": [
       "<div>\n",
       "<style scoped>\n",
       "    .dataframe tbody tr th:only-of-type {\n",
       "        vertical-align: middle;\n",
       "    }\n",
       "\n",
       "    .dataframe tbody tr th {\n",
       "        vertical-align: top;\n",
       "    }\n",
       "\n",
       "    .dataframe thead th {\n",
       "        text-align: right;\n",
       "    }\n",
       "</style>\n",
       "<table border=\"1\" class=\"dataframe\">\n",
       "  <thead>\n",
       "    <tr style=\"text-align: right;\">\n",
       "      <th></th>\n",
       "      <th>API Well Number</th>\n",
       "      <th>Year</th>\n",
       "      <th>Operator</th>\n",
       "      <th>OIL (Bbls)</th>\n",
       "      <th>GAS (Mcf)</th>\n",
       "      <th>WATER (Bbls)</th>\n",
       "      <th>Months in Production</th>\n",
       "      <th>Well Type</th>\n",
       "    </tr>\n",
       "  </thead>\n",
       "  <tbody>\n",
       "    <tr>\n",
       "      <td>9</td>\n",
       "      <td>31009019120000</td>\n",
       "      <td>2000</td>\n",
       "      <td>Sager, Howard &amp; Judith</td>\n",
       "      <td>NaN</td>\n",
       "      <td>0.0</td>\n",
       "      <td>NaN</td>\n",
       "      <td>12.0</td>\n",
       "      <td>Dry Hole</td>\n",
       "    </tr>\n",
       "    <tr>\n",
       "      <td>11</td>\n",
       "      <td>31009019120000</td>\n",
       "      <td>2002</td>\n",
       "      <td>Sager, Howard &amp; Judith</td>\n",
       "      <td>0.0</td>\n",
       "      <td>NaN</td>\n",
       "      <td>0.0</td>\n",
       "      <td>12.0</td>\n",
       "      <td>Dry Hole</td>\n",
       "    </tr>\n",
       "    <tr>\n",
       "      <td>12</td>\n",
       "      <td>31009019120000</td>\n",
       "      <td>2003</td>\n",
       "      <td>Sager, Howard &amp; Judith</td>\n",
       "      <td>NaN</td>\n",
       "      <td>NaN</td>\n",
       "      <td>NaN</td>\n",
       "      <td>12.0</td>\n",
       "      <td>Dry Hole</td>\n",
       "    </tr>\n",
       "    <tr>\n",
       "      <td>13</td>\n",
       "      <td>31009019120000</td>\n",
       "      <td>2004</td>\n",
       "      <td>Sager, Howard &amp; Judith</td>\n",
       "      <td>NaN</td>\n",
       "      <td>NaN</td>\n",
       "      <td>NaN</td>\n",
       "      <td>12.0</td>\n",
       "      <td>Dry Hole</td>\n",
       "    </tr>\n",
       "    <tr>\n",
       "      <td>14</td>\n",
       "      <td>31009019120000</td>\n",
       "      <td>2005</td>\n",
       "      <td>Sager, Howard &amp; Judith</td>\n",
       "      <td>NaN</td>\n",
       "      <td>0.0</td>\n",
       "      <td>0.0</td>\n",
       "      <td>12.0</td>\n",
       "      <td>Dry Hole</td>\n",
       "    </tr>\n",
       "    <tr>\n",
       "      <td>...</td>\n",
       "      <td>...</td>\n",
       "      <td>...</td>\n",
       "      <td>...</td>\n",
       "      <td>...</td>\n",
       "      <td>...</td>\n",
       "      <td>...</td>\n",
       "      <td>...</td>\n",
       "      <td>...</td>\n",
       "    </tr>\n",
       "    <tr>\n",
       "      <td>121087</td>\n",
       "      <td>31029247590000</td>\n",
       "      <td>2007</td>\n",
       "      <td>U. S. Energy Development Corporation</td>\n",
       "      <td>NaN</td>\n",
       "      <td>1770.0</td>\n",
       "      <td>100.0</td>\n",
       "      <td>3.0</td>\n",
       "      <td>Not Listed</td>\n",
       "    </tr>\n",
       "    <tr>\n",
       "      <td>121088</td>\n",
       "      <td>31029247590000</td>\n",
       "      <td>2008</td>\n",
       "      <td>U. S. Energy Development Corporation</td>\n",
       "      <td>NaN</td>\n",
       "      <td>6301.0</td>\n",
       "      <td>75.0</td>\n",
       "      <td>11.0</td>\n",
       "      <td>Gas Development</td>\n",
       "    </tr>\n",
       "    <tr>\n",
       "      <td>121100</td>\n",
       "      <td>31029250720000</td>\n",
       "      <td>2008</td>\n",
       "      <td>U. S. Energy Development Corporation</td>\n",
       "      <td>NaN</td>\n",
       "      <td>5050.0</td>\n",
       "      <td>80.0</td>\n",
       "      <td>8.0</td>\n",
       "      <td>Gas Development</td>\n",
       "    </tr>\n",
       "    <tr>\n",
       "      <td>121112</td>\n",
       "      <td>31029250730000</td>\n",
       "      <td>2008</td>\n",
       "      <td>U. S. Energy Development Corporation</td>\n",
       "      <td>NaN</td>\n",
       "      <td>4852.0</td>\n",
       "      <td>60.0</td>\n",
       "      <td>5.0</td>\n",
       "      <td>Gas Development</td>\n",
       "    </tr>\n",
       "    <tr>\n",
       "      <td>121127</td>\n",
       "      <td>31029252560000</td>\n",
       "      <td>2011</td>\n",
       "      <td>Chautauqua Energy, Inc.</td>\n",
       "      <td>NaN</td>\n",
       "      <td>1724.0</td>\n",
       "      <td>0.0</td>\n",
       "      <td>12.0</td>\n",
       "      <td>Gas Development</td>\n",
       "    </tr>\n",
       "  </tbody>\n",
       "</table>\n",
       "<p>18739 rows × 8 columns</p>\n",
       "</div>"
      ],
      "text/plain": [
       "        API Well Number  Year                              Operator  \\\n",
       "9        31009019120000  2000                Sager, Howard & Judith   \n",
       "11       31009019120000  2002                Sager, Howard & Judith   \n",
       "12       31009019120000  2003                Sager, Howard & Judith   \n",
       "13       31009019120000  2004                Sager, Howard & Judith   \n",
       "14       31009019120000  2005                Sager, Howard & Judith   \n",
       "...                 ...   ...                                   ...   \n",
       "121087   31029247590000  2007  U. S. Energy Development Corporation   \n",
       "121088   31029247590000  2008  U. S. Energy Development Corporation   \n",
       "121100   31029250720000  2008  U. S. Energy Development Corporation   \n",
       "121112   31029250730000  2008  U. S. Energy Development Corporation   \n",
       "121127   31029252560000  2011               Chautauqua Energy, Inc.   \n",
       "\n",
       "        OIL (Bbls)  GAS (Mcf)  WATER (Bbls)  Months in Production  \\\n",
       "9              NaN        0.0           NaN                  12.0   \n",
       "11             0.0        NaN           0.0                  12.0   \n",
       "12             NaN        NaN           NaN                  12.0   \n",
       "13             NaN        NaN           NaN                  12.0   \n",
       "14             NaN        0.0           0.0                  12.0   \n",
       "...            ...        ...           ...                   ...   \n",
       "121087         NaN     1770.0         100.0                   3.0   \n",
       "121088         NaN     6301.0          75.0                  11.0   \n",
       "121100         NaN     5050.0          80.0                   8.0   \n",
       "121112         NaN     4852.0          60.0                   5.0   \n",
       "121127         NaN     1724.0           0.0                  12.0   \n",
       "\n",
       "              Well Type  \n",
       "9              Dry Hole  \n",
       "11             Dry Hole  \n",
       "12             Dry Hole  \n",
       "13             Dry Hole  \n",
       "14             Dry Hole  \n",
       "...                 ...  \n",
       "121087       Not Listed  \n",
       "121088  Gas Development  \n",
       "121100  Gas Development  \n",
       "121112  Gas Development  \n",
       "121127  Gas Development  \n",
       "\n",
       "[18739 rows x 8 columns]"
      ]
     },
     "execution_count": 46,
     "metadata": {},
     "output_type": "execute_result"
    }
   ],
   "source": [
    "df[df.isna().any(axis=1)]"
   ]
  },
  {
   "cell_type": "code",
   "execution_count": 47,
   "metadata": {},
   "outputs": [
    {
     "data": {
      "text/html": [
       "<div>\n",
       "<style scoped>\n",
       "    .dataframe tbody tr th:only-of-type {\n",
       "        vertical-align: middle;\n",
       "    }\n",
       "\n",
       "    .dataframe tbody tr th {\n",
       "        vertical-align: top;\n",
       "    }\n",
       "\n",
       "    .dataframe thead th {\n",
       "        text-align: right;\n",
       "    }\n",
       "</style>\n",
       "<table border=\"1\" class=\"dataframe\">\n",
       "  <thead>\n",
       "    <tr style=\"text-align: right;\">\n",
       "      <th></th>\n",
       "      <th>API Well Number</th>\n",
       "      <th>Year</th>\n",
       "      <th>Operator</th>\n",
       "      <th>OIL (Bbls)</th>\n",
       "      <th>GAS (Mcf)</th>\n",
       "      <th>WATER (Bbls)</th>\n",
       "      <th>Months in Production</th>\n",
       "      <th>Well Type</th>\n",
       "    </tr>\n",
       "  </thead>\n",
       "  <tbody>\n",
       "    <tr>\n",
       "      <td>11</td>\n",
       "      <td>31009019120000</td>\n",
       "      <td>2002</td>\n",
       "      <td>Sager, Howard &amp; Judith</td>\n",
       "      <td>0.0</td>\n",
       "      <td>NaN</td>\n",
       "      <td>0.0</td>\n",
       "      <td>12.0</td>\n",
       "      <td>Dry Hole</td>\n",
       "    </tr>\n",
       "    <tr>\n",
       "      <td>12</td>\n",
       "      <td>31009019120000</td>\n",
       "      <td>2003</td>\n",
       "      <td>Sager, Howard &amp; Judith</td>\n",
       "      <td>NaN</td>\n",
       "      <td>NaN</td>\n",
       "      <td>NaN</td>\n",
       "      <td>12.0</td>\n",
       "      <td>Dry Hole</td>\n",
       "    </tr>\n",
       "    <tr>\n",
       "      <td>13</td>\n",
       "      <td>31009019120000</td>\n",
       "      <td>2004</td>\n",
       "      <td>Sager, Howard &amp; Judith</td>\n",
       "      <td>NaN</td>\n",
       "      <td>NaN</td>\n",
       "      <td>NaN</td>\n",
       "      <td>12.0</td>\n",
       "      <td>Dry Hole</td>\n",
       "    </tr>\n",
       "    <tr>\n",
       "      <td>109</td>\n",
       "      <td>31009128650000</td>\n",
       "      <td>2002</td>\n",
       "      <td>Guzzetta, Joseph &amp; Carlyn</td>\n",
       "      <td>0.0</td>\n",
       "      <td>NaN</td>\n",
       "      <td>0.0</td>\n",
       "      <td>12.0</td>\n",
       "      <td>Gas Development</td>\n",
       "    </tr>\n",
       "    <tr>\n",
       "      <td>110</td>\n",
       "      <td>31009128650000</td>\n",
       "      <td>2003</td>\n",
       "      <td>Guzzetta, Joseph &amp; Carlyn</td>\n",
       "      <td>NaN</td>\n",
       "      <td>NaN</td>\n",
       "      <td>NaN</td>\n",
       "      <td>12.0</td>\n",
       "      <td>Gas Development</td>\n",
       "    </tr>\n",
       "    <tr>\n",
       "      <td>...</td>\n",
       "      <td>...</td>\n",
       "      <td>...</td>\n",
       "      <td>...</td>\n",
       "      <td>...</td>\n",
       "      <td>...</td>\n",
       "      <td>...</td>\n",
       "      <td>...</td>\n",
       "      <td>...</td>\n",
       "    </tr>\n",
       "    <tr>\n",
       "      <td>115068</td>\n",
       "      <td>31013234460000</td>\n",
       "      <td>2000</td>\n",
       "      <td>U. S. Energy Development Corporation</td>\n",
       "      <td>NaN</td>\n",
       "      <td>NaN</td>\n",
       "      <td>NaN</td>\n",
       "      <td>NaN</td>\n",
       "      <td>Gas Development</td>\n",
       "    </tr>\n",
       "    <tr>\n",
       "      <td>115069</td>\n",
       "      <td>31013234460000</td>\n",
       "      <td>2001</td>\n",
       "      <td>U. S. Energy Development Corporation</td>\n",
       "      <td>NaN</td>\n",
       "      <td>NaN</td>\n",
       "      <td>NaN</td>\n",
       "      <td>NaN</td>\n",
       "      <td>Not Listed</td>\n",
       "    </tr>\n",
       "    <tr>\n",
       "      <td>115087</td>\n",
       "      <td>31013234480000</td>\n",
       "      <td>2000</td>\n",
       "      <td>Goose Creek Drilling, Inc.</td>\n",
       "      <td>NaN</td>\n",
       "      <td>NaN</td>\n",
       "      <td>NaN</td>\n",
       "      <td>NaN</td>\n",
       "      <td>Gas Development</td>\n",
       "    </tr>\n",
       "    <tr>\n",
       "      <td>115124</td>\n",
       "      <td>31013234950000</td>\n",
       "      <td>2000</td>\n",
       "      <td>Universal Resources Holdings, Incorporated</td>\n",
       "      <td>NaN</td>\n",
       "      <td>NaN</td>\n",
       "      <td>NaN</td>\n",
       "      <td>NaN</td>\n",
       "      <td>Gas Development</td>\n",
       "    </tr>\n",
       "    <tr>\n",
       "      <td>115142</td>\n",
       "      <td>31013234960000</td>\n",
       "      <td>2000</td>\n",
       "      <td>Universal Resources Holdings, Incorporated</td>\n",
       "      <td>NaN</td>\n",
       "      <td>NaN</td>\n",
       "      <td>NaN</td>\n",
       "      <td>NaN</td>\n",
       "      <td>Gas Development</td>\n",
       "    </tr>\n",
       "  </tbody>\n",
       "</table>\n",
       "<p>480 rows × 8 columns</p>\n",
       "</div>"
      ],
      "text/plain": [
       "        API Well Number  Year                                    Operator  \\\n",
       "11       31009019120000  2002                      Sager, Howard & Judith   \n",
       "12       31009019120000  2003                      Sager, Howard & Judith   \n",
       "13       31009019120000  2004                      Sager, Howard & Judith   \n",
       "109      31009128650000  2002                   Guzzetta, Joseph & Carlyn   \n",
       "110      31009128650000  2003                   Guzzetta, Joseph & Carlyn   \n",
       "...                 ...   ...                                         ...   \n",
       "115068   31013234460000  2000        U. S. Energy Development Corporation   \n",
       "115069   31013234460000  2001        U. S. Energy Development Corporation   \n",
       "115087   31013234480000  2000                  Goose Creek Drilling, Inc.   \n",
       "115124   31013234950000  2000  Universal Resources Holdings, Incorporated   \n",
       "115142   31013234960000  2000  Universal Resources Holdings, Incorporated   \n",
       "\n",
       "        OIL (Bbls)  GAS (Mcf)  WATER (Bbls)  Months in Production  \\\n",
       "11             0.0        NaN           0.0                  12.0   \n",
       "12             NaN        NaN           NaN                  12.0   \n",
       "13             NaN        NaN           NaN                  12.0   \n",
       "109            0.0        NaN           0.0                  12.0   \n",
       "110            NaN        NaN           NaN                  12.0   \n",
       "...            ...        ...           ...                   ...   \n",
       "115068         NaN        NaN           NaN                   NaN   \n",
       "115069         NaN        NaN           NaN                   NaN   \n",
       "115087         NaN        NaN           NaN                   NaN   \n",
       "115124         NaN        NaN           NaN                   NaN   \n",
       "115142         NaN        NaN           NaN                   NaN   \n",
       "\n",
       "              Well Type  \n",
       "11             Dry Hole  \n",
       "12             Dry Hole  \n",
       "13             Dry Hole  \n",
       "109     Gas Development  \n",
       "110     Gas Development  \n",
       "...                 ...  \n",
       "115068  Gas Development  \n",
       "115069       Not Listed  \n",
       "115087  Gas Development  \n",
       "115124  Gas Development  \n",
       "115142  Gas Development  \n",
       "\n",
       "[480 rows x 8 columns]"
      ]
     },
     "execution_count": 47,
     "metadata": {},
     "output_type": "execute_result"
    }
   ],
   "source": [
    "df[df['GAS (Mcf)'].isna()]"
   ]
  },
  {
   "cell_type": "code",
   "execution_count": 48,
   "metadata": {},
   "outputs": [],
   "source": [
    "# df[df['API Well Number']==31009019120000]"
   ]
  },
  {
   "cell_type": "code",
   "execution_count": 49,
   "metadata": {},
   "outputs": [],
   "source": [
    "# df[df['API Well Number']==31013234460000]"
   ]
  },
  {
   "cell_type": "code",
   "execution_count": 50,
   "metadata": {},
   "outputs": [],
   "source": [
    "# df[df['API Well Number']==31009128650000]"
   ]
  },
  {
   "cell_type": "code",
   "execution_count": 51,
   "metadata": {},
   "outputs": [
    {
     "data": {
      "text/plain": [
       "4025"
      ]
     },
     "execution_count": 51,
     "metadata": {},
     "output_type": "execute_result"
    }
   ],
   "source": [
    "df['API Well Number'].nunique()"
   ]
  },
  {
   "cell_type": "code",
   "execution_count": 52,
   "metadata": {},
   "outputs": [
    {
     "data": {
      "text/plain": [
       "4717"
      ]
     },
     "execution_count": 52,
     "metadata": {},
     "output_type": "execute_result"
    }
   ],
   "source": [
    "fld['API Well Number'].nunique()"
   ]
  },
  {
   "cell_type": "code",
   "execution_count": 53,
   "metadata": {},
   "outputs": [
    {
     "data": {
      "text/html": [
       "<div>\n",
       "<style scoped>\n",
       "    .dataframe tbody tr th:only-of-type {\n",
       "        vertical-align: middle;\n",
       "    }\n",
       "\n",
       "    .dataframe tbody tr th {\n",
       "        vertical-align: top;\n",
       "    }\n",
       "\n",
       "    .dataframe thead th {\n",
       "        text-align: right;\n",
       "    }\n",
       "</style>\n",
       "<table border=\"1\" class=\"dataframe\">\n",
       "  <thead>\n",
       "    <tr style=\"text-align: right;\">\n",
       "      <th></th>\n",
       "      <th>API Well Number</th>\n",
       "      <th>Year</th>\n",
       "      <th>Operator</th>\n",
       "      <th>OIL (Bbls)</th>\n",
       "      <th>GAS (Mcf)</th>\n",
       "      <th>WATER (Bbls)</th>\n",
       "      <th>Months in Production</th>\n",
       "      <th>Well Type</th>\n",
       "    </tr>\n",
       "  </thead>\n",
       "  <tbody>\n",
       "    <tr>\n",
       "      <td>9</td>\n",
       "      <td>31009019120000</td>\n",
       "      <td>2000</td>\n",
       "      <td>Sager, Howard &amp; Judith</td>\n",
       "      <td>NaN</td>\n",
       "      <td>0.0</td>\n",
       "      <td>NaN</td>\n",
       "      <td>12.0</td>\n",
       "      <td>Dry Hole</td>\n",
       "    </tr>\n",
       "    <tr>\n",
       "      <td>12</td>\n",
       "      <td>31009019120000</td>\n",
       "      <td>2003</td>\n",
       "      <td>Sager, Howard &amp; Judith</td>\n",
       "      <td>NaN</td>\n",
       "      <td>NaN</td>\n",
       "      <td>NaN</td>\n",
       "      <td>12.0</td>\n",
       "      <td>Dry Hole</td>\n",
       "    </tr>\n",
       "    <tr>\n",
       "      <td>13</td>\n",
       "      <td>31009019120000</td>\n",
       "      <td>2004</td>\n",
       "      <td>Sager, Howard &amp; Judith</td>\n",
       "      <td>NaN</td>\n",
       "      <td>NaN</td>\n",
       "      <td>NaN</td>\n",
       "      <td>12.0</td>\n",
       "      <td>Dry Hole</td>\n",
       "    </tr>\n",
       "    <tr>\n",
       "      <td>14</td>\n",
       "      <td>31009019120000</td>\n",
       "      <td>2005</td>\n",
       "      <td>Sager, Howard &amp; Judith</td>\n",
       "      <td>NaN</td>\n",
       "      <td>0.0</td>\n",
       "      <td>0.0</td>\n",
       "      <td>12.0</td>\n",
       "      <td>Dry Hole</td>\n",
       "    </tr>\n",
       "    <tr>\n",
       "      <td>15</td>\n",
       "      <td>31009019120000</td>\n",
       "      <td>2006</td>\n",
       "      <td>Sager, Howard &amp; Judith</td>\n",
       "      <td>NaN</td>\n",
       "      <td>0.0</td>\n",
       "      <td>0.0</td>\n",
       "      <td>12.0</td>\n",
       "      <td>Dry Hole</td>\n",
       "    </tr>\n",
       "    <tr>\n",
       "      <td>...</td>\n",
       "      <td>...</td>\n",
       "      <td>...</td>\n",
       "      <td>...</td>\n",
       "      <td>...</td>\n",
       "      <td>...</td>\n",
       "      <td>...</td>\n",
       "      <td>...</td>\n",
       "      <td>...</td>\n",
       "    </tr>\n",
       "    <tr>\n",
       "      <td>121087</td>\n",
       "      <td>31029247590000</td>\n",
       "      <td>2007</td>\n",
       "      <td>U. S. Energy Development Corporation</td>\n",
       "      <td>NaN</td>\n",
       "      <td>1770.0</td>\n",
       "      <td>100.0</td>\n",
       "      <td>3.0</td>\n",
       "      <td>Not Listed</td>\n",
       "    </tr>\n",
       "    <tr>\n",
       "      <td>121088</td>\n",
       "      <td>31029247590000</td>\n",
       "      <td>2008</td>\n",
       "      <td>U. S. Energy Development Corporation</td>\n",
       "      <td>NaN</td>\n",
       "      <td>6301.0</td>\n",
       "      <td>75.0</td>\n",
       "      <td>11.0</td>\n",
       "      <td>Gas Development</td>\n",
       "    </tr>\n",
       "    <tr>\n",
       "      <td>121100</td>\n",
       "      <td>31029250720000</td>\n",
       "      <td>2008</td>\n",
       "      <td>U. S. Energy Development Corporation</td>\n",
       "      <td>NaN</td>\n",
       "      <td>5050.0</td>\n",
       "      <td>80.0</td>\n",
       "      <td>8.0</td>\n",
       "      <td>Gas Development</td>\n",
       "    </tr>\n",
       "    <tr>\n",
       "      <td>121112</td>\n",
       "      <td>31029250730000</td>\n",
       "      <td>2008</td>\n",
       "      <td>U. S. Energy Development Corporation</td>\n",
       "      <td>NaN</td>\n",
       "      <td>4852.0</td>\n",
       "      <td>60.0</td>\n",
       "      <td>5.0</td>\n",
       "      <td>Gas Development</td>\n",
       "    </tr>\n",
       "    <tr>\n",
       "      <td>121127</td>\n",
       "      <td>31029252560000</td>\n",
       "      <td>2011</td>\n",
       "      <td>Chautauqua Energy, Inc.</td>\n",
       "      <td>NaN</td>\n",
       "      <td>1724.0</td>\n",
       "      <td>0.0</td>\n",
       "      <td>12.0</td>\n",
       "      <td>Gas Development</td>\n",
       "    </tr>\n",
       "  </tbody>\n",
       "</table>\n",
       "<p>18613 rows × 8 columns</p>\n",
       "</div>"
      ],
      "text/plain": [
       "        API Well Number  Year                              Operator  \\\n",
       "9        31009019120000  2000                Sager, Howard & Judith   \n",
       "12       31009019120000  2003                Sager, Howard & Judith   \n",
       "13       31009019120000  2004                Sager, Howard & Judith   \n",
       "14       31009019120000  2005                Sager, Howard & Judith   \n",
       "15       31009019120000  2006                Sager, Howard & Judith   \n",
       "...                 ...   ...                                   ...   \n",
       "121087   31029247590000  2007  U. S. Energy Development Corporation   \n",
       "121088   31029247590000  2008  U. S. Energy Development Corporation   \n",
       "121100   31029250720000  2008  U. S. Energy Development Corporation   \n",
       "121112   31029250730000  2008  U. S. Energy Development Corporation   \n",
       "121127   31029252560000  2011               Chautauqua Energy, Inc.   \n",
       "\n",
       "        OIL (Bbls)  GAS (Mcf)  WATER (Bbls)  Months in Production  \\\n",
       "9              NaN        0.0           NaN                  12.0   \n",
       "12             NaN        NaN           NaN                  12.0   \n",
       "13             NaN        NaN           NaN                  12.0   \n",
       "14             NaN        0.0           0.0                  12.0   \n",
       "15             NaN        0.0           0.0                  12.0   \n",
       "...            ...        ...           ...                   ...   \n",
       "121087         NaN     1770.0         100.0                   3.0   \n",
       "121088         NaN     6301.0          75.0                  11.0   \n",
       "121100         NaN     5050.0          80.0                   8.0   \n",
       "121112         NaN     4852.0          60.0                   5.0   \n",
       "121127         NaN     1724.0           0.0                  12.0   \n",
       "\n",
       "              Well Type  \n",
       "9              Dry Hole  \n",
       "12             Dry Hole  \n",
       "13             Dry Hole  \n",
       "14             Dry Hole  \n",
       "15             Dry Hole  \n",
       "...                 ...  \n",
       "121087       Not Listed  \n",
       "121088  Gas Development  \n",
       "121100  Gas Development  \n",
       "121112  Gas Development  \n",
       "121127  Gas Development  \n",
       "\n",
       "[18613 rows x 8 columns]"
      ]
     },
     "execution_count": 53,
     "metadata": {},
     "output_type": "execute_result"
    }
   ],
   "source": [
    "df[df['OIL (Bbls)'].isna()]"
   ]
  },
  {
   "cell_type": "code",
   "execution_count": 54,
   "metadata": {},
   "outputs": [],
   "source": [
    "# df[df['API Well Number']==31029247590000]"
   ]
  },
  {
   "cell_type": "code",
   "execution_count": 55,
   "metadata": {},
   "outputs": [
    {
     "data": {
      "text/html": [
       "<div>\n",
       "<style scoped>\n",
       "    .dataframe tbody tr th:only-of-type {\n",
       "        vertical-align: middle;\n",
       "    }\n",
       "\n",
       "    .dataframe tbody tr th {\n",
       "        vertical-align: top;\n",
       "    }\n",
       "\n",
       "    .dataframe thead th {\n",
       "        text-align: right;\n",
       "    }\n",
       "</style>\n",
       "<table border=\"1\" class=\"dataframe\">\n",
       "  <thead>\n",
       "    <tr style=\"text-align: right;\">\n",
       "      <th></th>\n",
       "      <th>API Well Number</th>\n",
       "      <th>Year</th>\n",
       "      <th>OIL (Bbls)</th>\n",
       "      <th>GAS (Mcf)</th>\n",
       "      <th>WATER (Bbls)</th>\n",
       "      <th>Months in Production</th>\n",
       "    </tr>\n",
       "  </thead>\n",
       "  <tbody>\n",
       "    <tr>\n",
       "      <td>count</td>\n",
       "      <td>1.211580e+05</td>\n",
       "      <td>121158.000000</td>\n",
       "      <td>102545.000000</td>\n",
       "      <td>120678.000000</td>\n",
       "      <td>116452.000000</td>\n",
       "      <td>120252.000000</td>\n",
       "    </tr>\n",
       "    <tr>\n",
       "      <td>mean</td>\n",
       "      <td>3.101271e+13</td>\n",
       "      <td>2003.428977</td>\n",
       "      <td>4.753925</td>\n",
       "      <td>2279.749555</td>\n",
       "      <td>28.436260</td>\n",
       "      <td>10.108248</td>\n",
       "    </tr>\n",
       "    <tr>\n",
       "      <td>std</td>\n",
       "      <td>1.389741e+09</td>\n",
       "      <td>9.821654</td>\n",
       "      <td>254.155124</td>\n",
       "      <td>4840.363613</td>\n",
       "      <td>392.594445</td>\n",
       "      <td>8.727938</td>\n",
       "    </tr>\n",
       "    <tr>\n",
       "      <td>min</td>\n",
       "      <td>3.100902e+13</td>\n",
       "      <td>1966.000000</td>\n",
       "      <td>0.000000</td>\n",
       "      <td>-16.000000</td>\n",
       "      <td>0.000000</td>\n",
       "      <td>0.000000</td>\n",
       "    </tr>\n",
       "    <tr>\n",
       "      <td>25%</td>\n",
       "      <td>3.101312e+13</td>\n",
       "      <td>1995.000000</td>\n",
       "      <td>0.000000</td>\n",
       "      <td>397.000000</td>\n",
       "      <td>0.000000</td>\n",
       "      <td>10.000000</td>\n",
       "    </tr>\n",
       "    <tr>\n",
       "      <td>50%</td>\n",
       "      <td>3.101315e+13</td>\n",
       "      <td>2004.000000</td>\n",
       "      <td>0.000000</td>\n",
       "      <td>1184.000000</td>\n",
       "      <td>0.000000</td>\n",
       "      <td>12.000000</td>\n",
       "    </tr>\n",
       "    <tr>\n",
       "      <td>75%</td>\n",
       "      <td>3.101319e+13</td>\n",
       "      <td>2012.000000</td>\n",
       "      <td>0.000000</td>\n",
       "      <td>2481.000000</td>\n",
       "      <td>6.000000</td>\n",
       "      <td>12.000000</td>\n",
       "    </tr>\n",
       "    <tr>\n",
       "      <td>max</td>\n",
       "      <td>3.102926e+13</td>\n",
       "      <td>2019.000000</td>\n",
       "      <td>61710.000000</td>\n",
       "      <td>269741.000000</td>\n",
       "      <td>55834.000000</td>\n",
       "      <td>370.000000</td>\n",
       "    </tr>\n",
       "  </tbody>\n",
       "</table>\n",
       "</div>"
      ],
      "text/plain": [
       "       API Well Number           Year     OIL (Bbls)      GAS (Mcf)  \\\n",
       "count     1.211580e+05  121158.000000  102545.000000  120678.000000   \n",
       "mean      3.101271e+13    2003.428977       4.753925    2279.749555   \n",
       "std       1.389741e+09       9.821654     254.155124    4840.363613   \n",
       "min       3.100902e+13    1966.000000       0.000000     -16.000000   \n",
       "25%       3.101312e+13    1995.000000       0.000000     397.000000   \n",
       "50%       3.101315e+13    2004.000000       0.000000    1184.000000   \n",
       "75%       3.101319e+13    2012.000000       0.000000    2481.000000   \n",
       "max       3.102926e+13    2019.000000   61710.000000  269741.000000   \n",
       "\n",
       "        WATER (Bbls)  Months in Production  \n",
       "count  116452.000000         120252.000000  \n",
       "mean       28.436260             10.108248  \n",
       "std       392.594445              8.727938  \n",
       "min         0.000000              0.000000  \n",
       "25%         0.000000             10.000000  \n",
       "50%         0.000000             12.000000  \n",
       "75%         6.000000             12.000000  \n",
       "max     55834.000000            370.000000  "
      ]
     },
     "execution_count": 55,
     "metadata": {},
     "output_type": "execute_result"
    }
   ],
   "source": [
    "df.describe()"
   ]
  },
  {
   "cell_type": "code",
   "execution_count": 56,
   "metadata": {},
   "outputs": [
    {
     "data": {
      "text/plain": [
       "False"
      ]
     },
     "execution_count": 56,
     "metadata": {},
     "output_type": "execute_result"
    }
   ],
   "source": [
    "df['Well Type'].isna().any()"
   ]
  },
  {
   "cell_type": "code",
   "execution_count": 57,
   "metadata": {},
   "outputs": [
    {
     "data": {
      "text/plain": [
       "1982    482\n",
       "1983    412\n",
       "1984    373\n",
       "1981    308\n",
       "1975    280\n",
       "       ... \n",
       "2012      1\n",
       "1954      1\n",
       "1969      1\n",
       "1912      1\n",
       "1955      1\n",
       "Name: Completion year, Length: 91, dtype: int64"
      ]
     },
     "execution_count": 57,
     "metadata": {},
     "output_type": "execute_result"
    }
   ],
   "source": [
    "fld['Completion year'].value_counts()"
   ]
  },
  {
   "cell_type": "code",
   "execution_count": 58,
   "metadata": {},
   "outputs": [],
   "source": [
    "# redefine field data frame with wells where gas production available\n",
    "fld = fld.loc[fld['API Well Number'].isin(df['API Well Number'].unique())]\n",
    "fld.reset_index(drop=True, inplace=True)"
   ]
  },
  {
   "cell_type": "code",
   "execution_count": 59,
   "metadata": {},
   "outputs": [
    {
     "name": "stdout",
     "output_type": "stream",
     "text": [
      "<class 'pandas.core.frame.DataFrame'>\n",
      "RangeIndex: 4025 entries, 0 to 4024\n",
      "Data columns (total 25 columns):\n",
      "API Well Number            4025 non-null int64\n",
      "County Code                4025 non-null int64\n",
      "Completion                 4025 non-null int64\n",
      "Operator Number            4025 non-null int64\n",
      "Well Type                  4025 non-null object\n",
      "Well Status                4025 non-null object\n",
      "Quad                       4025 non-null object\n",
      "Quad Section               4023 non-null object\n",
      "Producing Field            4025 non-null object\n",
      "Producing Formation        4025 non-null object\n",
      "Slant                      4025 non-null object\n",
      "County                     4025 non-null object\n",
      "Region                     4025 non-null float64\n",
      "Proposed Depth, ft         4025 non-null float64\n",
      "Surface Longitude          4025 non-null float64\n",
      "Surface Latitude           4025 non-null float64\n",
      "Bottom Hole Longitude      4025 non-null float64\n",
      "Bottom Hole Latitude       4025 non-null float64\n",
      "True Vertical Depth, ft    4025 non-null float64\n",
      "Measured Depth, ft         4025 non-null float64\n",
      "Kickoff, ft                4025 non-null float64\n",
      "Drilled Depth, ft          4025 non-null float64\n",
      "Elevation, ft              3797 non-null float64\n",
      "Original Well Type         4025 non-null object\n",
      "Completion year            4025 non-null int64\n",
      "dtypes: float64(11), int64(5), object(9)\n",
      "memory usage: 786.3+ KB\n"
     ]
    }
   ],
   "source": [
    "fld.info()"
   ]
  },
  {
   "cell_type": "markdown",
   "metadata": {},
   "source": [
    "### Elevation above sea level"
   ]
  },
  {
   "cell_type": "code",
   "execution_count": 60,
   "metadata": {},
   "outputs": [
    {
     "data": {
      "text/plain": [
       "228"
      ]
     },
     "execution_count": 60,
     "metadata": {},
     "output_type": "execute_result"
    }
   ],
   "source": [
    "fld['Elevation, ft'].isnull().sum()"
   ]
  },
  {
   "cell_type": "code",
   "execution_count": 61,
   "metadata": {},
   "outputs": [
    {
     "data": {
      "text/plain": [
       "count    3797.000000\n",
       "mean     1392.632078\n",
       "std       329.285412\n",
       "min         3.000000\n",
       "25%      1282.000000\n",
       "50%      1473.000000\n",
       "75%      1615.000000\n",
       "max      2625.000000\n",
       "Name: Elevation, ft, dtype: float64"
      ]
     },
     "execution_count": 61,
     "metadata": {},
     "output_type": "execute_result"
    }
   ],
   "source": [
    "fld['Elevation, ft'].dropna().describe()"
   ]
  },
  {
   "cell_type": "code",
   "execution_count": 62,
   "metadata": {},
   "outputs": [
    {
     "data": {
      "text/plain": [
       "1540.0    46\n",
       "1560.0    42\n",
       "1580.0    40\n",
       "1610.0    34\n",
       "1550.0    34\n",
       "          ..\n",
       "585.0      1\n",
       "1692.0     1\n",
       "743.0      1\n",
       "1613.0     1\n",
       "1539.0     1\n",
       "Name: Elevation, ft, Length: 892, dtype: int64"
      ]
     },
     "execution_count": 62,
     "metadata": {},
     "output_type": "execute_result"
    }
   ],
   "source": [
    "fld['Elevation, ft'].dropna().mode() #1540.0\n",
    "fld['Elevation, ft'].dropna().value_counts()"
   ]
  },
  {
   "cell_type": "code",
   "execution_count": 63,
   "metadata": {},
   "outputs": [
    {
     "data": {
      "text/plain": [
       "count    4025.000000\n",
       "mean     1397.184596\n",
       "std       320.360008\n",
       "min         3.000000\n",
       "25%      1292.000000\n",
       "50%      1473.000000\n",
       "75%      1608.000000\n",
       "max      2625.000000\n",
       "Name: Elevation, ft, dtype: float64"
      ]
     },
     "execution_count": 63,
     "metadata": {},
     "output_type": "execute_result"
    }
   ],
   "source": [
    "fld['Elevation, ft'].fillna(fld['Elevation, ft'].dropna().median()).describe()"
   ]
  },
  {
   "cell_type": "code",
   "execution_count": 64,
   "metadata": {},
   "outputs": [
    {
     "data": {
      "text/plain": [
       "1473.0    230\n",
       "1540.0     46\n",
       "1560.0     42\n",
       "1580.0     40\n",
       "1610.0     34\n",
       "         ... \n",
       "1217.0      1\n",
       "974.0       1\n",
       "2079.0      1\n",
       "1529.0      1\n",
       "1539.0      1\n",
       "Name: Elevation, ft, Length: 892, dtype: int64"
      ]
     },
     "execution_count": 64,
     "metadata": {},
     "output_type": "execute_result"
    }
   ],
   "source": [
    "fld['Elevation, ft'].fillna(fld['Elevation, ft'].dropna().median()).value_counts()"
   ]
  },
  {
   "cell_type": "code",
   "execution_count": 65,
   "metadata": {},
   "outputs": [],
   "source": [
    "fld['Elevation, ft'].fillna(fld['Elevation, ft'].dropna().median(), inplace = True)"
   ]
  },
  {
   "cell_type": "code",
   "execution_count": 66,
   "metadata": {},
   "outputs": [
    {
     "data": {
      "text/html": [
       "<div>\n",
       "<style scoped>\n",
       "    .dataframe tbody tr th:only-of-type {\n",
       "        vertical-align: middle;\n",
       "    }\n",
       "\n",
       "    .dataframe tbody tr th {\n",
       "        vertical-align: top;\n",
       "    }\n",
       "\n",
       "    .dataframe thead th {\n",
       "        text-align: right;\n",
       "    }\n",
       "</style>\n",
       "<table border=\"1\" class=\"dataframe\">\n",
       "  <thead>\n",
       "    <tr style=\"text-align: right;\">\n",
       "      <th></th>\n",
       "      <th>API Well Number</th>\n",
       "      <th>County Code</th>\n",
       "      <th>Completion</th>\n",
       "      <th>Operator Number</th>\n",
       "      <th>Region</th>\n",
       "      <th>Proposed Depth, ft</th>\n",
       "      <th>Surface Longitude</th>\n",
       "      <th>Surface Latitude</th>\n",
       "      <th>Bottom Hole Longitude</th>\n",
       "      <th>Bottom Hole Latitude</th>\n",
       "      <th>True Vertical Depth, ft</th>\n",
       "      <th>Measured Depth, ft</th>\n",
       "      <th>Kickoff, ft</th>\n",
       "      <th>Drilled Depth, ft</th>\n",
       "      <th>Elevation, ft</th>\n",
       "      <th>Completion year</th>\n",
       "    </tr>\n",
       "  </thead>\n",
       "  <tbody>\n",
       "    <tr>\n",
       "      <td>count</td>\n",
       "      <td>4.025000e+03</td>\n",
       "      <td>4025.000000</td>\n",
       "      <td>4025.000000</td>\n",
       "      <td>4025.000000</td>\n",
       "      <td>4025.0</td>\n",
       "      <td>4025.000000</td>\n",
       "      <td>4025.000000</td>\n",
       "      <td>4025.000000</td>\n",
       "      <td>4025.000000</td>\n",
       "      <td>4025.000000</td>\n",
       "      <td>4025.000000</td>\n",
       "      <td>4025.000000</td>\n",
       "      <td>4025.0</td>\n",
       "      <td>4025.000000</td>\n",
       "      <td>4025.000000</td>\n",
       "      <td>4025.000000</td>\n",
       "    </tr>\n",
       "    <tr>\n",
       "      <td>mean</td>\n",
       "      <td>3.101270e+13</td>\n",
       "      <td>12.525963</td>\n",
       "      <td>0.021118</td>\n",
       "      <td>2121.106584</td>\n",
       "      <td>9.0</td>\n",
       "      <td>2926.424845</td>\n",
       "      <td>-79.320591</td>\n",
       "      <td>42.247663</td>\n",
       "      <td>-79.320589</td>\n",
       "      <td>42.247666</td>\n",
       "      <td>3622.341615</td>\n",
       "      <td>3622.338385</td>\n",
       "      <td>0.0</td>\n",
       "      <td>3622.338385</td>\n",
       "      <td>1397.184596</td>\n",
       "      <td>1985.543851</td>\n",
       "    </tr>\n",
       "    <tr>\n",
       "      <td>std</td>\n",
       "      <td>1.565815e+09</td>\n",
       "      <td>1.570695</td>\n",
       "      <td>0.155423</td>\n",
       "      <td>752.155268</td>\n",
       "      <td>0.0</td>\n",
       "      <td>1629.770675</td>\n",
       "      <td>0.224186</td>\n",
       "      <td>0.135751</td>\n",
       "      <td>0.224185</td>\n",
       "      <td>0.135752</td>\n",
       "      <td>723.831569</td>\n",
       "      <td>723.831765</td>\n",
       "      <td>0.0</td>\n",
       "      <td>723.831765</td>\n",
       "      <td>320.360008</td>\n",
       "      <td>10.824285</td>\n",
       "    </tr>\n",
       "    <tr>\n",
       "      <td>min</td>\n",
       "      <td>3.100902e+13</td>\n",
       "      <td>9.000000</td>\n",
       "      <td>0.000000</td>\n",
       "      <td>147.000000</td>\n",
       "      <td>9.0</td>\n",
       "      <td>0.000000</td>\n",
       "      <td>-79.761600</td>\n",
       "      <td>41.999480</td>\n",
       "      <td>-79.761600</td>\n",
       "      <td>41.999480</td>\n",
       "      <td>0.000000</td>\n",
       "      <td>0.000000</td>\n",
       "      <td>0.0</td>\n",
       "      <td>0.000000</td>\n",
       "      <td>3.000000</td>\n",
       "      <td>1906.000000</td>\n",
       "    </tr>\n",
       "    <tr>\n",
       "      <td>25%</td>\n",
       "      <td>3.101312e+13</td>\n",
       "      <td>13.000000</td>\n",
       "      <td>0.000000</td>\n",
       "      <td>1206.000000</td>\n",
       "      <td>9.0</td>\n",
       "      <td>2352.000000</td>\n",
       "      <td>-79.515150</td>\n",
       "      <td>42.148680</td>\n",
       "      <td>-79.515150</td>\n",
       "      <td>42.148680</td>\n",
       "      <td>3257.000000</td>\n",
       "      <td>3257.000000</td>\n",
       "      <td>0.0</td>\n",
       "      <td>3257.000000</td>\n",
       "      <td>1292.000000</td>\n",
       "      <td>1979.000000</td>\n",
       "    </tr>\n",
       "    <tr>\n",
       "      <td>50%</td>\n",
       "      <td>3.101316e+13</td>\n",
       "      <td>13.000000</td>\n",
       "      <td>0.000000</td>\n",
       "      <td>2544.000000</td>\n",
       "      <td>9.0</td>\n",
       "      <td>3605.000000</td>\n",
       "      <td>-79.306090</td>\n",
       "      <td>42.245790</td>\n",
       "      <td>-79.306090</td>\n",
       "      <td>42.245790</td>\n",
       "      <td>3754.000000</td>\n",
       "      <td>3754.000000</td>\n",
       "      <td>0.0</td>\n",
       "      <td>3754.000000</td>\n",
       "      <td>1473.000000</td>\n",
       "      <td>1982.000000</td>\n",
       "    </tr>\n",
       "    <tr>\n",
       "      <td>75%</td>\n",
       "      <td>3.101319e+13</td>\n",
       "      <td>13.000000</td>\n",
       "      <td>0.000000</td>\n",
       "      <td>2544.000000</td>\n",
       "      <td>9.0</td>\n",
       "      <td>4100.000000</td>\n",
       "      <td>-79.139220</td>\n",
       "      <td>42.349540</td>\n",
       "      <td>-79.139220</td>\n",
       "      <td>42.349540</td>\n",
       "      <td>4184.000000</td>\n",
       "      <td>4184.000000</td>\n",
       "      <td>0.0</td>\n",
       "      <td>4184.000000</td>\n",
       "      <td>1608.000000</td>\n",
       "      <td>1989.000000</td>\n",
       "    </tr>\n",
       "    <tr>\n",
       "      <td>max</td>\n",
       "      <td>3.102926e+13</td>\n",
       "      <td>29.000000</td>\n",
       "      <td>2.000000</td>\n",
       "      <td>2943.000000</td>\n",
       "      <td>9.0</td>\n",
       "      <td>6501.000000</td>\n",
       "      <td>-78.756970</td>\n",
       "      <td>42.685103</td>\n",
       "      <td>-78.756970</td>\n",
       "      <td>42.685103</td>\n",
       "      <td>6182.000000</td>\n",
       "      <td>6182.000000</td>\n",
       "      <td>0.0</td>\n",
       "      <td>6182.000000</td>\n",
       "      <td>2625.000000</td>\n",
       "      <td>2012.000000</td>\n",
       "    </tr>\n",
       "  </tbody>\n",
       "</table>\n",
       "</div>"
      ],
      "text/plain": [
       "       API Well Number  County Code   Completion  Operator Number  Region  \\\n",
       "count     4.025000e+03  4025.000000  4025.000000      4025.000000  4025.0   \n",
       "mean      3.101270e+13    12.525963     0.021118      2121.106584     9.0   \n",
       "std       1.565815e+09     1.570695     0.155423       752.155268     0.0   \n",
       "min       3.100902e+13     9.000000     0.000000       147.000000     9.0   \n",
       "25%       3.101312e+13    13.000000     0.000000      1206.000000     9.0   \n",
       "50%       3.101316e+13    13.000000     0.000000      2544.000000     9.0   \n",
       "75%       3.101319e+13    13.000000     0.000000      2544.000000     9.0   \n",
       "max       3.102926e+13    29.000000     2.000000      2943.000000     9.0   \n",
       "\n",
       "       Proposed Depth, ft  Surface Longitude  Surface Latitude  \\\n",
       "count         4025.000000        4025.000000       4025.000000   \n",
       "mean          2926.424845         -79.320591         42.247663   \n",
       "std           1629.770675           0.224186          0.135751   \n",
       "min              0.000000         -79.761600         41.999480   \n",
       "25%           2352.000000         -79.515150         42.148680   \n",
       "50%           3605.000000         -79.306090         42.245790   \n",
       "75%           4100.000000         -79.139220         42.349540   \n",
       "max           6501.000000         -78.756970         42.685103   \n",
       "\n",
       "       Bottom Hole Longitude  Bottom Hole Latitude  True Vertical Depth, ft  \\\n",
       "count            4025.000000           4025.000000              4025.000000   \n",
       "mean              -79.320589             42.247666              3622.341615   \n",
       "std                 0.224185              0.135752               723.831569   \n",
       "min               -79.761600             41.999480                 0.000000   \n",
       "25%               -79.515150             42.148680              3257.000000   \n",
       "50%               -79.306090             42.245790              3754.000000   \n",
       "75%               -79.139220             42.349540              4184.000000   \n",
       "max               -78.756970             42.685103              6182.000000   \n",
       "\n",
       "       Measured Depth, ft  Kickoff, ft  Drilled Depth, ft  Elevation, ft  \\\n",
       "count         4025.000000       4025.0        4025.000000    4025.000000   \n",
       "mean          3622.338385          0.0        3622.338385    1397.184596   \n",
       "std            723.831765          0.0         723.831765     320.360008   \n",
       "min              0.000000          0.0           0.000000       3.000000   \n",
       "25%           3257.000000          0.0        3257.000000    1292.000000   \n",
       "50%           3754.000000          0.0        3754.000000    1473.000000   \n",
       "75%           4184.000000          0.0        4184.000000    1608.000000   \n",
       "max           6182.000000          0.0        6182.000000    2625.000000   \n",
       "\n",
       "       Completion year  \n",
       "count      4025.000000  \n",
       "mean       1985.543851  \n",
       "std          10.824285  \n",
       "min        1906.000000  \n",
       "25%        1979.000000  \n",
       "50%        1982.000000  \n",
       "75%        1989.000000  \n",
       "max        2012.000000  "
      ]
     },
     "execution_count": 66,
     "metadata": {},
     "output_type": "execute_result"
    }
   ],
   "source": [
    "fld.describe()"
   ]
  },
  {
   "cell_type": "markdown",
   "metadata": {},
   "source": [
    "### Quad section"
   ]
  },
  {
   "cell_type": "code",
   "execution_count": 67,
   "metadata": {},
   "outputs": [
    {
     "data": {
      "text/html": [
       "<div>\n",
       "<style scoped>\n",
       "    .dataframe tbody tr th:only-of-type {\n",
       "        vertical-align: middle;\n",
       "    }\n",
       "\n",
       "    .dataframe tbody tr th {\n",
       "        vertical-align: top;\n",
       "    }\n",
       "\n",
       "    .dataframe thead th {\n",
       "        text-align: right;\n",
       "    }\n",
       "</style>\n",
       "<table border=\"1\" class=\"dataframe\">\n",
       "  <thead>\n",
       "    <tr style=\"text-align: right;\">\n",
       "      <th></th>\n",
       "      <th>API Well Number</th>\n",
       "      <th>County Code</th>\n",
       "      <th>Completion</th>\n",
       "      <th>Operator Number</th>\n",
       "      <th>Well Type</th>\n",
       "      <th>Well Status</th>\n",
       "      <th>Quad</th>\n",
       "      <th>Quad Section</th>\n",
       "      <th>Producing Field</th>\n",
       "      <th>Producing Formation</th>\n",
       "      <th>...</th>\n",
       "      <th>Surface Latitude</th>\n",
       "      <th>Bottom Hole Longitude</th>\n",
       "      <th>Bottom Hole Latitude</th>\n",
       "      <th>True Vertical Depth, ft</th>\n",
       "      <th>Measured Depth, ft</th>\n",
       "      <th>Kickoff, ft</th>\n",
       "      <th>Drilled Depth, ft</th>\n",
       "      <th>Elevation, ft</th>\n",
       "      <th>Original Well Type</th>\n",
       "      <th>Completion year</th>\n",
       "    </tr>\n",
       "  </thead>\n",
       "  <tbody>\n",
       "    <tr>\n",
       "      <td>518</td>\n",
       "      <td>31013014800000</td>\n",
       "      <td>13</td>\n",
       "      <td>0</td>\n",
       "      <td>2003</td>\n",
       "      <td>GD</td>\n",
       "      <td>AC</td>\n",
       "      <td>Dunkirk</td>\n",
       "      <td>NaN</td>\n",
       "      <td>Lakeshore</td>\n",
       "      <td>Medina</td>\n",
       "      <td>...</td>\n",
       "      <td>42.40407</td>\n",
       "      <td>-79.31826</td>\n",
       "      <td>42.40407</td>\n",
       "      <td>2672.0</td>\n",
       "      <td>2672.0</td>\n",
       "      <td>0.0</td>\n",
       "      <td>2672.0</td>\n",
       "      <td>1075.0</td>\n",
       "      <td>NL</td>\n",
       "      <td>1928</td>\n",
       "    </tr>\n",
       "    <tr>\n",
       "      <td>1009</td>\n",
       "      <td>31013117500000</td>\n",
       "      <td>13</td>\n",
       "      <td>0</td>\n",
       "      <td>708</td>\n",
       "      <td>GD</td>\n",
       "      <td>AC</td>\n",
       "      <td>Brocton</td>\n",
       "      <td>NaN</td>\n",
       "      <td>Lakeshore</td>\n",
       "      <td>Medina</td>\n",
       "      <td>...</td>\n",
       "      <td>42.44849</td>\n",
       "      <td>-79.38330</td>\n",
       "      <td>42.44849</td>\n",
       "      <td>2143.0</td>\n",
       "      <td>2143.0</td>\n",
       "      <td>0.0</td>\n",
       "      <td>2143.0</td>\n",
       "      <td>620.0</td>\n",
       "      <td>NL</td>\n",
       "      <td>1975</td>\n",
       "    </tr>\n",
       "  </tbody>\n",
       "</table>\n",
       "<p>2 rows × 25 columns</p>\n",
       "</div>"
      ],
      "text/plain": [
       "      API Well Number  County Code  Completion  Operator Number Well Type  \\\n",
       "518    31013014800000           13           0             2003        GD   \n",
       "1009   31013117500000           13           0              708        GD   \n",
       "\n",
       "     Well Status      Quad Quad Section Producing Field Producing Formation  \\\n",
       "518            AC  Dunkirk          NaN       Lakeshore              Medina   \n",
       "1009           AC  Brocton          NaN       Lakeshore              Medina   \n",
       "\n",
       "      ... Surface Latitude Bottom Hole Longitude  Bottom Hole Latitude  \\\n",
       "518   ...         42.40407             -79.31826              42.40407   \n",
       "1009  ...         42.44849             -79.38330              42.44849   \n",
       "\n",
       "      True Vertical Depth, ft  Measured Depth, ft  Kickoff, ft  \\\n",
       "518                    2672.0              2672.0          0.0   \n",
       "1009                   2143.0              2143.0          0.0   \n",
       "\n",
       "      Drilled Depth, ft  Elevation, ft  Original Well Type  Completion year  \n",
       "518              2672.0         1075.0                  NL             1928  \n",
       "1009             2143.0          620.0                  NL             1975  \n",
       "\n",
       "[2 rows x 25 columns]"
      ]
     },
     "execution_count": 67,
     "metadata": {},
     "output_type": "execute_result"
    }
   ],
   "source": [
    "# NaN values in Quad Section\n",
    "# fld[fld.isna().any(axis=1)][['Quad Section']]\n",
    "fld[fld.isna().any(axis=1)]"
   ]
  },
  {
   "cell_type": "code",
   "execution_count": 68,
   "metadata": {},
   "outputs": [],
   "source": [
    "# df[df['API Well Number']==31013014800000]\n",
    "# df[df['API Well Number']==31013117500000]"
   ]
  },
  {
   "cell_type": "code",
   "execution_count": 69,
   "metadata": {},
   "outputs": [
    {
     "data": {
      "text/plain": [
       "array(['Farnham', 'Collins Center', 'Gowanda', 'New Albion', 'Randolph',\n",
       "       'Kennedy', 'Ivory', 'Steamburg', 'Cherry Creek', 'Perrysburg',\n",
       "       'Cattaraugus', 'North Collins', 'Dunkirk', 'Ellery Center',\n",
       "       'Silver Creek', 'North Of Dunkirk', 'Forestville', 'Gerry',\n",
       "       'Westfield', 'Chautauqua', 'Hartfield', 'Brocton', 'Jamestown',\n",
       "       'Cassadaga', 'South Ripley', 'Ripley', 'Sherman', 'Panama',\n",
       "       'Clymer', 'North Clymer', 'Lakewood', 'Hamlet', 'North East PA',\n",
       "       'North East', 'Wattsburg, PA-NY', 'Sugar Grove, PA-NY',\n",
       "       'Warren Pa', 'North Of Westfield', 'Youngsville PA', 'Langford',\n",
       "       'Angola'], dtype=object)"
      ]
     },
     "execution_count": 69,
     "metadata": {},
     "output_type": "execute_result"
    }
   ],
   "source": [
    "fld[\"Quad\"].unique()"
   ]
  },
  {
   "cell_type": "code",
   "execution_count": 70,
   "metadata": {},
   "outputs": [],
   "source": [
    "# fld[fld[\"Quad\"]=='Dunkirk']"
   ]
  },
  {
   "cell_type": "code",
   "execution_count": 71,
   "metadata": {},
   "outputs": [],
   "source": [
    "# drop two NaN values with Quad section. as wells are non production wells\n",
    "fld.dropna(inplace=True)"
   ]
  },
  {
   "cell_type": "code",
   "execution_count": 72,
   "metadata": {},
   "outputs": [
    {
     "name": "stdout",
     "output_type": "stream",
     "text": [
      "<class 'pandas.core.frame.DataFrame'>\n",
      "Int64Index: 4023 entries, 0 to 4024\n",
      "Data columns (total 25 columns):\n",
      "API Well Number            4023 non-null int64\n",
      "County Code                4023 non-null int64\n",
      "Completion                 4023 non-null int64\n",
      "Operator Number            4023 non-null int64\n",
      "Well Type                  4023 non-null object\n",
      "Well Status                4023 non-null object\n",
      "Quad                       4023 non-null object\n",
      "Quad Section               4023 non-null object\n",
      "Producing Field            4023 non-null object\n",
      "Producing Formation        4023 non-null object\n",
      "Slant                      4023 non-null object\n",
      "County                     4023 non-null object\n",
      "Region                     4023 non-null float64\n",
      "Proposed Depth, ft         4023 non-null float64\n",
      "Surface Longitude          4023 non-null float64\n",
      "Surface Latitude           4023 non-null float64\n",
      "Bottom Hole Longitude      4023 non-null float64\n",
      "Bottom Hole Latitude       4023 non-null float64\n",
      "True Vertical Depth, ft    4023 non-null float64\n",
      "Measured Depth, ft         4023 non-null float64\n",
      "Kickoff, ft                4023 non-null float64\n",
      "Drilled Depth, ft          4023 non-null float64\n",
      "Elevation, ft              4023 non-null float64\n",
      "Original Well Type         4023 non-null object\n",
      "Completion year            4023 non-null int64\n",
      "dtypes: float64(11), int64(5), object(9)\n",
      "memory usage: 817.2+ KB\n"
     ]
    }
   ],
   "source": [
    "fld.info()"
   ]
  },
  {
   "cell_type": "code",
   "execution_count": 73,
   "metadata": {},
   "outputs": [
    {
     "data": {
      "text/html": [
       "<div>\n",
       "<style scoped>\n",
       "    .dataframe tbody tr th:only-of-type {\n",
       "        vertical-align: middle;\n",
       "    }\n",
       "\n",
       "    .dataframe tbody tr th {\n",
       "        vertical-align: top;\n",
       "    }\n",
       "\n",
       "    .dataframe thead th {\n",
       "        text-align: right;\n",
       "    }\n",
       "</style>\n",
       "<table border=\"1\" class=\"dataframe\">\n",
       "  <thead>\n",
       "    <tr style=\"text-align: right;\">\n",
       "      <th></th>\n",
       "      <th>API Well Number</th>\n",
       "      <th>Year</th>\n",
       "      <th>Operator</th>\n",
       "      <th>OIL (Bbls)</th>\n",
       "      <th>GAS (Mcf)</th>\n",
       "      <th>WATER (Bbls)</th>\n",
       "      <th>Months in Production</th>\n",
       "      <th>Well Type</th>\n",
       "    </tr>\n",
       "  </thead>\n",
       "  <tbody>\n",
       "    <tr>\n",
       "      <td>14367</td>\n",
       "      <td>31013014800000</td>\n",
       "      <td>1986</td>\n",
       "      <td>National Fuel Gas Supply Corp.</td>\n",
       "      <td>0.0</td>\n",
       "      <td>4054.0</td>\n",
       "      <td>0.0</td>\n",
       "      <td>12.0</td>\n",
       "      <td>Not Listed</td>\n",
       "    </tr>\n",
       "    <tr>\n",
       "      <td>14368</td>\n",
       "      <td>31013014800000</td>\n",
       "      <td>1987</td>\n",
       "      <td>National Fuel Gas Supply Corp.</td>\n",
       "      <td>0.0</td>\n",
       "      <td>3186.0</td>\n",
       "      <td>0.0</td>\n",
       "      <td>12.0</td>\n",
       "      <td>Not Listed</td>\n",
       "    </tr>\n",
       "    <tr>\n",
       "      <td>14369</td>\n",
       "      <td>31013014800000</td>\n",
       "      <td>1989</td>\n",
       "      <td>National Fuel Gas Supply Corp.</td>\n",
       "      <td>0.0</td>\n",
       "      <td>1324.0</td>\n",
       "      <td>0.0</td>\n",
       "      <td>12.0</td>\n",
       "      <td>GD</td>\n",
       "    </tr>\n",
       "    <tr>\n",
       "      <td>14370</td>\n",
       "      <td>31013014800000</td>\n",
       "      <td>1990</td>\n",
       "      <td>National Fuel Gas Supply Corp.</td>\n",
       "      <td>0.0</td>\n",
       "      <td>1107.0</td>\n",
       "      <td>0.0</td>\n",
       "      <td>12.0</td>\n",
       "      <td>GD</td>\n",
       "    </tr>\n",
       "    <tr>\n",
       "      <td>14371</td>\n",
       "      <td>31013014800000</td>\n",
       "      <td>1991</td>\n",
       "      <td>National Fuel Gas Supply Corp.</td>\n",
       "      <td>0.0</td>\n",
       "      <td>580.0</td>\n",
       "      <td>0.0</td>\n",
       "      <td>11.0</td>\n",
       "      <td>GD</td>\n",
       "    </tr>\n",
       "    <tr>\n",
       "      <td>...</td>\n",
       "      <td>...</td>\n",
       "      <td>...</td>\n",
       "      <td>...</td>\n",
       "      <td>...</td>\n",
       "      <td>...</td>\n",
       "      <td>...</td>\n",
       "      <td>...</td>\n",
       "      <td>...</td>\n",
       "    </tr>\n",
       "    <tr>\n",
       "      <td>31426</td>\n",
       "      <td>31013117500000</td>\n",
       "      <td>2015</td>\n",
       "      <td>U. S. Energy Development Corporation</td>\n",
       "      <td>0.0</td>\n",
       "      <td>430.0</td>\n",
       "      <td>0.0</td>\n",
       "      <td>12.0</td>\n",
       "      <td>Gas Development</td>\n",
       "    </tr>\n",
       "    <tr>\n",
       "      <td>31427</td>\n",
       "      <td>31013117500000</td>\n",
       "      <td>2016</td>\n",
       "      <td>U. S. Energy Development Corporation</td>\n",
       "      <td>0.0</td>\n",
       "      <td>312.0</td>\n",
       "      <td>0.0</td>\n",
       "      <td>12.0</td>\n",
       "      <td>Gas Development</td>\n",
       "    </tr>\n",
       "    <tr>\n",
       "      <td>31428</td>\n",
       "      <td>31013117500000</td>\n",
       "      <td>2017</td>\n",
       "      <td>U. S. Energy Development Corporation</td>\n",
       "      <td>0.0</td>\n",
       "      <td>1581.0</td>\n",
       "      <td>0.0</td>\n",
       "      <td>5.0</td>\n",
       "      <td>Gas Development</td>\n",
       "    </tr>\n",
       "    <tr>\n",
       "      <td>31429</td>\n",
       "      <td>31013117500000</td>\n",
       "      <td>2018</td>\n",
       "      <td>U. S. Energy Development Corporation</td>\n",
       "      <td>0.0</td>\n",
       "      <td>1773.0</td>\n",
       "      <td>0.0</td>\n",
       "      <td>12.0</td>\n",
       "      <td>Gas Development</td>\n",
       "    </tr>\n",
       "    <tr>\n",
       "      <td>31430</td>\n",
       "      <td>31013117500000</td>\n",
       "      <td>2019</td>\n",
       "      <td>U. S. Energy Development Corporation</td>\n",
       "      <td>0.0</td>\n",
       "      <td>3074.0</td>\n",
       "      <td>0.0</td>\n",
       "      <td>12.0</td>\n",
       "      <td>Gas Development</td>\n",
       "    </tr>\n",
       "  </tbody>\n",
       "</table>\n",
       "<p>66 rows × 8 columns</p>\n",
       "</div>"
      ],
      "text/plain": [
       "       API Well Number  Year                              Operator  \\\n",
       "14367   31013014800000  1986        National Fuel Gas Supply Corp.   \n",
       "14368   31013014800000  1987        National Fuel Gas Supply Corp.   \n",
       "14369   31013014800000  1989        National Fuel Gas Supply Corp.   \n",
       "14370   31013014800000  1990        National Fuel Gas Supply Corp.   \n",
       "14371   31013014800000  1991        National Fuel Gas Supply Corp.   \n",
       "...                ...   ...                                   ...   \n",
       "31426   31013117500000  2015  U. S. Energy Development Corporation   \n",
       "31427   31013117500000  2016  U. S. Energy Development Corporation   \n",
       "31428   31013117500000  2017  U. S. Energy Development Corporation   \n",
       "31429   31013117500000  2018  U. S. Energy Development Corporation   \n",
       "31430   31013117500000  2019  U. S. Energy Development Corporation   \n",
       "\n",
       "       OIL (Bbls)  GAS (Mcf)  WATER (Bbls)  Months in Production  \\\n",
       "14367         0.0     4054.0           0.0                  12.0   \n",
       "14368         0.0     3186.0           0.0                  12.0   \n",
       "14369         0.0     1324.0           0.0                  12.0   \n",
       "14370         0.0     1107.0           0.0                  12.0   \n",
       "14371         0.0      580.0           0.0                  11.0   \n",
       "...           ...        ...           ...                   ...   \n",
       "31426         0.0      430.0           0.0                  12.0   \n",
       "31427         0.0      312.0           0.0                  12.0   \n",
       "31428         0.0     1581.0           0.0                   5.0   \n",
       "31429         0.0     1773.0           0.0                  12.0   \n",
       "31430         0.0     3074.0           0.0                  12.0   \n",
       "\n",
       "             Well Type  \n",
       "14367       Not Listed  \n",
       "14368       Not Listed  \n",
       "14369               GD  \n",
       "14370               GD  \n",
       "14371               GD  \n",
       "...                ...  \n",
       "31426  Gas Development  \n",
       "31427  Gas Development  \n",
       "31428  Gas Development  \n",
       "31429  Gas Development  \n",
       "31430  Gas Development  \n",
       "\n",
       "[66 rows x 8 columns]"
      ]
     },
     "execution_count": 73,
     "metadata": {},
     "output_type": "execute_result"
    }
   ],
   "source": [
    "df[(df['API Well Number']==31013014800000)| (df['API Well Number']==31013117500000)]"
   ]
  },
  {
   "cell_type": "code",
   "execution_count": 74,
   "metadata": {},
   "outputs": [
    {
     "data": {
      "text/html": [
       "<div>\n",
       "<style scoped>\n",
       "    .dataframe tbody tr th:only-of-type {\n",
       "        vertical-align: middle;\n",
       "    }\n",
       "\n",
       "    .dataframe tbody tr th {\n",
       "        vertical-align: top;\n",
       "    }\n",
       "\n",
       "    .dataframe thead th {\n",
       "        text-align: right;\n",
       "    }\n",
       "</style>\n",
       "<table border=\"1\" class=\"dataframe\">\n",
       "  <thead>\n",
       "    <tr style=\"text-align: right;\">\n",
       "      <th></th>\n",
       "      <th>API Well Number</th>\n",
       "      <th>Year</th>\n",
       "      <th>Operator</th>\n",
       "      <th>OIL (Bbls)</th>\n",
       "      <th>GAS (Mcf)</th>\n",
       "      <th>WATER (Bbls)</th>\n",
       "      <th>Months in Production</th>\n",
       "      <th>Well Type</th>\n",
       "    </tr>\n",
       "  </thead>\n",
       "  <tbody>\n",
       "    <tr>\n",
       "      <td>0</td>\n",
       "      <td>31009019120000</td>\n",
       "      <td>1988</td>\n",
       "      <td>Sager, Howard &amp; Judith</td>\n",
       "      <td>0.0</td>\n",
       "      <td>500.0</td>\n",
       "      <td>0.0</td>\n",
       "      <td>12.0</td>\n",
       "      <td>GD</td>\n",
       "    </tr>\n",
       "    <tr>\n",
       "      <td>1</td>\n",
       "      <td>31009019120000</td>\n",
       "      <td>1989</td>\n",
       "      <td>Sager, Howard &amp; Judith</td>\n",
       "      <td>0.0</td>\n",
       "      <td>500.0</td>\n",
       "      <td>0.0</td>\n",
       "      <td>0.0</td>\n",
       "      <td>GD</td>\n",
       "    </tr>\n",
       "    <tr>\n",
       "      <td>2</td>\n",
       "      <td>31009019120000</td>\n",
       "      <td>1990</td>\n",
       "      <td>Sager, Howard &amp; Judith</td>\n",
       "      <td>0.0</td>\n",
       "      <td>500.0</td>\n",
       "      <td>0.0</td>\n",
       "      <td>12.0</td>\n",
       "      <td>GD</td>\n",
       "    </tr>\n",
       "    <tr>\n",
       "      <td>3</td>\n",
       "      <td>31009019120000</td>\n",
       "      <td>1991</td>\n",
       "      <td>Sager, Howard &amp; Judith</td>\n",
       "      <td>0.0</td>\n",
       "      <td>500.0</td>\n",
       "      <td>0.0</td>\n",
       "      <td>12.0</td>\n",
       "      <td>GD</td>\n",
       "    </tr>\n",
       "    <tr>\n",
       "      <td>4</td>\n",
       "      <td>31009019120000</td>\n",
       "      <td>1992</td>\n",
       "      <td>Sager, Howard &amp; Judith</td>\n",
       "      <td>0.0</td>\n",
       "      <td>500.0</td>\n",
       "      <td>0.0</td>\n",
       "      <td>12.0</td>\n",
       "      <td>GD</td>\n",
       "    </tr>\n",
       "    <tr>\n",
       "      <td>...</td>\n",
       "      <td>...</td>\n",
       "      <td>...</td>\n",
       "      <td>...</td>\n",
       "      <td>...</td>\n",
       "      <td>...</td>\n",
       "      <td>...</td>\n",
       "      <td>...</td>\n",
       "      <td>...</td>\n",
       "    </tr>\n",
       "    <tr>\n",
       "      <td>121153</td>\n",
       "      <td>31029255050000</td>\n",
       "      <td>2015</td>\n",
       "      <td>U. S. Energy Development Corporation</td>\n",
       "      <td>0.0</td>\n",
       "      <td>1764.0</td>\n",
       "      <td>90.0</td>\n",
       "      <td>8.0</td>\n",
       "      <td>Gas Development</td>\n",
       "    </tr>\n",
       "    <tr>\n",
       "      <td>121154</td>\n",
       "      <td>31029255050000</td>\n",
       "      <td>2016</td>\n",
       "      <td>U. S. Energy Development Corporation</td>\n",
       "      <td>0.0</td>\n",
       "      <td>3623.0</td>\n",
       "      <td>90.0</td>\n",
       "      <td>11.0</td>\n",
       "      <td>Gas Development</td>\n",
       "    </tr>\n",
       "    <tr>\n",
       "      <td>121155</td>\n",
       "      <td>31029255050000</td>\n",
       "      <td>2017</td>\n",
       "      <td>U. S. Energy Development Corporation</td>\n",
       "      <td>0.0</td>\n",
       "      <td>2126.0</td>\n",
       "      <td>42.0</td>\n",
       "      <td>7.0</td>\n",
       "      <td>Gas Development</td>\n",
       "    </tr>\n",
       "    <tr>\n",
       "      <td>121156</td>\n",
       "      <td>31029255050000</td>\n",
       "      <td>2018</td>\n",
       "      <td>U. S. Energy Development Corporation</td>\n",
       "      <td>0.0</td>\n",
       "      <td>318.0</td>\n",
       "      <td>45.0</td>\n",
       "      <td>7.0</td>\n",
       "      <td>Gas Development</td>\n",
       "    </tr>\n",
       "    <tr>\n",
       "      <td>121157</td>\n",
       "      <td>31029255050000</td>\n",
       "      <td>2019</td>\n",
       "      <td>U. S. Energy Development Corporation</td>\n",
       "      <td>0.0</td>\n",
       "      <td>2436.0</td>\n",
       "      <td>0.0</td>\n",
       "      <td>12.0</td>\n",
       "      <td>Gas Development</td>\n",
       "    </tr>\n",
       "  </tbody>\n",
       "</table>\n",
       "<p>121158 rows × 8 columns</p>\n",
       "</div>"
      ],
      "text/plain": [
       "        API Well Number  Year                              Operator  \\\n",
       "0        31009019120000  1988                Sager, Howard & Judith   \n",
       "1        31009019120000  1989                Sager, Howard & Judith   \n",
       "2        31009019120000  1990                Sager, Howard & Judith   \n",
       "3        31009019120000  1991                Sager, Howard & Judith   \n",
       "4        31009019120000  1992                Sager, Howard & Judith   \n",
       "...                 ...   ...                                   ...   \n",
       "121153   31029255050000  2015  U. S. Energy Development Corporation   \n",
       "121154   31029255050000  2016  U. S. Energy Development Corporation   \n",
       "121155   31029255050000  2017  U. S. Energy Development Corporation   \n",
       "121156   31029255050000  2018  U. S. Energy Development Corporation   \n",
       "121157   31029255050000  2019  U. S. Energy Development Corporation   \n",
       "\n",
       "        OIL (Bbls)  GAS (Mcf)  WATER (Bbls)  Months in Production  \\\n",
       "0              0.0      500.0           0.0                  12.0   \n",
       "1              0.0      500.0           0.0                   0.0   \n",
       "2              0.0      500.0           0.0                  12.0   \n",
       "3              0.0      500.0           0.0                  12.0   \n",
       "4              0.0      500.0           0.0                  12.0   \n",
       "...            ...        ...           ...                   ...   \n",
       "121153         0.0     1764.0          90.0                   8.0   \n",
       "121154         0.0     3623.0          90.0                  11.0   \n",
       "121155         0.0     2126.0          42.0                   7.0   \n",
       "121156         0.0      318.0          45.0                   7.0   \n",
       "121157         0.0     2436.0           0.0                  12.0   \n",
       "\n",
       "              Well Type  \n",
       "0                    GD  \n",
       "1                    GD  \n",
       "2                    GD  \n",
       "3                    GD  \n",
       "4                    GD  \n",
       "...                 ...  \n",
       "121153  Gas Development  \n",
       "121154  Gas Development  \n",
       "121155  Gas Development  \n",
       "121156  Gas Development  \n",
       "121157  Gas Development  \n",
       "\n",
       "[121158 rows x 8 columns]"
      ]
     },
     "execution_count": 74,
     "metadata": {},
     "output_type": "execute_result"
    }
   ],
   "source": [
    "df[(df['API Well Number']!=31013014800000)|(df['API Well Number']!=31013117500000)]"
   ]
  },
  {
   "cell_type": "code",
   "execution_count": 75,
   "metadata": {},
   "outputs": [],
   "source": [
    "# Drop two wells from df with gas production data\n",
    "        \n",
    "df.drop(\n",
    "    df[(df['API Well Number']==31013014800000)|\n",
    "       (df['API Well Number']==31013117500000)].index,inplace = True)"
   ]
  },
  {
   "cell_type": "code",
   "execution_count": 76,
   "metadata": {},
   "outputs": [],
   "source": [
    "# df['API Well Number'].nunique()"
   ]
  },
  {
   "cell_type": "markdown",
   "metadata": {},
   "source": [
    "### fix NaN values in DF"
   ]
  },
  {
   "cell_type": "code",
   "execution_count": 77,
   "metadata": {},
   "outputs": [
    {
     "name": "stdout",
     "output_type": "stream",
     "text": [
      "<class 'pandas.core.frame.DataFrame'>\n",
      "Int64Index: 121092 entries, 0 to 121157\n",
      "Data columns (total 8 columns):\n",
      "API Well Number         121092 non-null int64\n",
      "Year                    121092 non-null int64\n",
      "Operator                121092 non-null object\n",
      "OIL (Bbls)              102490 non-null float64\n",
      "GAS (Mcf)               120615 non-null float64\n",
      "WATER (Bbls)            116389 non-null float64\n",
      "Months in Production    120186 non-null float64\n",
      "Well Type               121092 non-null object\n",
      "dtypes: float64(4), int64(2), object(2)\n",
      "memory usage: 8.3+ MB\n"
     ]
    }
   ],
   "source": [
    "df.info()"
   ]
  },
  {
   "cell_type": "code",
   "execution_count": 78,
   "metadata": {},
   "outputs": [
    {
     "data": {
      "text/html": [
       "<div>\n",
       "<style scoped>\n",
       "    .dataframe tbody tr th:only-of-type {\n",
       "        vertical-align: middle;\n",
       "    }\n",
       "\n",
       "    .dataframe tbody tr th {\n",
       "        vertical-align: top;\n",
       "    }\n",
       "\n",
       "    .dataframe thead th {\n",
       "        text-align: right;\n",
       "    }\n",
       "</style>\n",
       "<table border=\"1\" class=\"dataframe\">\n",
       "  <thead>\n",
       "    <tr style=\"text-align: right;\">\n",
       "      <th></th>\n",
       "      <th>API Well Number</th>\n",
       "      <th>Year</th>\n",
       "      <th>OIL (Bbls)</th>\n",
       "      <th>GAS (Mcf)</th>\n",
       "      <th>WATER (Bbls)</th>\n",
       "      <th>Months in Production</th>\n",
       "    </tr>\n",
       "  </thead>\n",
       "  <tbody>\n",
       "    <tr>\n",
       "      <td>count</td>\n",
       "      <td>1.210920e+05</td>\n",
       "      <td>121092.000000</td>\n",
       "      <td>102490.000000</td>\n",
       "      <td>120615.000000</td>\n",
       "      <td>116389.000000</td>\n",
       "      <td>120186.000000</td>\n",
       "    </tr>\n",
       "    <tr>\n",
       "      <td>mean</td>\n",
       "      <td>3.101271e+13</td>\n",
       "      <td>2003.429343</td>\n",
       "      <td>4.756476</td>\n",
       "      <td>2280.396301</td>\n",
       "      <td>28.448645</td>\n",
       "      <td>10.109256</td>\n",
       "    </tr>\n",
       "    <tr>\n",
       "      <td>std</td>\n",
       "      <td>1.390094e+09</td>\n",
       "      <td>9.821659</td>\n",
       "      <td>254.223286</td>\n",
       "      <td>4841.434300</td>\n",
       "      <td>392.700151</td>\n",
       "      <td>8.729425</td>\n",
       "    </tr>\n",
       "    <tr>\n",
       "      <td>min</td>\n",
       "      <td>3.100902e+13</td>\n",
       "      <td>1966.000000</td>\n",
       "      <td>0.000000</td>\n",
       "      <td>-16.000000</td>\n",
       "      <td>0.000000</td>\n",
       "      <td>0.000000</td>\n",
       "    </tr>\n",
       "    <tr>\n",
       "      <td>25%</td>\n",
       "      <td>3.101312e+13</td>\n",
       "      <td>1995.000000</td>\n",
       "      <td>0.000000</td>\n",
       "      <td>397.000000</td>\n",
       "      <td>0.000000</td>\n",
       "      <td>10.000000</td>\n",
       "    </tr>\n",
       "    <tr>\n",
       "      <td>50%</td>\n",
       "      <td>3.101315e+13</td>\n",
       "      <td>2004.000000</td>\n",
       "      <td>0.000000</td>\n",
       "      <td>1184.000000</td>\n",
       "      <td>0.000000</td>\n",
       "      <td>12.000000</td>\n",
       "    </tr>\n",
       "    <tr>\n",
       "      <td>75%</td>\n",
       "      <td>3.101319e+13</td>\n",
       "      <td>2012.000000</td>\n",
       "      <td>0.000000</td>\n",
       "      <td>2481.000000</td>\n",
       "      <td>6.000000</td>\n",
       "      <td>12.000000</td>\n",
       "    </tr>\n",
       "    <tr>\n",
       "      <td>max</td>\n",
       "      <td>3.102926e+13</td>\n",
       "      <td>2019.000000</td>\n",
       "      <td>61710.000000</td>\n",
       "      <td>269741.000000</td>\n",
       "      <td>55834.000000</td>\n",
       "      <td>370.000000</td>\n",
       "    </tr>\n",
       "  </tbody>\n",
       "</table>\n",
       "</div>"
      ],
      "text/plain": [
       "       API Well Number           Year     OIL (Bbls)      GAS (Mcf)  \\\n",
       "count     1.210920e+05  121092.000000  102490.000000  120615.000000   \n",
       "mean      3.101271e+13    2003.429343       4.756476    2280.396301   \n",
       "std       1.390094e+09       9.821659     254.223286    4841.434300   \n",
       "min       3.100902e+13    1966.000000       0.000000     -16.000000   \n",
       "25%       3.101312e+13    1995.000000       0.000000     397.000000   \n",
       "50%       3.101315e+13    2004.000000       0.000000    1184.000000   \n",
       "75%       3.101319e+13    2012.000000       0.000000    2481.000000   \n",
       "max       3.102926e+13    2019.000000   61710.000000  269741.000000   \n",
       "\n",
       "        WATER (Bbls)  Months in Production  \n",
       "count  116389.000000         120186.000000  \n",
       "mean       28.448645             10.109256  \n",
       "std       392.700151              8.729425  \n",
       "min         0.000000              0.000000  \n",
       "25%         0.000000             10.000000  \n",
       "50%         0.000000             12.000000  \n",
       "75%         6.000000             12.000000  \n",
       "max     55834.000000            370.000000  "
      ]
     },
     "execution_count": 78,
     "metadata": {},
     "output_type": "execute_result"
    }
   ],
   "source": [
    "df.describe()"
   ]
  },
  {
   "cell_type": "code",
   "execution_count": 79,
   "metadata": {},
   "outputs": [],
   "source": [
    "### Lets fill NaN values with median as it will show 0 for oil and water, \n",
    "### and 12 month in production\n",
    "df['OIL (Bbls)'].fillna(df['OIL (Bbls)'].dropna().median(), inplace = True)\n",
    "df['WATER (Bbls)'].fillna(df['WATER (Bbls)'].dropna().median(), inplace = True)\n",
    "df['Months in Production'].fillna(df['Months in Production'].dropna().median(), inplace = True)"
   ]
  },
  {
   "cell_type": "code",
   "execution_count": 80,
   "metadata": {},
   "outputs": [],
   "source": [
    "df['GAS (Mcf)'].fillna(0, inplace = True)"
   ]
  },
  {
   "cell_type": "code",
   "execution_count": 81,
   "metadata": {},
   "outputs": [
    {
     "name": "stdout",
     "output_type": "stream",
     "text": [
      "<class 'pandas.core.frame.DataFrame'>\n",
      "Int64Index: 121092 entries, 0 to 121157\n",
      "Data columns (total 8 columns):\n",
      "API Well Number         121092 non-null int64\n",
      "Year                    121092 non-null int64\n",
      "Operator                121092 non-null object\n",
      "OIL (Bbls)              121092 non-null float64\n",
      "GAS (Mcf)               121092 non-null float64\n",
      "WATER (Bbls)            121092 non-null float64\n",
      "Months in Production    121092 non-null float64\n",
      "Well Type               121092 non-null object\n",
      "dtypes: float64(4), int64(2), object(2)\n",
      "memory usage: 8.3+ MB\n"
     ]
    }
   ],
   "source": [
    "df.info()"
   ]
  },
  {
   "cell_type": "code",
   "execution_count": 82,
   "metadata": {},
   "outputs": [
    {
     "data": {
      "text/plain": [
       "array([1988, 1989, 1990, 1991, 1992, 1993, 1994, 1998, 1999, 2000, 2001,\n",
       "       2002, 2003, 2004, 2005, 2006, 2007, 2008, 2009, 2010, 2011, 2012,\n",
       "       2013, 2014, 2015, 2016, 2017, 2018, 2019, 1987, 1995, 1996, 1997,\n",
       "       1986, 1966, 1983, 1985, 1975, 1976, 1977, 1978, 1979, 1980, 1981,\n",
       "       1982, 1984])"
      ]
     },
     "execution_count": 82,
     "metadata": {},
     "output_type": "execute_result"
    }
   ],
   "source": [
    "df['Year'].unique()"
   ]
  },
  {
   "cell_type": "code",
   "execution_count": 83,
   "metadata": {},
   "outputs": [],
   "source": [
    "# df['Year'].value_counts()"
   ]
  },
  {
   "cell_type": "code",
   "execution_count": 84,
   "metadata": {},
   "outputs": [
    {
     "data": {
      "text/plain": [
       "(array(['GD'], dtype=object),\n",
       " array(['GD', 'Dry Hole', 'Gas Development', 'Not Listed', 'OD',\n",
       "        'Gas Wildcat', 'GAS', 'G', 'Oil Development'], dtype=object))"
      ]
     },
     "execution_count": 84,
     "metadata": {},
     "output_type": "execute_result"
    }
   ],
   "source": [
    "# check if can drop well type columns for both\n",
    "fld['Well Type'].unique(), df['Well Type'].unique()"
   ]
  },
  {
   "cell_type": "code",
   "execution_count": 85,
   "metadata": {},
   "outputs": [],
   "source": [
    "# drop Well type as only Gas Wells is considered in df\n",
    "del fld['Well Type'], df['Well Type']"
   ]
  },
  {
   "cell_type": "code",
   "execution_count": 86,
   "metadata": {},
   "outputs": [],
   "source": [
    "fld['Original Well Type'].unique()\n",
    "del fld['Original Well Type']"
   ]
  },
  {
   "cell_type": "code",
   "execution_count": 87,
   "metadata": {},
   "outputs": [],
   "source": [
    "# drop proposed depth as it not true depth\n",
    "del fld['Proposed Depth, ft']"
   ]
  },
  {
   "cell_type": "code",
   "execution_count": 88,
   "metadata": {},
   "outputs": [],
   "source": [
    "fld['Kickoff, ft'].unique()\n",
    "del fld['Kickoff, ft']"
   ]
  },
  {
   "cell_type": "code",
   "execution_count": 89,
   "metadata": {},
   "outputs": [],
   "source": [
    "fld['Producing Field'].unique()\n",
    "del fld['Producing Field']"
   ]
  },
  {
   "cell_type": "code",
   "execution_count": 90,
   "metadata": {},
   "outputs": [],
   "source": [
    "fld['Slant'].unique()\n",
    "del fld['Slant']"
   ]
  },
  {
   "cell_type": "code",
   "execution_count": 91,
   "metadata": {},
   "outputs": [],
   "source": [
    "fld['Region'].unique()\n",
    "del fld['Region']"
   ]
  },
  {
   "cell_type": "code",
   "execution_count": 92,
   "metadata": {},
   "outputs": [
    {
     "data": {
      "text/plain": [
       "array(['AC', 'IN', 'SI', 'NR', 'PB', 'UL'], dtype=object)"
      ]
     },
     "execution_count": 92,
     "metadata": {},
     "output_type": "execute_result"
    }
   ],
   "source": [
    "fld['Well Status '].unique()"
   ]
  },
  {
   "cell_type": "markdown",
   "metadata": {},
   "source": [
    "### EDA"
   ]
  },
  {
   "cell_type": "code",
   "execution_count": 93,
   "metadata": {},
   "outputs": [
    {
     "data": {
      "text/plain": [
       "Index(['API Well Number', 'Year', 'Operator', 'OIL (Bbls)', 'GAS (Mcf)',\n",
       "       'WATER (Bbls)', 'Months in Production'],\n",
       "      dtype='object')"
      ]
     },
     "execution_count": 93,
     "metadata": {},
     "output_type": "execute_result"
    }
   ],
   "source": [
    "df.columns"
   ]
  },
  {
   "cell_type": "code",
   "execution_count": 94,
   "metadata": {},
   "outputs": [
    {
     "data": {
      "text/plain": [
       "Index(['API Well Number', 'County Code', 'Completion', 'Operator Number',\n",
       "       'Well Status ', 'Quad', 'Quad Section', 'Producing Formation', 'County',\n",
       "       'Surface Longitude', 'Surface Latitude', 'Bottom Hole Longitude',\n",
       "       'Bottom Hole Latitude', 'True Vertical Depth, ft', 'Measured Depth, ft',\n",
       "       'Drilled Depth, ft', 'Elevation, ft', 'Completion year'],\n",
       "      dtype='object')"
      ]
     },
     "execution_count": 94,
     "metadata": {},
     "output_type": "execute_result"
    }
   ],
   "source": [
    "fld.columns"
   ]
  },
  {
   "cell_type": "code",
   "execution_count": 95,
   "metadata": {},
   "outputs": [
    {
     "data": {
      "text/plain": [
       "Medina            3924\n",
       "Grimsby             78\n",
       "Whirlpool            9\n",
       "Onondaga             6\n",
       "Upper Devonian       2\n",
       "Unknown              1\n",
       "Camillus             1\n",
       "Tully                1\n",
       "Bass Island          1\n",
       "Name: Producing Formation, dtype: int64"
      ]
     },
     "execution_count": 95,
     "metadata": {},
     "output_type": "execute_result"
    }
   ],
   "source": [
    "fld['Producing Formation'].value_counts()"
   ]
  },
  {
   "cell_type": "code",
   "execution_count": 96,
   "metadata": {},
   "outputs": [],
   "source": [
    "# fld[['API Well Number','Surface Longitude', 'Surface Latitude']].plot()\n",
    "# fld[['Surface Longitude', 'Surface Latitude']].plot()\n",
    "# plt.scatter(fld['Surface Longitude'], fld['Surface Latitude'])"
   ]
  },
  {
   "cell_type": "code",
   "execution_count": 97,
   "metadata": {},
   "outputs": [
    {
     "data": {
      "image/png": "[encoded data removed]",
      "text/plain": [
       "<Figure size 720x720 with 1 Axes>"
      ]
     },
     "metadata": {
      "needs_background": "light"
     },
     "output_type": "display_data"
    }
   ],
   "source": [
    "fig = plt.figure(figsize=(10,10))\n",
    "ax = fig.add_subplot(111, projection='3d')\n",
    "\n",
    "# need to convert long and lat degrees to State Plane Coordinates: East & North in feet or meters\n",
    "# see refernce for conversion:\n",
    "# https://www.iogp.org/wp-content/uploads/2019/09/373-07-02.pdf\n",
    "# https://community.esri.com/thread/106211\n",
    "# https://pubs.usgs.gov/pp/1395/report.pdf    \n",
    "\n",
    "\n",
    "# This is a visual without conversion\n",
    "xs, ys = fld['Surface Longitude'], fld['Surface Latitude']\n",
    "zs = 0\n",
    "\n",
    "# xs =[1,2,3,4,5,6,7,8,9,10]\n",
    "# ys =[5,6,2,3,13,4,1,2,4,8]\n",
    "# zs =[2,3,3,3,5,7,9,11,9,10]\n",
    "\n",
    "# xt =[-1,-2,-3,-4,-5,-6,-7,8,-9,-10]\n",
    "# yt =[-5,-6,-2,-3,-13,-4,-1,2,-4,-8]\n",
    "# zt =[-2,-3,-3,-3,-5,-7,9,-11,-9,-10]\n",
    "\n",
    "ax.scatter(xs, ys, zs, c='g', marker='o')\n",
    "# ax.scatter(xt, yt, zt, c='b', marker='^')\n",
    "\n",
    "ax.set_xlabel('Longitude')\n",
    "ax.set_ylabel('Latitude')\n",
    "ax.set_zlabel('Elevation, ft')\n",
    "\n",
    "plt.show()"
   ]
  },
  {
   "cell_type": "code",
   "execution_count": 98,
   "metadata": {},
   "outputs": [
    {
     "data": {
      "text/plain": [
       "<matplotlib.collections.PathCollection at 0x7faad811b6a0>"
      ]
     },
     "execution_count": 98,
     "metadata": {},
     "output_type": "execute_result"
    },
    {
     "data": {
      "image/png": "[encoded data removed]",
      "text/plain": [
       "<Figure size 432x288 with 1 Axes>"
      ]
     },
     "metadata": {
      "needs_background": "light"
     },
     "output_type": "display_data"
    }
   ],
   "source": [
    "# fld['Surface Longitude'], # fld['Surface Latitude']\n",
    "\n",
    "plt.scatter(fld['True Vertical Depth, ft'],fld['True Vertical Depth, ft'])#, s=area, c=colors, alpha=0.5)"
   ]
  },
  {
   "cell_type": "code",
   "execution_count": 99,
   "metadata": {},
   "outputs": [
    {
     "data": {
      "text/plain": [
       "<matplotlib.collections.PathCollection at 0x7faad80d1b70>"
      ]
     },
     "execution_count": 99,
     "metadata": {},
     "output_type": "execute_result"
    },
    {
     "data": {
      "image/png": "[encoded data removed]",
      "text/plain": [
       "<Figure size 432x288 with 1 Axes>"
      ]
     },
     "metadata": {
      "needs_background": "light"
     },
     "output_type": "display_data"
    }
   ],
   "source": [
    "plt.scatter(fld['Well Status '],fld['Producing Formation'])#, s=area, c=colors, alpha=0.5)\n"
   ]
  },
  {
   "cell_type": "code",
   "execution_count": 100,
   "metadata": {},
   "outputs": [],
   "source": [
    "# fld.head()"
   ]
  },
  {
   "cell_type": "code",
   "execution_count": 101,
   "metadata": {},
   "outputs": [
    {
     "data": {
      "text/html": [
       "<div>\n",
       "<style scoped>\n",
       "    .dataframe tbody tr th:only-of-type {\n",
       "        vertical-align: middle;\n",
       "    }\n",
       "\n",
       "    .dataframe tbody tr th {\n",
       "        vertical-align: top;\n",
       "    }\n",
       "\n",
       "    .dataframe thead th {\n",
       "        text-align: right;\n",
       "    }\n",
       "</style>\n",
       "<table border=\"1\" class=\"dataframe\">\n",
       "  <thead>\n",
       "    <tr style=\"text-align: right;\">\n",
       "      <th></th>\n",
       "      <th>API Well Number</th>\n",
       "      <th>Year</th>\n",
       "      <th>Operator</th>\n",
       "      <th>OIL (Bbls)</th>\n",
       "      <th>GAS (Mcf)</th>\n",
       "      <th>WATER (Bbls)</th>\n",
       "      <th>Months in Production</th>\n",
       "    </tr>\n",
       "  </thead>\n",
       "  <tbody>\n",
       "    <tr>\n",
       "      <td>0</td>\n",
       "      <td>31009019120000</td>\n",
       "      <td>1988</td>\n",
       "      <td>Sager, Howard &amp; Judith</td>\n",
       "      <td>0.0</td>\n",
       "      <td>500.0</td>\n",
       "      <td>0.0</td>\n",
       "      <td>12.0</td>\n",
       "    </tr>\n",
       "    <tr>\n",
       "      <td>1</td>\n",
       "      <td>31009019120000</td>\n",
       "      <td>1989</td>\n",
       "      <td>Sager, Howard &amp; Judith</td>\n",
       "      <td>0.0</td>\n",
       "      <td>500.0</td>\n",
       "      <td>0.0</td>\n",
       "      <td>0.0</td>\n",
       "    </tr>\n",
       "    <tr>\n",
       "      <td>2</td>\n",
       "      <td>31009019120000</td>\n",
       "      <td>1990</td>\n",
       "      <td>Sager, Howard &amp; Judith</td>\n",
       "      <td>0.0</td>\n",
       "      <td>500.0</td>\n",
       "      <td>0.0</td>\n",
       "      <td>12.0</td>\n",
       "    </tr>\n",
       "    <tr>\n",
       "      <td>3</td>\n",
       "      <td>31009019120000</td>\n",
       "      <td>1991</td>\n",
       "      <td>Sager, Howard &amp; Judith</td>\n",
       "      <td>0.0</td>\n",
       "      <td>500.0</td>\n",
       "      <td>0.0</td>\n",
       "      <td>12.0</td>\n",
       "    </tr>\n",
       "    <tr>\n",
       "      <td>4</td>\n",
       "      <td>31009019120000</td>\n",
       "      <td>1992</td>\n",
       "      <td>Sager, Howard &amp; Judith</td>\n",
       "      <td>0.0</td>\n",
       "      <td>500.0</td>\n",
       "      <td>0.0</td>\n",
       "      <td>12.0</td>\n",
       "    </tr>\n",
       "  </tbody>\n",
       "</table>\n",
       "</div>"
      ],
      "text/plain": [
       "   API Well Number  Year                Operator  OIL (Bbls)  GAS (Mcf)  \\\n",
       "0   31009019120000  1988  Sager, Howard & Judith         0.0      500.0   \n",
       "1   31009019120000  1989  Sager, Howard & Judith         0.0      500.0   \n",
       "2   31009019120000  1990  Sager, Howard & Judith         0.0      500.0   \n",
       "3   31009019120000  1991  Sager, Howard & Judith         0.0      500.0   \n",
       "4   31009019120000  1992  Sager, Howard & Judith         0.0      500.0   \n",
       "\n",
       "   WATER (Bbls)  Months in Production  \n",
       "0           0.0                  12.0  \n",
       "1           0.0                   0.0  \n",
       "2           0.0                  12.0  \n",
       "3           0.0                  12.0  \n",
       "4           0.0                  12.0  "
      ]
     },
     "execution_count": 101,
     "metadata": {},
     "output_type": "execute_result"
    }
   ],
   "source": [
    "df.head()"
   ]
  },
  {
   "cell_type": "code",
   "execution_count": 102,
   "metadata": {},
   "outputs": [
    {
     "data": {
      "image/png": "[encoded data removed]",
      "text/plain": [
       "<Figure size 432x288 with 1 Axes>"
      ]
     },
     "metadata": {
      "needs_background": "light"
     },
     "output_type": "display_data"
    }
   ],
   "source": [
    "# drilled depth\n",
    "num_bins = 30\n",
    "x= fld['Drilled Depth, ft']\n",
    "n, bins, patches = plt.hist(x, num_bins,facecolor='blue')"
   ]
  },
  {
   "cell_type": "code",
   "execution_count": 103,
   "metadata": {},
   "outputs": [
    {
     "data": {
      "image/png": "[encoded data removed]",
      "text/plain": [
       "<Figure size 432x288 with 1 Axes>"
      ]
     },
     "metadata": {
      "needs_background": "light"
     },
     "output_type": "display_data"
    }
   ],
   "source": [
    "## average gas production distribution\n",
    "\n",
    "df.groupby(df['API Well Number'])['GAS (Mcf)'].mean()\n",
    "\n",
    "num_bins = 20\n",
    "x= df.groupby(df['API Well Number'])['GAS (Mcf)'].mean()\n",
    "n, bins, patches = plt.hist(x, num_bins,facecolor='green')"
   ]
  },
  {
   "cell_type": "code",
   "execution_count": 104,
   "metadata": {},
   "outputs": [
    {
     "data": {
      "image/png": "[encoded data removed]",
      "text/plain": [
       "<Figure size 432x288 with 1 Axes>"
      ]
     },
     "metadata": {
      "needs_background": "light"
     },
     "output_type": "display_data"
    }
   ],
   "source": [
    "## average water distribution\n",
    "\n",
    "# df.groupby(df['API Well Number'])['GAS (Mcf)'].mean()\n",
    "\n",
    "num_bins = 40\n",
    "x= df.groupby(df['API Well Number'])['WATER (Bbls)'].mean()\n",
    "n, bins, patches = plt.hist(x, num_bins)"
   ]
  },
  {
   "cell_type": "code",
   "execution_count": 105,
   "metadata": {},
   "outputs": [
    {
     "data": {
      "image/png": "[encoded data removed]",
      "text/plain": [
       "<Figure size 432x288 with 1 Axes>"
      ]
     },
     "metadata": {
      "needs_background": "light"
     },
     "output_type": "display_data"
    }
   ],
   "source": [
    "## average oil distribution\n",
    "\n",
    "# df.groupby(df['API Well Number'])['GAS (Mcf)'].mean()\n",
    "\n",
    "num_bins = 20\n",
    "x= df.groupby(df['API Well Number'])['OIL (Bbls)'].mean()\n",
    "n, bins, patches = plt.hist(x, num_bins)"
   ]
  },
  {
   "cell_type": "markdown",
   "metadata": {},
   "source": [
    "### Fix zero gas production years - "
   ]
  },
  {
   "cell_type": "code",
   "execution_count": 127,
   "metadata": {},
   "outputs": [
    {
     "data": {
      "text/plain": [
       "4720      31009172090000\n",
       "4721      31009172090000\n",
       "4722      31009172090000\n",
       "4723      31009172090000\n",
       "4724      31009172090000\n",
       "               ...      \n",
       "121045    31029241880000\n",
       "121046    31029241880000\n",
       "121074    31029247420000\n",
       "121136    31029254720000\n",
       "121147    31029255050000\n",
       "Name: API Well Number, Length: 10295, dtype: int64"
      ]
     },
     "execution_count": 127,
     "metadata": {},
     "output_type": "execute_result"
    }
   ],
   "source": [
    "## number of years with non zero production\n",
    "\n",
    "df[df['GAS (Mcf)'] < 0.1]['API Well Number'][600:]"
   ]
  },
  {
   "cell_type": "code",
   "execution_count": 150,
   "metadata": {},
   "outputs": [],
   "source": [
    "# zero gas production well\n",
    "# df[df['API Well Number']==31009172090000]"
   ]
  },
  {
   "cell_type": "markdown",
   "metadata": {},
   "source": [
    "### Plot total gas production each year"
   ]
  },
  {
   "cell_type": "code",
   "execution_count": 135,
   "metadata": {},
   "outputs": [
    {
     "data": {
      "text/plain": [
       "(3623463.0, 3903685.0)"
      ]
     },
     "execution_count": 135,
     "metadata": {},
     "output_type": "execute_result"
    }
   ],
   "source": [
    "df.loc[df['Year']==2018]['GAS (Mcf)'].sum(), df.loc[df['Year']==2019]['GAS (Mcf)'].sum()"
   ]
  },
  {
   "cell_type": "code",
   "execution_count": 151,
   "metadata": {},
   "outputs": [],
   "source": [
    "# len(df.loc[df['Year']==2018]),len(df.loc[df['Year']==2019])\n",
    "# set(df.loc[df['Year']==2019]['API Well Number'])-set(df.loc[df['Year']==2015]['API Well Number'])\n",
    "# df.loc[df['API Well Number']==31013224010000]"
   ]
  },
  {
   "cell_type": "code",
   "execution_count": 161,
   "metadata": {},
   "outputs": [
    {
     "name": "stdout",
     "output_type": "stream",
     "text": [
      "{1966, 1975, 1976, 1977, 1978, 1979, 1980, 1981, 1982, 1983, 1984, 1985, 1986, 1987, 1988, 1989, 1990, 1991, 1992, 1993, 1994, 1995, 1996, 1997, 1998, 1999, 2000, 2001, 2002, 2003, 2004, 2005, 2006, 2007, 2008, 2009, 2010, 2011, 2012, 2013, 2014, 2015, 2016, 2017, 2018, 2019}\n"
     ]
    }
   ],
   "source": [
    "print(set(df[\"Year\"]))"
   ]
  },
  {
   "cell_type": "code",
   "execution_count": 162,
   "metadata": {},
   "outputs": [],
   "source": [
    "yearly_production = {}\n",
    "for year in set(df[\"Year\"]):\n",
    "    yearly_production[year]=df.loc[df['Year']==year]['GAS (Mcf)'].sum()"
   ]
  },
  {
   "cell_type": "code",
   "execution_count": 179,
   "metadata": {},
   "outputs": [
    {
     "data": {
      "image/png": "[encoded data removed]",
      "text/plain": [
       "<Figure size 720x504 with 1 Axes>"
      ]
     },
     "metadata": {
      "needs_background": "light"
     },
     "output_type": "display_data"
    }
   ],
   "source": [
    "plt.figure(figsize=(10,7))\n",
    "plt.scatter(yearly_production.keys(),yearly_production.values())\n",
    "plt.title('Gas production historical trend [Mcf]')\n",
    "plt.show()"
   ]
  },
  {
   "cell_type": "code",
   "execution_count": null,
   "metadata": {},
   "outputs": [],
   "source": []
  }
 ],
 "metadata": {
  "kernelspec": {
   "display_name": "Python 3",
   "language": "python",
   "name": "python3"
  },
  "language_info": {
   "codemirror_mode": {
    "name": "ipython",
    "version": 3
   },
   "file_extension": ".py",
   "mimetype": "text/x-python",
   "name": "python",
   "nbconvert_exporter": "python",
   "pygments_lexer": "ipython3",
   "version": "3.6.9"
  }
 },
 "nbformat": 4,
 "nbformat_minor": 2
}

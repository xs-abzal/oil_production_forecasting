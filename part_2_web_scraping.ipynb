{
 "cells": [
  {
   "cell_type": "markdown",
   "metadata": {},
   "source": [
    "## Data Scraping\n",
    "### Testing with one well API"
   ]
  },
  {
   "cell_type": "code",
   "execution_count": 49,
   "metadata": {},
   "outputs": [],
   "source": [
    "import pandas as pd\n",
    "\n",
    "import requests\n",
    "from bs4 import BeautifulSoup\n",
    "import selenium"
   ]
  },
  {
   "cell_type": "code",
   "execution_count": 50,
   "metadata": {},
   "outputs": [],
   "source": [
    "# lakeshore gas field data\n",
    "fld = pd.read_csv('fld.csv')"
   ]
  },
  {
   "cell_type": "code",
   "execution_count": 109,
   "metadata": {},
   "outputs": [
    {
     "data": {
      "text/html": [
       "<div>\n",
       "<style scoped>\n",
       "    .dataframe tbody tr th:only-of-type {\n",
       "        vertical-align: middle;\n",
       "    }\n",
       "\n",
       "    .dataframe tbody tr th {\n",
       "        vertical-align: top;\n",
       "    }\n",
       "\n",
       "    .dataframe thead th {\n",
       "        text-align: right;\n",
       "    }\n",
       "</style>\n",
       "<table border=\"1\" class=\"dataframe\">\n",
       "  <thead>\n",
       "    <tr style=\"text-align: right;\">\n",
       "      <th></th>\n",
       "      <th>API Well Number</th>\n",
       "      <th>County Code</th>\n",
       "      <th>API Hole Number</th>\n",
       "      <th>Sidetrack</th>\n",
       "      <th>Completion</th>\n",
       "      <th>Well Name</th>\n",
       "      <th>Company Name</th>\n",
       "      <th>Operator Number</th>\n",
       "      <th>Well Type</th>\n",
       "      <th>Map Symbol</th>\n",
       "      <th>...</th>\n",
       "      <th>Permit Fee</th>\n",
       "      <th>Objective Formation</th>\n",
       "      <th>Depth Fee</th>\n",
       "      <th>Spacing</th>\n",
       "      <th>Spacing Acres</th>\n",
       "      <th>Integration</th>\n",
       "      <th>Hearing Date</th>\n",
       "      <th>Date Last Modified</th>\n",
       "      <th>DEC Database Link</th>\n",
       "      <th>Location 1</th>\n",
       "    </tr>\n",
       "  </thead>\n",
       "  <tbody>\n",
       "    <tr>\n",
       "      <td>0</td>\n",
       "      <td>31009008540000</td>\n",
       "      <td>9</td>\n",
       "      <td>854</td>\n",
       "      <td>0</td>\n",
       "      <td>0</td>\n",
       "      <td>Marsh William 1</td>\n",
       "      <td>Belmont Quadrangle Drilling</td>\n",
       "      <td>9034</td>\n",
       "      <td>GD</td>\n",
       "      <td>GWP</td>\n",
       "      <td>...</td>\n",
       "      <td>0.0</td>\n",
       "      <td>NaN</td>\n",
       "      <td>0.0</td>\n",
       "      <td>NaN</td>\n",
       "      <td>NaN</td>\n",
       "      <td>NaN</td>\n",
       "      <td>NaN</td>\n",
       "      <td>1999-04-05T00:00:00</td>\n",
       "      <td>{'url': 'http://www.dec.ny.gov/cfmx/extapps/Ga...</td>\n",
       "      <td>{'longitude': '-79.02566', 'needs_recoding': F...</td>\n",
       "    </tr>\n",
       "    <tr>\n",
       "      <td>1</td>\n",
       "      <td>31009008550000</td>\n",
       "      <td>9</td>\n",
       "      <td>855</td>\n",
       "      <td>0</td>\n",
       "      <td>0</td>\n",
       "      <td>Greely Clyde 1</td>\n",
       "      <td>Belmont Quadrangle Drilling</td>\n",
       "      <td>9034</td>\n",
       "      <td>GD</td>\n",
       "      <td>GWP</td>\n",
       "      <td>...</td>\n",
       "      <td>0.0</td>\n",
       "      <td>NaN</td>\n",
       "      <td>0.0</td>\n",
       "      <td>NaN</td>\n",
       "      <td>NaN</td>\n",
       "      <td>NaN</td>\n",
       "      <td>NaN</td>\n",
       "      <td>1999-04-05T00:00:00</td>\n",
       "      <td>{'url': 'http://www.dec.ny.gov/cfmx/extapps/Ga...</td>\n",
       "      <td>{'longitude': '-79.0092', 'needs_recoding': Fa...</td>\n",
       "    </tr>\n",
       "    <tr>\n",
       "      <td>2</td>\n",
       "      <td>31009008580000</td>\n",
       "      <td>9</td>\n",
       "      <td>858</td>\n",
       "      <td>0</td>\n",
       "      <td>0</td>\n",
       "      <td>Franklin G M 1</td>\n",
       "      <td>Belmont Quadrangle Drilling</td>\n",
       "      <td>9034</td>\n",
       "      <td>GD</td>\n",
       "      <td>GWP</td>\n",
       "      <td>...</td>\n",
       "      <td>0.0</td>\n",
       "      <td>NaN</td>\n",
       "      <td>0.0</td>\n",
       "      <td>NaN</td>\n",
       "      <td>NaN</td>\n",
       "      <td>NaN</td>\n",
       "      <td>NaN</td>\n",
       "      <td>1999-04-05T00:00:00</td>\n",
       "      <td>{'url': 'http://www.dec.ny.gov/cfmx/extapps/Ga...</td>\n",
       "      <td>{'longitude': '-79.02419', 'needs_recoding': F...</td>\n",
       "    </tr>\n",
       "  </tbody>\n",
       "</table>\n",
       "<p>3 rows × 51 columns</p>\n",
       "</div>"
      ],
      "text/plain": [
       "   API Well Number  County Code  API Hole Number  Sidetrack  Completion  \\\n",
       "0   31009008540000            9              854          0           0   \n",
       "1   31009008550000            9              855          0           0   \n",
       "2   31009008580000            9              858          0           0   \n",
       "\n",
       "         Well Name                 Company Name  Operator Number Well Type  \\\n",
       "0  Marsh William 1  Belmont Quadrangle Drilling             9034        GD   \n",
       "1   Greely Clyde 1  Belmont Quadrangle Drilling             9034        GD   \n",
       "2   Franklin G M 1  Belmont Quadrangle Drilling             9034        GD   \n",
       "\n",
       "  Map Symbol  ... Permit Fee Objective Formation Depth Fee Spacing  \\\n",
       "0        GWP  ...        0.0                 NaN       0.0     NaN   \n",
       "1        GWP  ...        0.0                 NaN       0.0     NaN   \n",
       "2        GWP  ...        0.0                 NaN       0.0     NaN   \n",
       "\n",
       "  Spacing Acres Integration Hearing Date   Date Last Modified  \\\n",
       "0           NaN         NaN          NaN  1999-04-05T00:00:00   \n",
       "1           NaN         NaN          NaN  1999-04-05T00:00:00   \n",
       "2           NaN         NaN          NaN  1999-04-05T00:00:00   \n",
       "\n",
       "                                   DEC Database Link  \\\n",
       "0  {'url': 'http://www.dec.ny.gov/cfmx/extapps/Ga...   \n",
       "1  {'url': 'http://www.dec.ny.gov/cfmx/extapps/Ga...   \n",
       "2  {'url': 'http://www.dec.ny.gov/cfmx/extapps/Ga...   \n",
       "\n",
       "                                          Location 1  \n",
       "0  {'longitude': '-79.02566', 'needs_recoding': F...  \n",
       "1  {'longitude': '-79.0092', 'needs_recoding': Fa...  \n",
       "2  {'longitude': '-79.02419', 'needs_recoding': F...  \n",
       "\n",
       "[3 rows x 51 columns]"
      ]
     },
     "execution_count": 109,
     "metadata": {},
     "output_type": "execute_result"
    }
   ],
   "source": [
    "fld.head(3)"
   ]
  },
  {
   "cell_type": "code",
   "execution_count": 104,
   "metadata": {},
   "outputs": [
    {
     "data": {
      "text/plain": [
       "0    31009008540000\n",
       "1    31009008550000\n",
       "2    31009008580000\n",
       "3    31009008590000\n",
       "Name: API Well Number, dtype: int64"
      ]
     },
     "execution_count": 104,
     "metadata": {},
     "output_type": "execute_result"
    }
   ],
   "source": [
    "fld.head(4)['API Well Number']"
   ]
  },
  {
   "cell_type": "code",
   "execution_count": 52,
   "metadata": {},
   "outputs": [],
   "source": [
    "url = 'https://www.dec.ny.gov/cfmx/extapps/GasOil/search/production/index.cfm'\n",
    "res = requests.get(url)"
   ]
  },
  {
   "cell_type": "code",
   "execution_count": 53,
   "metadata": {},
   "outputs": [
    {
     "name": "stdout",
     "output_type": "stream",
     "text": [
      "None\n"
     ]
    },
    {
     "data": {
      "text/plain": [
       "bs4.BeautifulSoup"
      ]
     },
     "execution_count": 53,
     "metadata": {},
     "output_type": "execute_result"
    }
   ],
   "source": [
    "print(res.raise_for_status())\n",
    "soup = BeautifulSoup(res.text)\n",
    "type(soup)"
   ]
  },
  {
   "cell_type": "code",
   "execution_count": 54,
   "metadata": {},
   "outputs": [],
   "source": [
    "# print(soup.prettify())"
   ]
  },
  {
   "cell_type": "markdown",
   "metadata": {},
   "source": [
    "## Controlling the Browser with the Selenium Module"
   ]
  },
  {
   "cell_type": "code",
   "execution_count": 55,
   "metadata": {},
   "outputs": [],
   "source": [
    "import time"
   ]
  },
  {
   "cell_type": "code",
   "execution_count": 56,
   "metadata": {},
   "outputs": [],
   "source": [
    "from selenium import webdriver\n",
    "from selenium.webdriver.chrome.options import Options\n",
    "# from selenium.webdriver.common.action_chains import ActionChains\n",
    "## from selenium.webdriver.firefox.options import Options"
   ]
  },
  {
   "cell_type": "code",
   "execution_count": 57,
   "metadata": {},
   "outputs": [],
   "source": [
    "options = Options() "
   ]
  },
  {
   "cell_type": "code",
   "execution_count": 58,
   "metadata": {},
   "outputs": [],
   "source": [
    "# tell selenium where the chromedriver executable is located\n",
    "chrome_path = '/Users/ASM/Downloads/chromedriver'\n",
    "\n",
    "## driver = webdriver.Firefox()\n"
   ]
  },
  {
   "cell_type": "code",
   "execution_count": 59,
   "metadata": {},
   "outputs": [],
   "source": [
    "# to run Chrome in headless mode:\n",
    "# options.add_argument('--headless')\n",
    "\n",
    "# other useful options:\n",
    "# options.add_argument('--ignore-certificate-errors')\n",
    "# options.add_argument('--incognito')"
   ]
  },
  {
   "cell_type": "code",
   "execution_count": 60,
   "metadata": {},
   "outputs": [],
   "source": [
    "# set the window size\n",
    "options.add_argument('--window-size=500,300')\n",
    "\n",
    "# initialize the driver\n",
    "driver = webdriver.Chrome(chrome_path, \n",
    "                          options=options)\n",
    "\n"
   ]
  },
  {
   "cell_type": "code",
   "execution_count": 61,
   "metadata": {},
   "outputs": [],
   "source": [
    "driver.set_window_size(800,900)"
   ]
  },
  {
   "cell_type": "code",
   "execution_count": 62,
   "metadata": {},
   "outputs": [],
   "source": [
    "# driver.minimize_window()\n",
    "# driver.maximize_window()\n",
    "# driver.get_window_position()\n",
    "# driver.get_window_size()\n",
    "# driver.get_window_rect()"
   ]
  },
  {
   "cell_type": "code",
   "execution_count": 75,
   "metadata": {},
   "outputs": [],
   "source": [
    "driver.get(url)\n",
    "time.sleep(5)"
   ]
  },
  {
   "cell_type": "code",
   "execution_count": 96,
   "metadata": {},
   "outputs": [],
   "source": [
    "# element = driver.find_element_by_xpath('//*[@id=\"age\"]')\n",
    "element = driver.find_element_by_xpath('//*[@id=\"ajaxTargetField\"]/input')"
   ]
  },
  {
   "cell_type": "code",
   "execution_count": 97,
   "metadata": {},
   "outputs": [],
   "source": [
    "element.click()"
   ]
  },
  {
   "cell_type": "code",
   "execution_count": null,
   "metadata": {},
   "outputs": [],
   "source": []
  },
  {
   "cell_type": "code",
   "execution_count": 98,
   "metadata": {},
   "outputs": [],
   "source": [
    "element.send_keys('31013105930000')"
   ]
  },
  {
   "cell_type": "code",
   "execution_count": 99,
   "metadata": {},
   "outputs": [],
   "source": [
    "button = driver.find_element_by_xpath('//*[@id=\"searchForm\"]/table/tbody/tr/td[4]/label[1]/input')"
   ]
  },
  {
   "cell_type": "code",
   "execution_count": 100,
   "metadata": {},
   "outputs": [],
   "source": [
    "button.click()"
   ]
  },
  {
   "cell_type": "code",
   "execution_count": 101,
   "metadata": {},
   "outputs": [],
   "source": [
    "page_source = driver.page_source\n",
    "soup = BeautifulSoup(page_source)\n",
    "tables = soup.findAll('table')\n",
    "table = tables[0].prettify()\n",
    "df = pd.read_html(table)[0]"
   ]
  },
  {
   "cell_type": "code",
   "execution_count": 102,
   "metadata": {},
   "outputs": [
    {
     "data": {
      "text/html": [
       "<div>\n",
       "<style scoped>\n",
       "    .dataframe tbody tr th:only-of-type {\n",
       "        vertical-align: middle;\n",
       "    }\n",
       "\n",
       "    .dataframe tbody tr th {\n",
       "        vertical-align: top;\n",
       "    }\n",
       "\n",
       "    .dataframe thead th {\n",
       "        text-align: right;\n",
       "    }\n",
       "</style>\n",
       "<table border=\"1\" class=\"dataframe\">\n",
       "  <thead>\n",
       "    <tr style=\"text-align: right;\">\n",
       "      <th></th>\n",
       "      <th>API Well Number</th>\n",
       "      <th>Well Name</th>\n",
       "      <th>Operator Name</th>\n",
       "      <th>Year</th>\n",
       "      <th>OIL (Bbls)</th>\n",
       "      <th>GAS (Mcf)</th>\n",
       "      <th>WATER (Bbls)</th>\n",
       "      <th>Months in Production</th>\n",
       "      <th>Well Type</th>\n",
       "    </tr>\n",
       "  </thead>\n",
       "  <tbody>\n",
       "    <tr>\n",
       "      <td>0</td>\n",
       "      <td>31013105930000</td>\n",
       "      <td>Green Hoe 'fee' 1</td>\n",
       "      <td>Olde Chautauqua Farms</td>\n",
       "      <td>2019</td>\n",
       "      <td>0.0</td>\n",
       "      <td>1.0</td>\n",
       "      <td>0.0</td>\n",
       "      <td>12</td>\n",
       "      <td>Gas Development</td>\n",
       "    </tr>\n",
       "  </tbody>\n",
       "</table>\n",
       "</div>"
      ],
      "text/plain": [
       "   API Well Number          Well Name          Operator Name  Year  \\\n",
       "0   31013105930000  Green Hoe 'fee' 1  Olde Chautauqua Farms  2019   \n",
       "\n",
       "   OIL (Bbls)  GAS (Mcf)  WATER (Bbls)  Months in Production        Well Type  \n",
       "0         0.0        1.0           0.0                    12  Gas Development  "
      ]
     },
     "execution_count": 102,
     "metadata": {},
     "output_type": "execute_result"
    }
   ],
   "source": [
    "df"
   ]
  },
  {
   "cell_type": "code",
   "execution_count": 110,
   "metadata": {},
   "outputs": [],
   "source": [
    "driver.quit()"
   ]
  },
  {
   "cell_type": "code",
   "execution_count": null,
   "metadata": {},
   "outputs": [],
   "source": []
  },
  {
   "cell_type": "code",
   "execution_count": 3,
   "metadata": {},
   "outputs": [],
   "source": []
  },
  {
   "cell_type": "code",
   "execution_count": null,
   "metadata": {},
   "outputs": [],
   "source": []
  }
 ],
 "metadata": {
  "kernelspec": {
   "display_name": "Python 3",
   "language": "python",
   "name": "python3"
  },
  "language_info": {
   "codemirror_mode": {
    "name": "ipython",
    "version": 3
   },
   "file_extension": ".py",
   "mimetype": "text/x-python",
   "name": "python",
   "nbconvert_exporter": "python",
   "pygments_lexer": "ipython3",
   "version": "3.6.9"
  }
 },
 "nbformat": 4,
 "nbformat_minor": 2
}
